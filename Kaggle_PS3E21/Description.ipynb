{
 "cells": [
  {
   "cell_type": "markdown",
   "metadata": {},
   "source": [
    "<hr style=\"border: none; border-top: 2px dashed gray;\"/>"
   ]
  },
  {
   "cell_type": "markdown",
   "metadata": {},
   "source": [
    "# Improve a Fixed Model the Data-Centric Way!"
   ]
  },
  {
   "cell_type": "markdown",
   "metadata": {},
   "source": [
    "> [대회 링크](https://www.kaggle.com/competitions/playground-series-s3e21)  \n",
    "\n",
    "📈현재 최고 스코어: 1.25448"
   ]
  },
  {
   "cell_type": "markdown",
   "metadata": {},
   "source": [
    "---"
   ]
  },
  {
   "cell_type": "markdown",
   "metadata": {},
   "source": [
    "### ■ Description\n",
    "\\- 실제 데이터에서 인공적으로 생성된 상당히 가벼운 dataset  \n",
    "\\- 다양한 모델 및 기능 엔지니어링 아이디어를 통해 빠르게 반복하고 시각화를 생성하는 기회 제공"
   ]
  },
  {
   "cell_type": "markdown",
   "metadata": {},
   "source": [
    "### ■ Evaluation\n",
    "\\- 예측을 제출하는 대신 랜덤 포레스트 회귀 모델을 훈련하는 데 사용될 dataset 제출  \n",
    "\\- 그후 이 모델은 히든 testset 대한 예측을 수행하는 데 사용  \n",
    "\\- 점수는 testset의 모델 예측과 실제 testset에 대한 RMSE(Root Mean Square Error)로 계산"
   ]
  },
  {
   "cell_type": "markdown",
   "metadata": {},
   "source": [
    "### ■ Model\n",
    "\\- Your submission will be used as a training dataset to train the following model and make predictions against a hidden test dataset."
   ]
  },
  {
   "cell_type": "code",
   "execution_count": null,
   "metadata": {},
   "outputs": [],
   "source": [
    "\"\"\"\n",
    "from sklearn.ensemble import RandomForestRegressor\n",
    "\n",
    "y_train = train.pop('target') # train is your submission!\n",
    "rf = RandomForestRegressor(\n",
    "       n_estimators=1000,\n",
    "       max_depth=7,\n",
    "       n_jobs=-1,\n",
    "       random_state=42)\n",
    "rf.fit(train, y_train)\n",
    "y_hat = rf.predict(test) # test set is hidden from you\n",
    "\"\"\""
   ]
  },
  {
   "cell_type": "markdown",
   "metadata": {},
   "source": [
    "### ■ Submission File \n",
    "\\- random forest model을 훈련하는 데 사용될 dataset을 제출  \n",
    "\\- 제출할 submission에는 sample_submission.csv의 데이터 탭에 있는 모든 열이 포함  \n",
    "\\- NaN 값이 포함 X (NaN 값이 포함되어 있으면 오류 발생)  \n",
    "\\- 제출 시, sample_submission.csv보다 행 수가 적을 수 있지만 행 수는 많지 않을 것임"
   ]
  },
  {
   "cell_type": "markdown",
   "metadata": {},
   "source": [
    "### ■ Timeline\n",
    "> Start Date - August 22, 2023  \n",
    "> Entry Deadline - Same as the Final Submission Deadline  \n",
    "> Team Merger Deadline - Same as the Final Submission Deadline  \n",
    "> Final Submission Deadline - September 11, 2023  \n",
    "\n",
    "All deadlines are at 11:59 PM UTC on the corresponding day unless otherwise noted.  \n",
    "The competition organizers reserve the right to update the contest timeline if they deem it necessary."
   ]
  },
  {
   "cell_type": "markdown",
   "metadata": {},
   "source": [
    "---"
   ]
  },
  {
   "cell_type": "markdown",
   "metadata": {},
   "source": [
    "### ■ Dataset Description\n",
    "- 본 대회의 데이터셋은 하천수 dataset의 용존산소 예측을 기반으로 한 인공 dataset"
   ]
  },
  {
   "cell_type": "markdown",
   "metadata": {},
   "source": []
  }
 ],
 "metadata": {
  "kernelspec": {
   "display_name": "ml_3.10",
   "language": "python",
   "name": "ml_3.10"
  },
  "language_info": {
   "name": "python",
   "version": "3.10.11"
  },
  "orig_nbformat": 4
 },
 "nbformat": 4,
 "nbformat_minor": 2
}
