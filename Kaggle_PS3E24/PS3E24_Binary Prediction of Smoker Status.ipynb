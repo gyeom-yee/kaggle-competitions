{
 "cells": [
  {
   "cell_type": "code",
   "execution_count": 1,
   "metadata": {},
   "outputs": [],
   "source": [
    "import os\n",
    "os.environ['PYTHONIOENCODING'] = 'utf8' # 시스템 기본 인코딩 변경\n",
    "os.environ['LOKY_MAX_CPU_COUNT'] = '4' #\n",
    "# os.environ[\"CUDA_VISIBLE_DEVICES\"] = '0'"
   ]
  },
  {
   "cell_type": "markdown",
   "metadata": {},
   "source": [
    "# 📌Import Module & Load Data"
   ]
  },
  {
   "cell_type": "code",
   "execution_count": 2,
   "metadata": {},
   "outputs": [],
   "source": [
    "import numpy as np\n",
    "import pandas as pd\n",
    "import seaborn as sns\n",
    "import matplotlib.pyplot as plt\n",
    "import tqdm\n",
    "import scipy\n",
    "import torch\n",
    "import math\n",
    "\n",
    "# preprocessing\n",
    "from sklearn.preprocessing import FunctionTransformer, StandardScaler, MinMaxScaler, RobustScaler, QuantileTransformer\n",
    "\n",
    "# cv\n",
    "from sklearn.metrics import roc_auc_score, roc_curve\n",
    "from sklearn.model_selection import train_test_split\n",
    "from sklearn.model_selection import StratifiedKFold, cross_val_score\n",
    "from sklearn.model_selection import cross_val_predict\n",
    "\n",
    "# model\n",
    "from catboost import CatBoostClassifier\n",
    "from sklearn.tree import DecisionTreeClassifier\n",
    "from sklearn.linear_model import LogisticRegression\n",
    "from sklearn.ensemble import RandomForestClassifier, ExtraTreesClassifier, HistGradientBoostingClassifier\n",
    "from xgboost import XGBClassifier\n",
    "from lightgbm import LGBMClassifier\n",
    "# from pytorch_tabnet.tab_model import TabNetClassifier\n",
    "from sklearn.discriminant_analysis import LinearDiscriminantAnalysis\n",
    "from sklearn.kernel_approximation import Nystroem\n",
    "from sklearn.neighbors import KNeighborsClassifier\n",
    "from sklearn.naive_bayes import GaussianNB, BernoulliNB\n",
    "from sklearn.neural_network import MLPClassifier\n",
    "from sklearn.svm import SVC\n",
    "from sklearn.multiclass import OneVsRestClassifier\n",
    "\n",
    "\n",
    "# pipeline & ensemble\n",
    "from sklearn.pipeline import make_pipeline\n",
    "from sklearn.linear_model import RidgeClassifier\n",
    "from sklearn.ensemble import VotingClassifier\n",
    "from sklearn.base import clone\n",
    "\n",
    "# parameter\n",
    "import optuna\n",
    "from optuna.pruners import MedianPruner\n",
    "from optuna.samplers import TPESampler"
   ]
  },
  {
   "cell_type": "code",
   "execution_count": 3,
   "metadata": {},
   "outputs": [],
   "source": [
    "df_train=pd.read_csv('C:/Users/Gyeom/.kaggle/input/playground-series-s3e24/train.csv')\n",
    "df_test=pd.read_csv('C:/Users/Gyeom/.kaggle/input/playground-series-s3e24/test.csv')"
   ]
  },
  {
   "cell_type": "markdown",
   "metadata": {},
   "source": [
    "---"
   ]
  },
  {
   "cell_type": "markdown",
   "metadata": {},
   "source": [
    "# ⚙️Setting"
   ]
  },
  {
   "cell_type": "code",
   "execution_count": 4,
   "metadata": {},
   "outputs": [],
   "source": [
    "ids_test = df_test['id']\n",
    "df_train = df_train.drop(columns='id')\n",
    "df_test = df_test.drop(columns='id')"
   ]
  },
  {
   "cell_type": "code",
   "execution_count": 5,
   "metadata": {},
   "outputs": [
    {
     "name": "stdout",
     "output_type": "stream",
     "text": [
      "(159256, 23)\n",
      "(106171, 22)\n"
     ]
    }
   ],
   "source": [
    "print(df_train.shape)\n",
    "print(df_test.shape)"
   ]
  },
  {
   "cell_type": "code",
   "execution_count": 6,
   "metadata": {},
   "outputs": [],
   "source": [
    "# print(df_train.isna().sum().any())\n",
    "# print(df_test.isna().sum().any())"
   ]
  },
  {
   "cell_type": "code",
   "execution_count": 7,
   "metadata": {},
   "outputs": [
    {
     "data": {
      "text/plain": [
       "['age',\n",
       " 'height(cm)',\n",
       " 'weight(kg)',\n",
       " 'waist(cm)',\n",
       " 'eyesight(left)',\n",
       " 'eyesight(right)',\n",
       " 'hearing(left)',\n",
       " 'hearing(right)',\n",
       " 'systolic',\n",
       " 'relaxation',\n",
       " 'fasting blood sugar',\n",
       " 'Cholesterol',\n",
       " 'triglyceride',\n",
       " 'HDL',\n",
       " 'LDL',\n",
       " 'hemoglobin',\n",
       " 'Urine protein',\n",
       " 'serum creatinine',\n",
       " 'AST',\n",
       " 'ALT',\n",
       " 'Gtp',\n",
       " 'dental caries',\n",
       " 'smoking']"
      ]
     },
     "execution_count": 7,
     "metadata": {},
     "output_type": "execute_result"
    }
   ],
   "source": [
    "df_train.columns.to_list()"
   ]
  },
  {
   "cell_type": "code",
   "execution_count": 8,
   "metadata": {},
   "outputs": [],
   "source": [
    "# df_train.describe()"
   ]
  },
  {
   "cell_type": "code",
   "execution_count": 9,
   "metadata": {},
   "outputs": [],
   "source": [
    "seed = 42\n",
    "n_splits = 10\n",
    "str_kf = StratifiedKFold(n_splits = n_splits, shuffle=True, random_state=seed)"
   ]
  },
  {
   "cell_type": "code",
   "execution_count": 10,
   "metadata": {},
   "outputs": [],
   "source": [
    "# 주어진 데이터를 특성 행렬 (X)과 타겟 벡터 (y)로 분할\n",
    "def generateXY(trainData):\n",
    "    x = trainData.drop(columns='smoking')\n",
    "    y = trainData.smoking\n",
    "    return x,y"
   ]
  },
  {
   "cell_type": "code",
   "execution_count": 11,
   "metadata": {},
   "outputs": [],
   "source": [
    "# def cv_feature(X, y, features, method_name):\n",
    "#     # Drop unuseless features\n",
    "#     for i,val in enumerate(X.columns):\n",
    "#         if val not in features:\n",
    "#             X = X.drop(columns=val)\n",
    "            \n",
    "#     # Initialize KFold object.\n",
    "#     str_kf = StratifiedKFold(n_splits = n_splits, shuffle=True, random_state=seed)\n",
    "\n",
    "#     auc_scores = []\n",
    "\n",
    "#     for train_index, valid_index in str_kf.split(X,y):\n",
    "#         X_train, X_valid = X.iloc[train_index], X.iloc[valid_index]\n",
    "#         y_train, y_valid = y.iloc[train_index], y.iloc[valid_index]\n",
    "\n",
    "#         model = CatBoostClassifier(random_state=seed, logging_level = 'Silent')\n",
    "#         # Model to ensure that it's fresh for each fold.\n",
    "#         model.fit(X_train, y_train)\n",
    "    \n",
    "#         # Predict on the validation data and calculate ROC AUC score.\n",
    "#         val_predictions = model.predict_proba(X_valid)[:, 1]\n",
    "#         roc_auc=roc_auc_score(y_valid, val_predictions)\n",
    "#         auc_scores.append(roc_auc)\n",
    "\n",
    "#     print(f'{method_name} has ROC AUC Score(Avg) = {np.mean(auc_scores):.7f}')"
   ]
  },
  {
   "cell_type": "code",
   "execution_count": 12,
   "metadata": {},
   "outputs": [],
   "source": [
    "# n = len(df_test.columns)\n",
    "# n_cols = 3\n",
    "# n_rows = math.ceil(n / n_cols)\n",
    "\n",
    "# fig , axs = plt.subplots(n_rows, n_cols, figsize=(12, 12))\n",
    "# for col, ax in zip(df_test.columns, axs.ravel()):\n",
    "#     if df_train[col].dtype == float:\n",
    "#         ax.hist(df_train[col], bins=100, color='#529BEB')\n",
    "#     else: #int\n",
    "#         vc = df_train[col].value_counts()\n",
    "#         ax.bar(vc.index, vc, color='#529BEB')\n",
    "#     ax.set_xlabel(col)\n",
    "\n",
    "# # 여분의 subplot 공간을 제거합니다.\n",
    "# for ax in axs.flatten()[n:]:\n",
    "#     fig.delaxes(ax)\n",
    "\n",
    "# plt.tight_layout()\n",
    "# plt.suptitle('Feature distributions', y=1.02, fontsize=20)\n",
    "# plt.show()"
   ]
  },
  {
   "cell_type": "code",
   "execution_count": 13,
   "metadata": {},
   "outputs": [],
   "source": [
    "# _, axs = plt.subplots(7, 3, figsize=(12, 12))\n",
    "# for col, ax in zip(df_test.columns, axs.ravel()):\n",
    "#     ax.hist(np.log1p(df_train[col]), bins=100, color='#B65FCF')\n",
    "#     ax.set_xlabel(col)\n",
    "# plt.tight_layout()\n",
    "# plt.suptitle('Feature distributions after log transformation', y=1.02, fontsize=20)\n",
    "# plt.show()"
   ]
  },
  {
   "cell_type": "code",
   "execution_count": 14,
   "metadata": {},
   "outputs": [],
   "source": [
    "# # train과 test 데이터셋 상관관계 분석\n",
    "# # ROC-AUC 스코어가 0.5에 가까울수록 두 데이터셋이 비슷하다고 볼 수 있다.\n",
    "# #https://www.kaggle.com/code/carlmcbrideellis/what-is-adversarial-validation\n",
    "\n",
    "# def adversarial_validation(dataset_1 = df_train, dataset_2 = df_test, label = 'Train-Test'):\n",
    "\n",
    "#     adv_train = dataset_1.drop('smoking', axis = 1)\n",
    "#     adv_test = dataset_2.copy()\n",
    "\n",
    "#     adv_train['is_test'] = 0\n",
    "#     adv_test['is_test'] = 1\n",
    "\n",
    "#     adv = pd.concat([adv_train, adv_test], ignore_index = True)\n",
    "\n",
    "#     adv_shuffled = adv.sample(frac = 1)\n",
    "\n",
    "#     adv_X = adv_shuffled.drop('is_test', axis = 1)\n",
    "#     adv_y = adv_shuffled.is_test\n",
    "\n",
    "#     skf = StratifiedKFold(n_splits = n_splits, random_state = 42, shuffle = True)\n",
    "\n",
    "#     val_scores = []\n",
    "#     predictions = np.zeros(len(adv))\n",
    "\n",
    "#     for fold, (train_idx, val_idx) in enumerate(skf.split(adv_X, adv_y)):\n",
    "    \n",
    "#         adv_lr = XGBClassifier(random_state = 42)\n",
    "#         adv_lr.fit(adv_X.iloc[train_idx], adv_y.iloc[train_idx])\n",
    "        \n",
    "#         val_preds = adv_lr.predict_proba(adv_X.iloc[val_idx])[:,1]\n",
    "#         predictions[val_idx] = val_preds\n",
    "#         val_score = roc_auc_score(adv_y.iloc[val_idx], val_preds)\n",
    "#         val_scores.append(val_score)\n",
    "    \n",
    "#     fpr, tpr, _ = roc_curve(adv['is_test'], predictions)\n",
    "    \n",
    "#     plt.figure(figsize = (10, 10), dpi = 300)\n",
    "#     sns.lineplot(x=[0, 1], y=[0, 1], linestyle=\"--\", label=\"Indistinguishable Datasets\")\n",
    "#     sns.lineplot(x=fpr, y=tpr, label=\"Adversarial Validation Classifier\")\n",
    "#     plt.title(f'{label} Validation = {np.mean(val_scores):.5f}', weight = 'bold', size = 17)\n",
    "#     plt.xlabel('False Positive Rate')\n",
    "#     plt.ylabel('True Positive Rate')\n",
    "#     plt.show()\n",
    "\n",
    "# adversarial_validation()"
   ]
  },
  {
   "cell_type": "markdown",
   "metadata": {},
   "source": [
    "---"
   ]
  },
  {
   "cell_type": "markdown",
   "metadata": {},
   "source": [
    "# 🚥Feature Engineering"
   ]
  },
  {
   "cell_type": "code",
   "execution_count": 15,
   "metadata": {},
   "outputs": [],
   "source": [
    "# reference: https://www.kaggle.com/competitions/playground-series-s3e24/discussion/450314\n",
    "# reference: https://www.kaggle.com/code/arunklenin/ps3e24-eda-feature-engineering-ensemble#1.-INTRODUCTION\n",
    "\n",
    "def add_new_features(df):\n",
    "    df_col = df.columns.to_list()\n",
    "    if 'smoking' in df_col:\n",
    "        smoking_ = df['smoking']\n",
    "        df = df.drop(columns='smoking')\n",
    "\n",
    "#     ############ BMI ############\n",
    "#     df['BMI'] = df['weight(kg)'] / ((df['height(cm)']/100) ** 2)\n",
    "#     # df = df.drop(columns=['weight(kg)','height(cm)'])\n",
    "\n",
    "#     if 'BMI' in df.columns:\n",
    "#         df['BMI_AST_interaction'] = df['BMI'] * df['AST']\n",
    "#         df['BMI_ALT_interaction'] = df['BMI'] * df['ALT']\n",
    "#         df['BMI_GTP_interaction'] = df['BMI'] * df['Gtp']\n",
    "\n",
    "#     ############ 평균 혈압 ############\n",
    "#     df['average_blood_pressure'] = (df['systolic'] + df['relaxation']) / 2\n",
    "#     # df = df.drop(columns=['systolic','relaxation'])\n",
    "\n",
    "#     ############ 콜레스테롤 비율 ############\n",
    "#     df['cholesterol_ratio'] = np.where(df['HDL'] != 0, df['LDL'] / df['HDL'], 0)\n",
    "#     # df = df.drop(columns=['HDL','LDL'])\n",
    "\n",
    "#     ############ 평균 시력 ############\n",
    "#     df['average_eyesight'] = (df['eyesight(left)'] + df['eyesight(right)']) / 2\n",
    "#     # df = df.drop(columns=['eyesight(left)','eyesight(right)'])\n",
    "\n",
    "#     ############ BMI 관련 피처 ############\n",
    "#     df['BMI'] = df['weight(kg)'] / (df['height(cm)'] / 100) ** 2\n",
    "#     df['BMI_category'] = pd.cut(df['BMI'], bins=[0, 18.5, 25, 30, 35, 40, np.inf], labels=[0, 1, 2, 3, 4, 5])\n",
    "#     df['BMI_category'] = df['BMI_category'].astype('int')\n",
    "\n",
    "#     ############ 허리 둘레 관련 피처 ############\n",
    "#     df['waist_risk'] = pd.cut(df['waist(cm)'], bins=[0, 94, 102, np.inf], labels=[0, 1, 2])\n",
    "#     df['waist_risk'] = df['waist_risk'].astype('int')\n",
    "\n",
    "#     ############ 나이 관련 피처 ############\n",
    "#     df['age_risk'] = np.where(df['age'] >= 45, 1, 0)\n",
    "\n",
    "    ############ ★혈압 관련 피처 ############\n",
    "    # 'systolic' 특성을 카테고리화\n",
    "    # pd.cut 함수를 사용하면 결과값이 문자열로 반환\n",
    "    df['BP_category'] = pd.cut(df['systolic'], bins=[0, 120, 130, 140, 180, np.inf], labels=[0, 1, 2, 3, 4])\n",
    "    df['BP_category'] = df['BP_category'].astype('int')\n",
    "\n",
    "#     ############ 콜레스테롤 관련 피처 ############\n",
    "#     df['total_cholesterol_risk'] = pd.cut(df['Cholesterol'], bins=[0, 200, 240, np.inf], labels=[0, 1, 2])\n",
    "#     df['total_cholesterol_risk'] = df['total_cholesterol_risk'].astype('int')\n",
    "    \n",
    "#     df['HDL_risk'] = pd.cut(df['HDL'], bins=[0, 40, 60, np.inf], labels=[0, 1, 2])\n",
    "#     df['HDL_risk'] = df['HDL_risk'].astype('int')\n",
    "    \n",
    "#     df['LDL_risk'] = pd.cut(df['LDL'], bins=[0, 100, 130, 160, 190, np.inf], labels=[0, 1, 2, 3, 4])\n",
    "#     df['LDL_risk'] = df['LDL_risk'].astype('int')\n",
    "\n",
    "#     ############ 간 효소 관련 피처 ############\n",
    "#     df['AST_ALT_ratio'] = df['AST'] / df['ALT']\n",
    "#     df['AST_GTP_ratio'] = df['AST'] / df['Gtp']\n",
    "#     df['ALT_GTP_ratio'] = df['ALT'] / df['Gtp']\n",
    "\n",
    "#     ############ 펄스 압 ############\n",
    "#     df['pulse_pressure'] = df['systolic'] - df['relaxation']\n",
    "\n",
    "#     ############ 시력 차이 ############\n",
    "#     df['eyesight_diff'] = df['eyesight(left)'] - df['eyesight(right)']\n",
    "\n",
    "#     ############ 청력 차이 ############\n",
    "#     df['hearing_diff'] = df['hearing(left)'] - df['hearing(right)']\n",
    "    \n",
    "#     ############ 혈당과 콜레스테롤의 상호작용 ############\n",
    "#     df['glucose_cholesterol_interaction'] = df['fasting blood sugar'] * df['Cholesterol']\n",
    "\n",
    "#     ############ 체중과 허리둘레의 상호작용 ############\n",
    "#     df['weight_waist_interaction'] = df['weight(kg)'] * df['waist(cm)']\n",
    "\n",
    "    # ############ 시력 차이2 ############\n",
    "    # # 보통 시력 상한은 2, 근데 9 이상인 것들? 맹인 데이터일 확률이 큼\n",
    "    # df['eyesight(left)'] = np.where(df['eyesight(left)'] > 9, 0, df['eyesight(left)'])\n",
    "    # df['eyesight(right)'] = np.where(df['eyesight(right)'] > 9, 0, df['eyesight(right)'])\n",
    "    # best = np.where(df['eyesight(left)'] < df['eyesight(right)'], \n",
    "    #                 df['eyesight(left)'],  df['eyesight(right)'])\n",
    "    # worst = np.where(df['eyesight(left)'] < df['eyesight(right)'], \n",
    "    #                  df['eyesight(right)'],  df['eyesight(left)'])\n",
    "    # df['eyesight(left)'] = best\n",
    "    # df['eyesight(right)'] = worst\n",
    "    \n",
    "    # ############ 청력 차이2 ############\n",
    "    # best = np.where(df['hearing(left)'] < df['hearing(right)'], \n",
    "    #                 df['hearing(left)'],  df['hearing(right)'])\n",
    "    # worst = np.where(df['hearing(left)'] < df['hearing(right)'], \n",
    "    #                  df['hearing(right)'],  df['hearing(left)'])\n",
    "    # df['hearing(left)'] = best - 1\n",
    "    # df['hearing(right)'] = worst - 1\n",
    "    \n",
    "    # ############ 클리핑 ############\n",
    "    # # 주어진 범위를 벗어나는 값을 범위의 최소값 또는 최대값으로 대체 (이상치 제한)\n",
    "    # df['Gtp'] = np.clip(df['Gtp'], 0, 300)\n",
    "    # df['HDL'] = np.clip(df['HDL'], 0, 110)\n",
    "    # df['LDL'] = np.clip(df['LDL'], 0, 200)\n",
    "    # df['ALT'] = np.clip(df['ALT'], 0, 150)\n",
    "    # df['AST'] = np.clip(df['AST'], 0, 100)\n",
    "    # df['serum creatinine'] = np.clip(df['serum creatinine'], 0, 3)  \n",
    "\n",
    "    # ############ Categorize numerical features ############\n",
    "    # for i in range(15, 90, 5):\n",
    "    #     df.loc[(df.age > i - 2.5) & (df.age < i + 2.5), 'age'] = i\n",
    "    # for i in range(130, 195, 5):\n",
    "    #     df.loc[(df['height(cm)'] > i - 2.5) & (df['height(cm)'] < i + 2.5), 'height(cm)'] = i\n",
    "    # for i in range(30, 140, 5):\n",
    "    #     df.loc[(df['weight(kg)'] > i - 2.5) & (df['weight(kg)'] < i + 2.5), 'weight(kg)'] = i\n",
    "\n",
    "    if 'smoking' in df_col:\n",
    "        df['smoking'] = smoking_\n",
    "\n",
    "    return df"
   ]
  },
  {
   "cell_type": "code",
   "execution_count": 16,
   "metadata": {},
   "outputs": [],
   "source": [
    "df_train = add_new_features(df_train)\n",
    "df_test = add_new_features(df_test)"
   ]
  },
  {
   "cell_type": "markdown",
   "metadata": {},
   "source": [
    "- 로그변환"
   ]
  },
  {
   "cell_type": "code",
   "execution_count": 17,
   "metadata": {},
   "outputs": [],
   "source": [
    "# # 로그 변환을 적용할 feature 목록\n",
    "# features_to_log_transform = ['age',\n",
    "#                              'height(cm)',\n",
    "#                              'weight(kg)',\n",
    "#                              'waist(cm)',\n",
    "#                              'eyesight(left)',\n",
    "#                              'eyesight(right)',\n",
    "#                              'hearing(left)',\n",
    "#                              'hearing(right)',\n",
    "#                              'systolic',\n",
    "#                              'relaxation',\n",
    "#                              'fasting blood sugar',\n",
    "#                              'Cholesterol',\n",
    "#                              'triglyceride',\n",
    "#                              'HDL',\n",
    "#                              'LDL',\n",
    "#                              'hemoglobin',\n",
    "#                              'Urine protein',\n",
    "#                              'serum creatinine',\n",
    "#                              'AST',\n",
    "#                              'ALT',\n",
    "#                              'Gtp',\n",
    "#                              'dental caries'\n",
    "#                              ]\n",
    "\n",
    "# # Train set\n",
    "# for feature in features_to_log_transform:\n",
    "#     df_train[feature] = np.log1p(df_train[feature])\n",
    "\n",
    "# # Test set\n",
    "# for feature in features_to_log_transform:\n",
    "#     df_test[feature] = np.log1p(df_test[feature])\n"
   ]
  },
  {
   "cell_type": "markdown",
   "metadata": {},
   "source": [
    "---"
   ]
  },
  {
   "cell_type": "markdown",
   "metadata": {},
   "source": [
    "# 🧺Feature Selection (with 6 techniques)"
   ]
  },
  {
   "cell_type": "markdown",
   "metadata": {},
   "source": [
    "### ■ Filter Method"
   ]
  },
  {
   "cell_type": "markdown",
   "metadata": {},
   "source": [
    "__A) Pearson Correlation:__ 두 변수 간의 선형 관계를 측정"
   ]
  },
  {
   "cell_type": "code",
   "execution_count": 18,
   "metadata": {},
   "outputs": [
    {
     "data": {
      "image/png": "[encoded data removed]",
      "text/plain": [
       "<Figure size 1500x800 with 2 Axes>"
      ]
     },
     "metadata": {},
     "output_type": "display_data"
    }
   ],
   "source": [
    "# corr() 메서드를 사용하여 특성 간의 상관 관계 행렬을 계산\n",
    "trainCorr = df_train.corr()\n",
    "mask = np.zeros_like(trainCorr)\n",
    "mask[np.triu_indices_from(mask)] = True\n",
    "plt.figure(figsize=(15,8))\n",
    "sns.heatmap(trainCorr, mask=mask, cmap='RdBu_r', annot=True, annot_kws={\"size\": 8}) # annot=True 매개변수를 사용하여 각 셀에 상관 관계 값을 표시\n",
    "plt.title('Train Dataset Correlation')\n",
    "plt.show()"
   ]
  },
  {
   "cell_type": "code",
   "execution_count": 19,
   "metadata": {},
   "outputs": [],
   "source": [
    "# # target과 각 특성 간의 상관 관계를 계산\n",
    "# # 특정 상관 관계 threshold를 넘는 특성들을 선택하여 내림차순 정렬\n",
    "# threshold = 0.05\n",
    "# corr=abs(trainCorr['smoking'])\n",
    "# result = corr[corr>threshold]\n",
    "# result.sort_values(ascending=False)"
   ]
  },
  {
   "cell_type": "code",
   "execution_count": 20,
   "metadata": {},
   "outputs": [],
   "source": [
    "# # trainData에서 특성 간의 상관 관계를 계산하고, 상관 관계가 높은 특성들을 식별\n",
    "# columns = df_train.columns.tolist()\n",
    "# highCorrFeature = []\n",
    "# for i in range(len(columns)-1, 0, -1):\n",
    "#     if columns[i] in highCorrFeature:\n",
    "#         continue\n",
    "#     for j in range(0,i):\n",
    "#         if columns[j] in highCorrFeature:\n",
    "#             continue\n",
    "#         # 같은 열과의 상관 관계를 계산하는 것을 피하기 위해 다른 열인지 확인\n",
    "#         if i != j:\n",
    "#             # columns[i],columns[j]의 상관 관계 계산\n",
    "#             c = df_train[[columns[i],columns[j]]].corr()\n",
    "#             # 상관 관계 행렬 c에서 columns[j] 열과 columns[i] 행에 해당하는 값 추출\n",
    "#             val = c[columns[j]][0] # 이 값은 두 열 간의 상관 관계\n",
    "#             if val > 0.5:\n",
    "#                 print(f\"{columns[i]} and {columns[j]} has high correlation {val}\")\n",
    "#                 highCorrFeature.append(columns[j])\n",
    "                \n",
    "# print(f\"\\nSize of original data: {df_train.shape[1]-1}, \\nnumber of high correlation features: {len(highCorrFeature)}\")"
   ]
  },
  {
   "cell_type": "code",
   "execution_count": 21,
   "metadata": {},
   "outputs": [],
   "source": [
    "# # 높은 상관 관계를 가진 특성들을 제거한 데이터를 x에 저장\n",
    "# x = df_train.drop(columns=highCorrFeature)\n",
    "# x = x.drop(columns='smoking')\n",
    "\n",
    "# # 높은 상관 관계를 가진 특성들을 제외한 특성들의 목록\n",
    "# featurePC = x.columns.tolist()\n",
    "# print(f\"Selected features: {len(featurePC)} / {featurePC}\")\n",
    "\n",
    "# # 이전에 정의한 generateXY 함수를 사용하여 특성 행렬 x와 타겟 벡터 y를 생성\n",
    "# x,y = generateXY(df_train)\n",
    "\n",
    "# # cv 계산\n",
    "# cv_feature(x,y,featurePC,'Pearson Correlation')"
   ]
  },
  {
   "cell_type": "code",
   "execution_count": 22,
   "metadata": {},
   "outputs": [],
   "source": [
    "# featurePC = ['age', 'height(cm)', 'waist(cm)', 'eyesight(left)', 'eyesight(right)', 'hearing(left)', 'systolic', 'fasting blood sugar', 'Cholesterol', 'triglyceride', 'HDL', 'Urine protein', 'serum creatinine', 'AST', 'Gtp', 'dental caries']"
   ]
  },
  {
   "cell_type": "markdown",
   "metadata": {},
   "source": [
    "__❌B) Variance Inflation Factor (VIF):__ 다중 공선성 평가\n",
    "- 다중공선성: 회귀분석에서 독립변수들 간에 강한 상관관계가 나타나는 문제\n",
    "- 이진 분류 문제에서 사용하는 로지스틱 회귀나 결정 트리 기반 모델 등은 변수 간의 상관관계가 높아도 모델의 성능에 크게 영향을 미치지 않는 경우가 많음"
   ]
  },
  {
   "cell_type": "code",
   "execution_count": 23,
   "metadata": {},
   "outputs": [],
   "source": [
    "# # VIF를 사용하여 다중공선성을 확인\n",
    "# # VIF가 일정 임계값을 넘는 특성들을 제거하여 모델에 사용할 특성을 선택\n",
    "\n",
    "# from statsmodels.stats.outliers_influence import variance_inflation_factor\n",
    "# def cal_vif(x):\n",
    "#     # 일반적으로 VIF 10 이상인 특성은 다중공선성 가능성이 높다고 판단\n",
    "#     thresh = 10\n",
    "#     output = pd.DataFrame()\n",
    "#     k = x.shape[1]\n",
    "#     vif = [variance_inflation_factor(x.values,i) for i in range(x.shape[1])]\n",
    "    \n",
    "#     # VIF가 임계값을 넘는 특성 제거\n",
    "#     for i in range(k):\n",
    "#         a = np.argmax(vif)\n",
    "#         print(f'Max vif is for variable Index: {a}')\n",
    "#         if (vif[a]<=thresh):\n",
    "#             break\n",
    "#         if (i==1):\n",
    "#             output = x.drop(x.columns[a],axis=1)\n",
    "#             vif = [variance_inflation_factor(output.values,j) for j in range(output.shape[1])]\n",
    "#         elif (i>1):\n",
    "#             output = output.drop(output.columns[a],axis=1)\n",
    "#             vif = [variance_inflation_factor(output.values,j) for j in range(output.shape[1])]\n",
    "#     return output\n",
    "\n",
    "# x,y = generateXY(df_train)\n",
    "# x = cal_vif(x) # VIF 계산하여 다중공선성 높은 특성을 제거한 결과를 x에 저장\n",
    "# featureVIF = x.columns.tolist()\n",
    "# print(f\"Selected features: {len(featureVIF)} / {featureVIF}\")\n",
    "# cv_feature(x,y,featureVIF,'Variance Inflation Factor')"
   ]
  },
  {
   "cell_type": "markdown",
   "metadata": {},
   "source": [
    "### ■ Wrapper Method"
   ]
  },
  {
   "cell_type": "markdown",
   "metadata": {},
   "source": [
    "__A) Step Forward Selection:__ 특성을 하나씩 추가하면서 모델의 성능을 측정하고 최상의 특성 조합을 찾는 방법"
   ]
  },
  {
   "cell_type": "code",
   "execution_count": 24,
   "metadata": {},
   "outputs": [],
   "source": [
    "# # 특성 선택에 사용되는 Sequential Feature Selector (SFS)를 활용하는 예제\n",
    "# # 특성 스텝마다 성능을 확인하고 최고의 성능을 나타낸 특성을 뽑기 위해 catboost를 씀\n",
    "# # 최후에는 선택된 특성들만을 이용하여 RandomForestRegressor로 학습\n",
    "# from mlxtend.feature_selection import SequentialFeatureSelector as sfs\n",
    "# x,y = generateXY(df_train)\n",
    "\n",
    "# clf = CatBoostClassifier(random_state=seed, logging_level = 'Silent')\n",
    "\n",
    "# # SequentialFeatureSelector 객체 생성\n",
    "# sfs1 = sfs(clf, k_features=5, forward=True, floating=False, verbose=1, cv=3) # SFS 초기화\n",
    "\n",
    "# # SFS를 훈련 데이터에 적용\n",
    "# sfs1 = sfs1.fit(x, y) "
   ]
  },
  {
   "cell_type": "code",
   "execution_count": 25,
   "metadata": {},
   "outputs": [],
   "source": [
    "# # SFS를 통해 선택된 특성들을 확인하고, 이를 사용하여 cv 계산\n",
    "# feat_cols = list(sfs1.k_feature_idx_)\n",
    "# featureSFS = x.columns[feat_cols].tolist()\n",
    "\n",
    "# print(f\"Selected features: {len(featureSFS)} / {featureSFS}\")\n",
    "# cv_feature(x, y, featureSFS, 'Step Forward Selection')"
   ]
  },
  {
   "cell_type": "markdown",
   "metadata": {},
   "source": [
    "__B) Backward elimination:__ 가장 덜 중요한 특성을 하나씩 제거하면서 모델의 성능을 측정, 최적의 특성 집합을 찾을 때까지 반복\n",
    "- 선형 회귀 모델을 기반으로 하기 때문에, 이진 분류 문제에 직접 적용하기는 어려움"
   ]
  },
  {
   "cell_type": "markdown",
   "metadata": {},
   "source": [
    "__C) Recursive Feature elimination:__ 재귀적 특성 제거 (RFE)는 지정된 특성 수에 도달할 때까지 모델을 학습하고 가장 약한 특성(들)을 제거\n",
    "-  RFECV는 Recursive Feature Elimination과 Cross-Validated selection을 통해 최적의 특성 수를 선택"
   ]
  },
  {
   "cell_type": "code",
   "execution_count": 26,
   "metadata": {},
   "outputs": [],
   "source": [
    "# from sklearn.feature_selection import RFECV\n",
    "\n",
    "# x, y = generateXY(df_train)\n",
    "\n",
    "# # CatBoostClassifier 객체 생성\n",
    "# model = CatBoostClassifier(random_state=seed, logging_level = 'Silent')\n",
    "\n",
    "# # RFECV를 이용한 Backward Elimination\n",
    "# rfecv = RFECV(estimator=model, step=1, cv=5)  # step=1은 한 번에 하나의 특성을 제거하겠다는 의미이며, cv=5는 5-fold cross-validation을 수행하겠다는 의미입니다.\n",
    "# rfecv = rfecv.fit(x, y)\n",
    "\n",
    "# # 선택된 특성 확인\n",
    "# featureBE = x.columns[rfecv.support_].tolist()\n",
    "\n",
    "# print(f\"Selected features: {len(featureBE)} / {featureBE}\")\n",
    "\n",
    "# # 선택된 특성으로 cv_feature 함수를 통해 교차 검증 수행\n",
    "# cv_feature(x, y, featureBE, 'Backward Elimination')"
   ]
  },
  {
   "cell_type": "markdown",
   "metadata": {},
   "source": [
    "### ■ Embedded Method\n",
    "모델 훈련 과정에서 특성 선택을 수행하는 방법\n",
    "> 임베디드 방법은 모델의 훈련 과정에서 특성의 중요도를 반복적으로 평가"
   ]
  },
  {
   "cell_type": "markdown",
   "metadata": {},
   "source": [
    "1) LogisticRegressionCV 모델을 사용한 Lasso 방법\n",
    "- 선형 관계를 가정하고 있기 때문에, 특성들이 선형적으로 목표 변수와 관련이 있을 때 유용\n",
    "- Lasso는 특성의 수를 크게 줄일 수 있어 해석이 쉬운 모델을 만들 수 있음\n",
    "- 하지만, 특성 간 복잡한 상호작용을 잡아내기 어려움"
   ]
  },
  {
   "cell_type": "code",
   "execution_count": 27,
   "metadata": {},
   "outputs": [],
   "source": [
    "# from sklearn.linear_model import LogisticRegressionCV\n",
    "\n",
    "# x,y = generateXY(df_train)\n",
    "# clf = LogisticRegressionCV(cv=5, Cs=200, tol=1e-4, fit_intercept=False, penalty='l1', solver='liblinear')\n",
    "# clf.fit(x,y)\n",
    "# print(\"Best score: \", clf.score(x,y))\n",
    "\n",
    "# coef = pd.Series(clf.coef_[0], index=x.columns)\n",
    "# print(\"Lasso picked \" + str(sum(coef != 0))+ \" variables and eliminated the other \" + str(sum(coef == 0)) + \" variables\")\n",
    "\n",
    "# imp_coef = coef.sort_values()\n",
    "# featureEM = imp_coef[imp_coef>0].index.tolist()\n",
    "\n",
    "# print(f\"Selected features: {len(featureEM)} / {featureEM}\")\n",
    "# cv_feature(x,y,featureEM,'Embedded Method')"
   ]
  },
  {
   "cell_type": "markdown",
   "metadata": {},
   "source": [
    "2) CatBoostClassifier 모델을 사용한 특성 중요도 방법\n",
    "- 비선형 관계와 특성 간의 복잡한 상호작용을 잘 잡아냄\n",
    "- 특성 중요도를 직접적으로 제공하므로, 어떤 특성이 모델의 예측에 중요한 역할을 하는지 파악하는 데 유용"
   ]
  },
  {
   "cell_type": "code",
   "execution_count": 28,
   "metadata": {},
   "outputs": [],
   "source": [
    "# # CatBoostClassifier 객체 생성\n",
    "# clf = CatBoostClassifier(random_state=seed, logging_level = 'Silent')\n",
    "\n",
    "# # 모델 학습\n",
    "# clf.fit(x, y)\n",
    "\n",
    "# # 특성 중요도 계산\n",
    "# feature_importances = clf.feature_importances_\n",
    "# sorted_idx = feature_importances.argsort()\n",
    "\n",
    "# # 시각화\n",
    "# plt.figure(figsize=(10, 6))\n",
    "# plt.barh(range(len(feature_importances)), feature_importances[sorted_idx], align='center')\n",
    "# plt.yticks(range(len(feature_importances)), x.columns[sorted_idx])\n",
    "# plt.xlabel('Feature Importance')\n",
    "# plt.ylabel('Features')\n",
    "# plt.title('Feature Importance Plot')\n",
    "# plt.show()"
   ]
  },
  {
   "cell_type": "code",
   "execution_count": 29,
   "metadata": {},
   "outputs": [],
   "source": [
    "# # 특성 중요도를 기반으로 특성 선택\n",
    "# featureEM = x.columns[feature_importances > 0.9].tolist()\n",
    "\n",
    "# print(f\"Selected features: {len(featureEM)} / {featureEM}\")\n",
    "\n",
    "# # 선택된 특성으로 cv_feature 함수를 통해 교차 검증 수행\n",
    "# cv_feature(x, y, featureEM, 'Embedded Method')"
   ]
  },
  {
   "cell_type": "markdown",
   "metadata": {},
   "source": [
    "### ■ Final Feature Selection"
   ]
  },
  {
   "cell_type": "code",
   "execution_count": 30,
   "metadata": {},
   "outputs": [],
   "source": [
    "# # 다양한 특성 선택 기법을 통해 선택된 특성들을 모아서 특성 중요도 시각화\n",
    "# allfeature = featurePC + featureSFS + featureBE + featureEM\n",
    "# feature, count = np.unique(allfeature, return_counts=True) # 각 특성 빈도 카운트\n",
    "# featureCount = pd.DataFrame(count,index=feature, columns=['Count'])\n",
    "# featureCount = featureCount.sort_values(by=['Count'])\n",
    "# featureCount.plot(kind = \"barh\") # 막대그래프 표현\n",
    "# plt.rcParams[\"figure.figsize\"] = (20,10) # 크기 조정\n",
    "# plt.title(\"Feature importance based on all selection techniques\")"
   ]
  },
  {
   "cell_type": "code",
   "execution_count": 31,
   "metadata": {},
   "outputs": [],
   "source": [
    "# # 특정 임계값을 넘는 특성들로 최종 모델을 학습하여 cv 계산\n",
    "# selected_features = []\n",
    "\n",
    "# for i, val in enumerate(feature):\n",
    "#     if count[i] > 1:\n",
    "#         selected_features.append(val)\n",
    "# print(f\"Final Selected features: {len(selected_features)} / {selected_features}\")\n",
    "# X,y = generateXY(df_train)\n",
    "# clf = cv_feature(X,y,selected_features,\"Final model\")"
   ]
  },
  {
   "cell_type": "markdown",
   "metadata": {},
   "source": [
    "---"
   ]
  },
  {
   "cell_type": "markdown",
   "metadata": {},
   "source": [
    "# ⚠️Pre-process"
   ]
  },
  {
   "cell_type": "markdown",
   "metadata": {},
   "source": [
    "---"
   ]
  },
  {
   "cell_type": "markdown",
   "metadata": {},
   "source": [
    "# 🎰Model Optimization (with Optuna)"
   ]
  },
  {
   "cell_type": "markdown",
   "metadata": {},
   "source": [
    "__- 모델 학습하는 함수 정의__"
   ]
  },
  {
   "cell_type": "code",
   "execution_count": 32,
   "metadata": {},
   "outputs": [],
   "source": [
    "def optimize_params(objective, n_trials=100, seed=42):\n",
    "    # Pruner 설정\n",
    "    pruner = MedianPruner(\n",
    "        n_warmup_steps=10,  # 첫 10회 trial은 pruner가 적용되지 않습니다.\n",
    "        interval_steps=1,  # pruner가 적용되는 간격을 설정합니다. \n",
    "    )\n",
    "\n",
    "    # Sampler 설정\n",
    "    sampler = TPESampler(\n",
    "        seed=seed  # 재현가능성을 보장하기 위한 시드 값 설정\n",
    "    )\n",
    "\n",
    "    # Run optimization.\n",
    "    study = optuna.create_study(\n",
    "        direction='maximize',\n",
    "        pruner=pruner,\n",
    "        sampler=sampler\n",
    "    )\n",
    "    study.optimize(objective, n_trials=n_trials)\n",
    "\n",
    "    # Get best parameters from study\n",
    "    best_params = study.best_params\n",
    "\n",
    "    print(f'Best parameters: {best_params}')\n",
    "    print(f'Best ROC AUC Score: {study.best_value:.5f}')"
   ]
  },
  {
   "cell_type": "markdown",
   "metadata": {},
   "source": [
    "A) RandomForestClassifier"
   ]
  },
  {
   "cell_type": "code",
   "execution_count": 33,
   "metadata": {},
   "outputs": [],
   "source": [
    "# def objectiveRF(trial):\n",
    "#     # Define the hyperparameters for the trial.\n",
    "#     params = {\n",
    "#         'n_estimators': trial.suggest_int('n_estimators', 100, 1000),\n",
    "#         'max_depth': trial.suggest_int('max_depth', 5, 50),\n",
    "#         'min_samples_split': trial.suggest_int('min_samples_split', 2, 100),\n",
    "#         'min_samples_leaf': trial.suggest_int('min_samples_leaf', 1, 50),\n",
    "#         'max_features': trial.suggest_categorical('max_features', [\"sqrt\", \"log2\", None]),\n",
    "#         'max_leaf_nodes': trial.suggest_int('max_leaf_nodes', 100, 2000),\n",
    "#         'max_samples': trial.suggest_float('max_samples', 1e-2, 1, log=True),\n",
    "#         'bootstrap': trial.suggest_categorical('bootstrap', [True]),\n",
    "#         'criterion': trial.suggest_categorical('criterion', ['gini', 'entropy']),\n",
    "#         'n_jobs': -1\n",
    "#     }\n",
    "\n",
    "#     # Initialize and fit the model.\n",
    "#     model = RandomForestClassifier(**params, random_state=seed)\n",
    "#     X, y = generateXY(df_train)\n",
    "#     scores = cross_val_score(model, X, y, scoring='roc_auc', cv=str_kf)\n",
    "#     # print(f'RandomForestClassifier has ROC AUC Score(Avg) = {np.mean(scores):.7f} +/- {np.std(scores) * 2:.5f}')\n",
    "#     return np.mean(scores)\n",
    "\n",
    "# optimize_params(objectiveRF, n_trials=100, seed=42)"
   ]
  },
  {
   "cell_type": "markdown",
   "metadata": {},
   "source": [
    "B) Extra Trees"
   ]
  },
  {
   "cell_type": "code",
   "execution_count": 34,
   "metadata": {},
   "outputs": [],
   "source": [
    "# def objectiveET(trial):\n",
    "#     # Define the hyperparameters for the trial.\n",
    "#     params = {\n",
    "#         'n_estimators': trial.suggest_int('n_estimators', 50, 1000),\n",
    "#         'max_depth': trial.suggest_int('max_depth', 2, 30),\n",
    "#         'min_impurity_decrease': trial.suggest_float('min_impurity_decrease',1e-10, 1e-2, log=True),\n",
    "#         # 'min_impurity_decrease': trial.suggest_float('min_impurity_decrease',0.0, 1.0),\n",
    "#         'criterion': trial.suggest_categorical('criterion', ['gini', 'entropy']),\n",
    "#         'min_samples_split': trial.suggest_int('min_samples_split', 2, 50),\n",
    "#         'min_samples_leaf': trial.suggest_int('min_samples_leaf', 1, 50),\n",
    "#         'max_features': trial.suggest_float ('max_features', 0.1, 1.0),\n",
    "#         'max_leaf_nodes': trial.suggest_int('max_leaf_nodes', 100, 3000),\n",
    "#         'max_samples': trial.suggest_float('max_samples', 1e-5, 1.0, log=True),\n",
    "#         # 'max_samples': trial.suggest_float('max_samples', 1e-3, 3e-1, log=True),\n",
    "#         'min_weight_fraction_leaf': trial.suggest_float('min_weight_fraction_leaf', 0.0, 0.5),\n",
    "#         # 'min_weight_fraction_leaf': trial.suggest_float ('min_weight_fraction_leaf', 1e-3, 1e-1),\n",
    "#         'bootstrap': trial.suggest_categorical('bootstrap', [True]),\n",
    "#         'class_weight': trial.suggest_categorical('class_weight', [None, 'balanced', 'balanced_subsample']),\n",
    "#         'n_jobs': -1,\n",
    "#     }\n",
    "\n",
    "#     # Initialize and fit the model.\n",
    "#     model = ExtraTreesClassifier(**params, random_state=seed)\n",
    "#     X, y = generateXY(df_train)\n",
    "#     scores = cross_val_score(model, X, y, scoring='roc_auc', cv=str_kf)\n",
    "#     # print(f'ExtraTreesClassifier has ROC AUC Score(Avg) = {np.mean(scores):.7f} +/- {np.std(scores) * 2:.5f}')\n",
    "#     return np.mean(scores)\n",
    "\n",
    "# optimize_params(objectiveET, n_trials=100, seed=42)"
   ]
  },
  {
   "cell_type": "markdown",
   "metadata": {},
   "source": [
    "C) Hist Gradient Boosting"
   ]
  },
  {
   "cell_type": "code",
   "execution_count": 35,
   "metadata": {},
   "outputs": [],
   "source": [
    "# def objectiveHGB(trial):\n",
    "#     # Define the hyperparameters for the trial.\n",
    "#     params = {\n",
    "#         'l2_regularization': trial.suggest_float('l2_regularization', 1e-5, 10.0, log=True),\n",
    "#         'learning_rate': trial.suggest_float('learning_rate', 1e-3, 1.0, log=True),\n",
    "#         'max_iter': trial.suggest_int('max_iter', 100, 2000),\n",
    "#         'max_depth': trial.suggest_int('max_depth', 1, 100),\n",
    "#         'max_bins': trial.suggest_int('max_bins', 2, 255),\n",
    "#         'min_samples_leaf': trial.suggest_int('min_samples_leaf', 1, 2000),\n",
    "#         'max_leaf_nodes': trial.suggest_int('max_leaf_nodes', 2, 255),\n",
    "#     }\n",
    "\n",
    "#     # Initialize and fit the model.\n",
    "#     model = HistGradientBoostingClassifier(**params, random_state=seed)\n",
    "#     X, y = generateXY(df_train)\n",
    "#     scores = cross_val_score(model, X, y, scoring='roc_auc', cv=str_kf)\n",
    "#     # print(f'HistGradientBoostingClassifier has ROC AUC Score(Avg) = {np.mean(scores):.7f} +/- {np.std(scores) * 2:.5f}')\n",
    "#     return np.mean(scores)\n",
    "\n",
    "# optimize_params(objectiveHGB, n_trials=100, seed=42)"
   ]
  },
  {
   "cell_type": "markdown",
   "metadata": {},
   "source": [
    "D) XGBClassifier"
   ]
  },
  {
   "cell_type": "code",
   "execution_count": 36,
   "metadata": {},
   "outputs": [],
   "source": [
    "# def objectiveXGB(trial):\n",
    "#     # Define the hyperparameters for the trial.\n",
    "#     params = {\n",
    "#         # num_boost_round: GBM의 n_estimators와 같은 파라미터\n",
    "#         'n_estimators': trial.suggest_int('n_estimators', 100, 1000),\n",
    "#         'max_depth': trial.suggest_int('max_depth', 1, 10),\n",
    "#         'min_child_weight': trial.suggest_int('min_child_weight', 1, 20),\n",
    "#         'subsample': trial.suggest_float('subsample', 0.5, 1.0),\n",
    "#         'colsample_bytree': trial.suggest_float('colsample_bytree', 0.1, 1.0),\n",
    "#         'gamma': trial.suggest_float('gamma', 0.0, 5.0),\n",
    "#         'alpha': trial.suggest_float('alpha', 0.0, 10.0),\n",
    "#         'lambda': trial.suggest_float('lambda', 0.0, 10.0),\n",
    "#         'learning_rate': trial.suggest_float('learning_rate', 1e-3, 1.0, log=True), # eta [defalut: 0.3, alias: learning_rate] \n",
    "#         'scale_pos_weight': trial.suggest_float('scale_pos_weight', 1.0, 10.0), \n",
    "#         'tree_method': 'hist',\n",
    "#         'device': 'cuda',\n",
    "#         'objective': 'binary:logistic'\n",
    "#     }\n",
    "\n",
    "#     # Initialize and fit the model.\n",
    "#     model = XGBClassifier(**params, random_state=seed)\n",
    "#     X, y = generateXY(df_train)\n",
    "#     scores = cross_val_score(model, X, y, scoring='roc_auc', cv=str_kf)\n",
    "#     # print(f'XGBClassifier has ROC AUC Score(Avg) = {np.mean(scores):.7f} +/- {np.std(scores) * 2:.5f}')\n",
    "#     return np.mean(scores)\n",
    "\n",
    "# optimize_params(objectiveXGB, n_trials=100, seed=42)"
   ]
  },
  {
   "cell_type": "markdown",
   "metadata": {},
   "source": [
    "E) LightGBM"
   ]
  },
  {
   "cell_type": "code",
   "execution_count": 37,
   "metadata": {},
   "outputs": [],
   "source": [
    "# def objectiveLGBM(trial):\n",
    "#     # Define the hyperparameters for the trial.\n",
    "#     params = {\n",
    "#         \"objective\": \"binary\",\n",
    "#         \"metric\": \"auc\",\n",
    "#         \"verbosity\": -1,\n",
    "#         \"boosting_type\": \"gbdt\",\n",
    "#         \"reg_alpha\": trial.suggest_float(\"reg_alpha\", 1e-8, 10.0, log=True),\n",
    "#         \"reg_lambda\": trial.suggest_float(\"reg_lambda\", 1e-8, 10.0, log=True),\n",
    "#         \"num_leaves\": trial.suggest_int(\"num_leaves\", 2, 256),\n",
    "#         \"colsample_bytree\": trial.suggest_float(\"colsample_bytree\", 0.1, 1.0),\n",
    "#         \"subsample\": trial.suggest_float(\"subsample\", 0.1, 1.0),\n",
    "#         \"subsample_freq\": trial.suggest_int(\"subsample_freq\", 1, 10),\n",
    "#         \"min_child_samples\": trial.suggest_int(\"min_child_samples\", 5, 100),\n",
    "#         'learning_rate': trial.suggest_float('learning_rate', 1e-3, 1.0, log=True),\n",
    "#         'n_estimators': trial.suggest_int(\"n_estimators\", 50, 3000),\n",
    "#         'max_depth': trial.suggest_int('max_depth', -1, 50),\n",
    "#         'device_type': 'gpu'\n",
    "#     }\n",
    "\n",
    "#     # Initialize and fit the model.\n",
    "#     model = LGBMClassifier(**params, random_state=seed)\n",
    "#     X, y = generateXY(df_train)\n",
    "#     scores = cross_val_score(model, X, y, scoring='roc_auc', cv=str_kf)\n",
    "#     print(f'LGBMClassifier has ROC AUC Score(Avg) = {np.mean(scores):.7f} +/- {np.std(scores) * 2:.5f}')\n",
    "#     return np.mean(scores)\n",
    "\n",
    "# optimize_params(objectiveLGBM, n_trials=100, seed=42)"
   ]
  },
  {
   "cell_type": "markdown",
   "metadata": {},
   "source": [
    "F) CatBoostClassifier"
   ]
  },
  {
   "cell_type": "code",
   "execution_count": 38,
   "metadata": {},
   "outputs": [],
   "source": [
    "# def objectiveCat(trial):\n",
    "#     # Define the hyperparameters for the trial.\n",
    "#     params = {\n",
    "#         'iterations': trial.suggest_int('iterations', 500, 1200),\n",
    "#         'depth': trial.suggest_int('depth', 5, 15),\n",
    "#         'learning_rate': trial.suggest_float(\"learning_rate\", 2e-2, 8e-2, log=True),\n",
    "#         'random_strength': trial.suggest_float('random_strength', 0.7, 1.3, log=True),\n",
    "#         'bagging_temperature': trial.suggest_float(\"bagging_temperature\", 0.2, 0.6, log=True),\n",
    "#         'border_count': trial.suggest_int('border_count', 100, 200),\n",
    "#         'l2_leaf_reg': trial.suggest_int(\"l2_leaf_reg\", 1, 6),\n",
    "#         'scale_pos_weight':trial.suggest_float(\"scale_pos_weight\", 1.2, 1.9, log=True),\n",
    "#     }\n",
    "\n",
    "#     # Initialize and fit the model.\n",
    "#     model = CatBoostClassifier(**params, random_state=seed, logging_level = 'Silent')\n",
    "#     X, y = generateXY(df_train)\n",
    "#     scores = cross_val_score(model, X, y, scoring='roc_auc', cv=str_kf)\n",
    "#     # print(f'CatBoostClassifier has ROC AUC Score(Avg) = {np.mean(scores):.7f} +/- {np.std(scores) * 2:.5f}')\n",
    "#     return np.mean(scores)\n",
    "\n",
    "# optimize_params(objectiveCat, n_trials=100, seed=42)"
   ]
  },
  {
   "cell_type": "code",
   "execution_count": 39,
   "metadata": {},
   "outputs": [],
   "source": [
    "# def objectiveCat(trial):\n",
    "#     # Define the hyperparameters for the trial.\n",
    "#     params = {\n",
    "#         'iterations': trial.suggest_int('iterations', 500, 1000),\n",
    "#         'depth': trial.suggest_int('depth', 5, 7),\n",
    "#         'learning_rate': trial.suggest_float(\"learning_rate\", 2e-2, 8e-2, log=True),\n",
    "#         'random_strength': trial.suggest_float('random_strength', 0.6, 0.9),\n",
    "#         'bagging_temperature': trial.suggest_float(\"bagging_temperature\", 0.2, 0.7),\n",
    "#         'border_count': trial.suggest_int('border_count', 130, 170),\n",
    "#         'l2_leaf_reg': trial.suggest_int(\"l2_leaf_reg\", 4, 6),\n",
    "#         'scale_pos_weight':trial.suggest_float(\"scale_pos_weight\", 1.2, 1.8),\n",
    "#     }\n",
    "\n",
    "#     # Initialize and fit the model.\n",
    "#     model = CatBoostClassifier(**params, random_state=seed, logging_level = 'Silent')\n",
    "#     X, y = generateXY(df_train)\n",
    "#     scores = cross_val_score(model, X, y, scoring='roc_auc', cv=str_kf)\n",
    "#     # print(f'CatBoostClassifier has ROC AUC Score(Avg) = {np.mean(scores):.7f} +/- {np.std(scores) * 2:.5f}')\n",
    "#     return np.mean(scores)\n",
    "\n",
    "# optimize_params(objectiveCat, n_trials=100, seed=42)"
   ]
  },
  {
   "cell_type": "markdown",
   "metadata": {},
   "source": [
    "G) Logistic Regression"
   ]
  },
  {
   "cell_type": "code",
   "execution_count": 40,
   "metadata": {},
   "outputs": [],
   "source": [
    "# import warnings\n",
    "# warnings.filterwarnings('ignore')\n",
    "\n",
    "# # max_iter는 Gradient Descent 방식을 반복해서 몇번 수행할 것인가 인데, \n",
    "# # 이게 일단 수렴(Convergence)하게 되면 횟수를 늘려도 성능이 거의 달라지지 않음\n",
    "# def objectiveLR(trial):\n",
    "#     # Define the hyperparameters for the trial.\n",
    "#     penalty_solver = trial.suggest_categorical('penalty_solver', [\n",
    "#         ('l1', 'liblinear'), \n",
    "#         ('l1', 'saga'), \n",
    "#         ('l2', 'newton-cg'), \n",
    "#         ('l2', 'lbfgs'), \n",
    "#         ('l2', 'sag'), \n",
    "#         ('l2', 'saga'), \n",
    "#         ('elasticnet', 'saga'),\n",
    "#         ('none', 'newton-cg'),\n",
    "#         ('none', 'lbfgs'),\n",
    "#         ('none', 'sag'),\n",
    "#         ('none', 'saga')\n",
    "#     ])\n",
    "\n",
    "#     penalty, solver = penalty_solver\n",
    "\n",
    "#     if penalty == 'elasticnet':\n",
    "#         l1_ratio = trial.suggest_float('l1_ratio', 0, 1)\n",
    "#     else:\n",
    "#         l1_ratio = None\n",
    "\n",
    "#     params = {\n",
    "#         'max_iter': trial.suggest_int('max_iter', 100, 1000),\n",
    "#         'C': trial.suggest_float('C', 1e-5, 10, log=True),\n",
    "#         'penalty': penalty,\n",
    "#         'solver': solver,\n",
    "#         'l1_ratio': l1_ratio,\n",
    "#         'fit_intercept': trial.suggest_categorical('fit_intercept', [True, False]),\n",
    "#         'class_weight': trial.suggest_categorical('class_weight', [None, 'balanced']),\n",
    "#         'n_jobs': -1\n",
    "#     }\n",
    "\n",
    "\n",
    "\n",
    "#     # Initialize and fit the model.\n",
    "#     model = LogisticRegression(**params, random_state=seed)\n",
    "#     X, y = generateXY(df_train)\n",
    "#     scores = cross_val_score(model, X, y, scoring='roc_auc', cv=str_kf)\n",
    "# #     print(f'LogisticRegression has ROC AUC Score(Avg) = {np.mean(scores):.7f} +/- {np.std(scores) * 2:.5f}')\n",
    "#     return np.mean(scores)\n",
    "\n",
    "# optimize_params(objectiveLR, n_trials=100, seed=42)"
   ]
  },
  {
   "cell_type": "markdown",
   "metadata": {},
   "source": [
    "---"
   ]
  },
  {
   "cell_type": "markdown",
   "metadata": {},
   "source": [
    "# 📈Train"
   ]
  },
  {
   "cell_type": "code",
   "execution_count": 41,
   "metadata": {},
   "outputs": [],
   "source": [
    "# optuna로 뽑은 최적화 파라미터\n",
    "\n",
    "opt_rf_params = {'n_estimators': 947, \n",
    "                 'max_depth': 29, \n",
    "                 'min_samples_split': 31, \n",
    "                 'min_samples_leaf': 9, \n",
    "                 'max_features': None, \n",
    "                 'max_leaf_nodes': 1839, \n",
    "                 'max_samples': 0.8650030717488943, \n",
    "                 'bootstrap': True, \n",
    "                 'criterion': 'entropy',\n",
    "                 'n_jobs': -1\n",
    "                 }\n",
    "opt_et_params = {'n_estimators': 709, \n",
    "                 'max_depth': 29, \n",
    "                 'min_impurity_decrease': 2.37677144655935e-05, \n",
    "                 'criterion': 'gini', \n",
    "                 'min_samples_split': 16, \n",
    "                 'min_samples_leaf': 6, \n",
    "                 'max_features': 0.9622645147955742, \n",
    "                 'max_leaf_nodes': 1672, \n",
    "                 'max_samples': 0.09822322294168621, \n",
    "                 'min_weight_fraction_leaf': 0.000656642715024573, \n",
    "                 'bootstrap': True, \n",
    "                 'class_weight': None,\n",
    "                 'n_jobs': -1,\n",
    "                 } # 0.85538\n",
    "opt_hgb_params = {'l2_regularization': 7.086578943242248, \n",
    "                  'learning_rate': 0.016691512438799662, \n",
    "                  'max_iter': 1849, \n",
    "                  'max_depth': 31, \n",
    "                  'max_bins': 247, \n",
    "                  'min_samples_leaf': 631, \n",
    "                  'max_leaf_nodes': 91\n",
    "                  } # 0.86993\n",
    "opt_xgb_params = {'n_estimators': 973, \n",
    "                  'max_depth': 10, \n",
    "                  'min_child_weight': 3, \n",
    "                  'subsample': 0.9504791909105347, \n",
    "                  'colsample_bytree': 0.3028813045040783, \n",
    "                  'gamma': 0.9272085943572528, \n",
    "                  'alpha': 6.058561922964304, \n",
    "                  'lambda': 7.442253995706032, \n",
    "                  'learning_rate': 0.034608357960129406, \n",
    "                  'scale_pos_weight': 5.066377770811329,\n",
    "                  'tree_method': 'hist',\n",
    "                  'device': 'cuda',\n",
    "                  'objective': 'binary:logistic',\n",
    "                  'n_jobs': -1,\n",
    "                  } # 0.87260\n",
    "opt_lgbm_params = {'reg_alpha': 1.7862129552684525e-06, \n",
    "                   'reg_lambda': 4.457649510795302e-07, \n",
    "                   'num_leaves': 231, \n",
    "                   'colsample_bytree': 0.23633545420416763, \n",
    "                   'subsample': 0.41304778630564337, \n",
    "                   'subsample_freq': 10, \n",
    "                   'min_child_samples': 70, \n",
    "                   'learning_rate': 0.011773171567527234, \n",
    "                   'n_estimators': 2620, \n",
    "                   'max_depth': 18,\n",
    "                   \"objective\": \"binary\",\n",
    "                   \"metric\": \"auc\",\n",
    "                   \"verbosity\": -1,\n",
    "                   \"boosting_type\": \"gbdt\",\n",
    "                   'device_type': 'gpu'\n",
    "                   }\n",
    "opt_cat_params = {'iterations': 980, \n",
    "                  'depth': 7, \n",
    "                  'learning_rate': 0.07645498037017964, \n",
    "                  'random_strength': 0.6910564067238075, \n",
    "                  'bagging_temperature': 0.371867116122552, \n",
    "                  'border_count': 155, \n",
    "                  'l2_leaf_reg': 5, \n",
    "                  'scale_pos_weight': 1.5475544409461044,\n",
    "                  'logging_level': 'Silent'\n",
    "                  }\n",
    "\n",
    "# optuna에서 계속 같은 점수로 수렴됨. 한계가 있는듯\n",
    "opt_lr_params = {'penalty':'none', \n",
    "                 'solver': 'newton-cg', \n",
    "                 'max_iter': 804, \n",
    "                 'C': 0.008675998270633417, \n",
    "                 'fit_intercept': True, \n",
    "                 'class_weight': None\n",
    "                 } # 0.834328887524651"
   ]
  },
  {
   "cell_type": "code",
   "execution_count": 42,
   "metadata": {},
   "outputs": [],
   "source": [
    "# Define the original models.\n",
    "# Logistic Regression Reference: https://www.kaggle.com/code/ambrosm/pss3e23-eda-which-makes-sense\n",
    "origin_models = {\n",
    "    \"Random Forest\": RandomForestClassifier(random_state=seed, **opt_rf_params),\n",
    "    \"Extra Trees\": ExtraTreesClassifier(random_state=seed, **opt_et_params),\n",
    "    \"Hist Gradient Boosting\": HistGradientBoostingClassifier(random_state=seed, **opt_hgb_params),\n",
    "    \"XGBoost\": XGBClassifier(random_state=seed, **opt_xgb_params),\n",
    "    \"LightGBM\": LGBMClassifier(random_state=seed, **opt_lgbm_params),\n",
    "    \"CatBoost\": CatBoostClassifier(random_state=seed, **opt_cat_params),\n",
    "    # \"LogisticRegression\": LogisticRegression(random_state=seed, max_iter=2000, n_jobs=-1),\n",
    "}"
   ]
  },
  {
   "cell_type": "code",
   "execution_count": 43,
   "metadata": {},
   "outputs": [],
   "source": [
    "# Define the pipelines\n",
    "log_transformer = FunctionTransformer(np.log1p)\n",
    "pipelines = {\n",
    "    \"Random Forest\": make_pipeline(RobustScaler(),\n",
    "                                   RandomForestClassifier(random_state=seed, n_jobs=-1)),\n",
    "    \"Extra Trees\": make_pipeline(log_transformer,\n",
    "                                 ExtraTreesClassifier(random_state=seed, n_jobs=-1)),\n",
    "    \"Hist Gradient Boosting\": make_pipeline(HistGradientBoostingClassifier(random_state=seed)),\n",
    "    \"XGBoost\": make_pipeline(QuantileTransformer(n_quantiles=100, output_distribution='normal', random_state=seed),\n",
    "                             XGBClassifier(random_state=seed, n_jobs=-1)),\n",
    "    \"LightGBM\": make_pipeline(LGBMClassifier(random_state=seed, verbosity=-1)),\n",
    "    \"CatBoost\": make_pipeline(RobustScaler(),\n",
    "                              CatBoostClassifier(random_state=seed, logging_level = 'Silent')),\n",
    "    # \"LogisticRegression\": LogisticRegression(random_state=seed, max_iter=2000, n_jobs=-1),\n",
    "}"
   ]
  },
  {
   "cell_type": "markdown",
   "metadata": {},
   "source": [
    "### __1) VotingClassifier 앙상블__ (with Weights)\n",
    "- RidgeClassifier로 모델별 가중치 추출"
   ]
  },
  {
   "cell_type": "markdown",
   "metadata": {},
   "source": [
    "### 모델별로 어떤 스케일이 좋은지 판단"
   ]
  },
  {
   "cell_type": "code",
   "execution_count": 44,
   "metadata": {},
   "outputs": [],
   "source": [
    "def cv_oof_preds(models, X, y, cv):\n",
    "    \"\"\"\n",
    "    Perform cross-validation for each model and generate out-of-fold predictions.\n",
    "\n",
    "    Args:\n",
    "    - models: a dictionary of Scikit-learn models\n",
    "    - X: features\n",
    "    - y: target variable\n",
    "    - cv: cross-validation splitter\n",
    "\n",
    "    Returns:\n",
    "    - a DataFrame of out-of-fold predictions\n",
    "    - a list of average ROC AUC scores for each model\n",
    "    \"\"\"\n",
    "    # Create a DataFrame to store out-of-fold predictions.\n",
    "    oof_predictions = pd.DataFrame(index=y.index)\n",
    "\n",
    "    # Create an empty list to store the average ROC AUC scores\n",
    "    avg_roc_auc_scores = []\n",
    "\n",
    "    # Iterate over each model and compute cross-validated predictions.\n",
    "    for name, model in models.items():\n",
    "        # Create an empty array to store the out-of-fold predictions\n",
    "        oof_preds = np.zeros(y.shape[0])\n",
    "\n",
    "        # Create an empty list to store the ROC AUC scores\n",
    "        roc_auc_scores = []\n",
    "\n",
    "        # Perform cross-validation\n",
    "        for train_index, valid_index in cv.split(X, y):\n",
    "            # Clone the model to ensure that it's reset for each fold\n",
    "            model_clone = clone(model)\n",
    "\n",
    "            # Split the data\n",
    "            X_train, X_valid = X.iloc[train_index], X.iloc[valid_index]\n",
    "            y_train, y_valid = y.iloc[train_index], y.iloc[valid_index]\n",
    "\n",
    "            # Fit the model\n",
    "            model_clone.fit(X_train, y_train)\n",
    "\n",
    "            # Compute predictions\n",
    "            preds = model_clone.predict_proba(X_valid)[:, 1]\n",
    "\n",
    "            # Store predictions for this fold in oof_preds\n",
    "            oof_preds[valid_index] = preds\n",
    "\n",
    "            # Compute the ROC AUC score and append it to the list\n",
    "            score = roc_auc_score(y_valid, preds)\n",
    "            roc_auc_scores.append(score)\n",
    "\n",
    "        # Store the predictions in the DataFrame\n",
    "        oof_predictions[name] = oof_preds\n",
    "\n",
    "        # Store the average ROC AUC score and print\n",
    "        avg_roc_auc_score = np.mean(roc_auc_scores)\n",
    "        avg_roc_auc_scores.append(avg_roc_auc_score)\n",
    "        \n",
    "        print(f\"{name} ROC AUC Score(Avg): {avg_roc_auc_score:.7f}\")\n",
    "    print(f\"★Models ROC AUC Score(Avg) = {np.mean(avg_roc_auc_scores):.7f} ± {np.std(avg_roc_auc_scores) * 2:.5f}\\n\")\n",
    "\n",
    "    return oof_predictions"
   ]
  },
  {
   "cell_type": "code",
   "execution_count": 45,
   "metadata": {},
   "outputs": [],
   "source": [
    "# ############ 학습 두 번해서 비효율적이지만 확실한 코드 #############\n",
    "# def cv_oof_preds(models, X, y, cv):\n",
    "#     # Create a DataFrame to store out-of-fold predictions.\n",
    "#     oof_predictions = pd.DataFrame()\n",
    "\n",
    "#     # Create an empty list to store the average ROC AUC scores\n",
    "#     avg_roc_auc_scores = []\n",
    "\n",
    "#     # Iterate over each model and compute cross-validated predictions.\n",
    "#     for name, model in models.items():\n",
    "#         # Compute cross-validated predictions.\n",
    "#         oof_preds = cross_val_predict(model, X, y, cv=cv, method='predict_proba')[:, 1]\n",
    "\n",
    "#         # Store the predictions in the DataFrame.\n",
    "#         oof_predictions[name] = oof_preds\n",
    "\n",
    "#         # Store the ROC AUC Score & print\n",
    "#         score = np.mean(cross_val_score(model, X, y, scoring='roc_auc', cv=cv))\n",
    "#         print(f\"{name} ROC AUC Score(Avg) {score:.7f}\")\n",
    "#         avg_roc_auc_scores.append(score)\n",
    "\n",
    "#     return oof_predictions, avg_roc_auc_scores"
   ]
  },
  {
   "cell_type": "code",
   "execution_count": 46,
   "metadata": {},
   "outputs": [],
   "source": [
    "def apply_scaling_and_cv(models, X, y, cv):\n",
    "    \"\"\"\n",
    "    Apply different scaling methods, log transformation, and no scaling to the data and perform cross-validation for each model.\n",
    "    \"\"\"\n",
    "    # Define the scaling methods\n",
    "    scalers = {\n",
    "        'NoScaling': None,  # Add no scaling\n",
    "        'StandardScaler': StandardScaler(),\n",
    "        'MinMaxScaler': MinMaxScaler(),\n",
    "        'RobustScaler': RobustScaler(),\n",
    "        'QuantileTransformer': QuantileTransformer(n_quantiles=100, output_distribution='normal', random_state=seed),\n",
    "        'LogTransform': None  # Add log transformation\n",
    "    }\n",
    "\n",
    "    # Create dictionaries to store the results\n",
    "    all_oof_predictions = {}\n",
    "    all_avg_roc_auc_scores = {}\n",
    "\n",
    "    # Apply each scaling method\n",
    "    for scaler_name, scaler in scalers.items():\n",
    "        print(f\"[Applying {scaler_name}...]\")\n",
    "\n",
    "        if scaler_name == 'NoScaling':\n",
    "            # Do not scale the features\n",
    "            X_scaled = X.copy()\n",
    "        elif scaler_name == 'LogTransform':\n",
    "            # Apply log transformation\n",
    "            X_scaled = np.log1p(X)\n",
    "        else:\n",
    "            # Scale the features\n",
    "            X_scaled = pd.DataFrame(scaler.fit_transform(X), columns=X.columns, index=X.index)\n",
    "\n",
    "        # Perform cross-validation and generate out-of-fold predictions\n",
    "        oof_predictions, avg_roc_auc_scores = cv_oof_preds(models, X_scaled, y, cv)\n",
    "\n",
    "        # Store the results\n",
    "        all_oof_predictions[scaler_name] = oof_predictions\n",
    "        all_avg_roc_auc_scores[scaler_name] = avg_roc_auc_scores\n",
    "\n",
    "    # Print the best scaling method for each model\n",
    "    print(f\"[⚠️The best scaling]\")\n",
    "    for model_name in models.keys():\n",
    "        best_method, best_score = max(\n",
    "            ((method, scores[i]) for method, scores in all_avg_roc_auc_scores.items() for i, model in enumerate(models) if model == model_name),\n",
    "            key=lambda x: x[1]\n",
    "        )\n",
    "        print(f\"For {model_name}, the best scaling method is {best_method} / {best_score:.7f}\")\n",
    "\n",
    "    return all_oof_predictions, all_avg_roc_auc_scores\n"
   ]
  },
  {
   "cell_type": "code",
   "execution_count": 47,
   "metadata": {},
   "outputs": [],
   "source": [
    "def perform_voting(models, X, y, cv):\n",
    "    oof_predictions = cv_oof_preds(models, X, y, cv)\n",
    "\n",
    "    # Fit a Ridge Classifier to compute the weights.\n",
    "    weights = RidgeClassifier(random_state=seed).fit(oof_predictions, y).coef_[0]\n",
    "    print(pd.DataFrame(weights, index = list(oof_predictions), columns = ['weight per model']))\n",
    "\n",
    "    # Create a voting classifier.\n",
    "    voting_clf = VotingClassifier(estimators=list(models.items()), voting='soft', weights=weights.tolist())\n",
    "\n",
    "    # compute cross-validated\n",
    "    voting_score = cross_val_score(voting_clf, X, y, scoring='roc_auc', cv=cv)\n",
    "    print(f\"VotingClassifier ROC AUC Score(Avg) {np.mean(voting_score):.7f} ± {np.std(voting_score) * 2:.5f}\")\n",
    "\n",
    "    # Fit the model to the training data.\n",
    "    voting_clf.fit(X, y)\n",
    "\n",
    "    return voting_clf"
   ]
  },
  {
   "cell_type": "code",
   "execution_count": 48,
   "metadata": {},
   "outputs": [
    {
     "name": "stdout",
     "output_type": "stream",
     "text": [
      "[Applying NoScaling...]\n"
     ]
    },
    {
     "ename": "KeyboardInterrupt",
     "evalue": "",
     "output_type": "error",
     "traceback": [
      "\u001b[1;31m---------------------------------------------------------------------------\u001b[0m",
      "\u001b[1;31mKeyboardInterrupt\u001b[0m                         Traceback (most recent call last)",
      "\u001b[1;32mc:\\Users\\Gyeom\\OneDrive - 한국항공대학교\\바탕 화면\\머신러닝\\kaggle-competitions\\Kaggle_PS3E24\\PS3E24_Binary Prediction of Smoker Status.ipynb Cell 83\u001b[0m line \u001b[0;36m6\n\u001b[0;32m      <a href='vscode-notebook-cell:/c%3A/Users/Gyeom/OneDrive%20-%20%ED%95%9C%EA%B5%AD%ED%95%AD%EA%B3%B5%EB%8C%80%ED%95%99%EA%B5%90/%EB%B0%94%ED%83%95%20%ED%99%94%EB%A9%B4/%EB%A8%B8%EC%8B%A0%EB%9F%AC%EB%8B%9D/kaggle-competitions/Kaggle_PS3E24/PS3E24_Binary%20Prediction%20of%20Smoker%20Status.ipynb#Y145sZmlsZQ%3D%3D?line=2'>3</a>\u001b[0m X, y \u001b[39m=\u001b[39m generateXY(df_train)\n\u001b[0;32m      <a href='vscode-notebook-cell:/c%3A/Users/Gyeom/OneDrive%20-%20%ED%95%9C%EA%B5%AD%ED%95%AD%EA%B3%B5%EB%8C%80%ED%95%99%EA%B5%90/%EB%B0%94%ED%83%95%20%ED%99%94%EB%A9%B4/%EB%A8%B8%EC%8B%A0%EB%9F%AC%EB%8B%9D/kaggle-competitions/Kaggle_PS3E24/PS3E24_Binary%20Prediction%20of%20Smoker%20Status.ipynb#Y145sZmlsZQ%3D%3D?line=3'>4</a>\u001b[0m str_kf \u001b[39m=\u001b[39m StratifiedKFold(n_splits \u001b[39m=\u001b[39m n_splits, shuffle\u001b[39m=\u001b[39m\u001b[39mTrue\u001b[39;00m, random_state\u001b[39m=\u001b[39mseed)\n\u001b[1;32m----> <a href='vscode-notebook-cell:/c%3A/Users/Gyeom/OneDrive%20-%20%ED%95%9C%EA%B5%AD%ED%95%AD%EA%B3%B5%EB%8C%80%ED%95%99%EA%B5%90/%EB%B0%94%ED%83%95%20%ED%99%94%EB%A9%B4/%EB%A8%B8%EC%8B%A0%EB%9F%AC%EB%8B%9D/kaggle-competitions/Kaggle_PS3E24/PS3E24_Binary%20Prediction%20of%20Smoker%20Status.ipynb#Y145sZmlsZQ%3D%3D?line=5'>6</a>\u001b[0m all_oof_predictions, all_avg_roc_auc_scores \u001b[39m=\u001b[39m apply_scaling_and_cv(origin_models, X, y, str_kf) \u001b[39m# Modify Models\u001b[39;00m\n\u001b[0;32m      <a href='vscode-notebook-cell:/c%3A/Users/Gyeom/OneDrive%20-%20%ED%95%9C%EA%B5%AD%ED%95%AD%EA%B3%B5%EB%8C%80%ED%95%99%EA%B5%90/%EB%B0%94%ED%83%95%20%ED%99%94%EB%A9%B4/%EB%A8%B8%EC%8B%A0%EB%9F%AC%EB%8B%9D/kaggle-competitions/Kaggle_PS3E24/PS3E24_Binary%20Prediction%20of%20Smoker%20Status.ipynb#Y145sZmlsZQ%3D%3D?line=7'>8</a>\u001b[0m \u001b[39m# For each scaling method, create a VotingClassifier based on the out-of-fold predictions\u001b[39;00m\n\u001b[0;32m      <a href='vscode-notebook-cell:/c%3A/Users/Gyeom/OneDrive%20-%20%ED%95%9C%EA%B5%AD%ED%95%AD%EA%B3%B5%EB%8C%80%ED%95%99%EA%B5%90/%EB%B0%94%ED%83%95%20%ED%99%94%EB%A9%B4/%EB%A8%B8%EC%8B%A0%EB%9F%AC%EB%8B%9D/kaggle-competitions/Kaggle_PS3E24/PS3E24_Binary%20Prediction%20of%20Smoker%20Status.ipynb#Y145sZmlsZQ%3D%3D?line=8'>9</a>\u001b[0m \u001b[39mfor\u001b[39;00m scaler_name \u001b[39min\u001b[39;00m all_oof_predictions\u001b[39m.\u001b[39mkeys():\n",
      "\u001b[1;32mc:\\Users\\Gyeom\\OneDrive - 한국항공대학교\\바탕 화면\\머신러닝\\kaggle-competitions\\Kaggle_PS3E24\\PS3E24_Binary Prediction of Smoker Status.ipynb Cell 83\u001b[0m line \u001b[0;36m3\n\u001b[0;32m     <a href='vscode-notebook-cell:/c%3A/Users/Gyeom/OneDrive%20-%20%ED%95%9C%EA%B5%AD%ED%95%AD%EA%B3%B5%EB%8C%80%ED%95%99%EA%B5%90/%EB%B0%94%ED%83%95%20%ED%99%94%EB%A9%B4/%EB%A8%B8%EC%8B%A0%EB%9F%AC%EB%8B%9D/kaggle-competitions/Kaggle_PS3E24/PS3E24_Binary%20Prediction%20of%20Smoker%20Status.ipynb#Y145sZmlsZQ%3D%3D?line=30'>31</a>\u001b[0m     X_scaled \u001b[39m=\u001b[39m pd\u001b[39m.\u001b[39mDataFrame(scaler\u001b[39m.\u001b[39mfit_transform(X), columns\u001b[39m=\u001b[39mX\u001b[39m.\u001b[39mcolumns, index\u001b[39m=\u001b[39mX\u001b[39m.\u001b[39mindex)\n\u001b[0;32m     <a href='vscode-notebook-cell:/c%3A/Users/Gyeom/OneDrive%20-%20%ED%95%9C%EA%B5%AD%ED%95%AD%EA%B3%B5%EB%8C%80%ED%95%99%EA%B5%90/%EB%B0%94%ED%83%95%20%ED%99%94%EB%A9%B4/%EB%A8%B8%EC%8B%A0%EB%9F%AC%EB%8B%9D/kaggle-competitions/Kaggle_PS3E24/PS3E24_Binary%20Prediction%20of%20Smoker%20Status.ipynb#Y145sZmlsZQ%3D%3D?line=32'>33</a>\u001b[0m \u001b[39m# Perform cross-validation and generate out-of-fold predictions\u001b[39;00m\n\u001b[1;32m---> <a href='vscode-notebook-cell:/c%3A/Users/Gyeom/OneDrive%20-%20%ED%95%9C%EA%B5%AD%ED%95%AD%EA%B3%B5%EB%8C%80%ED%95%99%EA%B5%90/%EB%B0%94%ED%83%95%20%ED%99%94%EB%A9%B4/%EB%A8%B8%EC%8B%A0%EB%9F%AC%EB%8B%9D/kaggle-competitions/Kaggle_PS3E24/PS3E24_Binary%20Prediction%20of%20Smoker%20Status.ipynb#Y145sZmlsZQ%3D%3D?line=33'>34</a>\u001b[0m oof_predictions, avg_roc_auc_scores \u001b[39m=\u001b[39m cv_oof_preds(models, X_scaled, y, cv)\n\u001b[0;32m     <a href='vscode-notebook-cell:/c%3A/Users/Gyeom/OneDrive%20-%20%ED%95%9C%EA%B5%AD%ED%95%AD%EA%B3%B5%EB%8C%80%ED%95%99%EA%B5%90/%EB%B0%94%ED%83%95%20%ED%99%94%EB%A9%B4/%EB%A8%B8%EC%8B%A0%EB%9F%AC%EB%8B%9D/kaggle-competitions/Kaggle_PS3E24/PS3E24_Binary%20Prediction%20of%20Smoker%20Status.ipynb#Y145sZmlsZQ%3D%3D?line=35'>36</a>\u001b[0m \u001b[39m# Store the results\u001b[39;00m\n\u001b[0;32m     <a href='vscode-notebook-cell:/c%3A/Users/Gyeom/OneDrive%20-%20%ED%95%9C%EA%B5%AD%ED%95%AD%EA%B3%B5%EB%8C%80%ED%95%99%EA%B5%90/%EB%B0%94%ED%83%95%20%ED%99%94%EB%A9%B4/%EB%A8%B8%EC%8B%A0%EB%9F%AC%EB%8B%9D/kaggle-competitions/Kaggle_PS3E24/PS3E24_Binary%20Prediction%20of%20Smoker%20Status.ipynb#Y145sZmlsZQ%3D%3D?line=36'>37</a>\u001b[0m all_oof_predictions[scaler_name] \u001b[39m=\u001b[39m oof_predictions\n",
      "\u001b[1;32mc:\\Users\\Gyeom\\OneDrive - 한국항공대학교\\바탕 화면\\머신러닝\\kaggle-competitions\\Kaggle_PS3E24\\PS3E24_Binary Prediction of Smoker Status.ipynb Cell 83\u001b[0m line \u001b[0;36m3\n\u001b[0;32m     <a href='vscode-notebook-cell:/c%3A/Users/Gyeom/OneDrive%20-%20%ED%95%9C%EA%B5%AD%ED%95%AD%EA%B3%B5%EB%8C%80%ED%95%99%EA%B5%90/%EB%B0%94%ED%83%95%20%ED%99%94%EB%A9%B4/%EB%A8%B8%EC%8B%A0%EB%9F%AC%EB%8B%9D/kaggle-competitions/Kaggle_PS3E24/PS3E24_Binary%20Prediction%20of%20Smoker%20Status.ipynb#Y145sZmlsZQ%3D%3D?line=35'>36</a>\u001b[0m y_train, y_valid \u001b[39m=\u001b[39m y\u001b[39m.\u001b[39miloc[train_index], y\u001b[39m.\u001b[39miloc[valid_index]\n\u001b[0;32m     <a href='vscode-notebook-cell:/c%3A/Users/Gyeom/OneDrive%20-%20%ED%95%9C%EA%B5%AD%ED%95%AD%EA%B3%B5%EB%8C%80%ED%95%99%EA%B5%90/%EB%B0%94%ED%83%95%20%ED%99%94%EB%A9%B4/%EB%A8%B8%EC%8B%A0%EB%9F%AC%EB%8B%9D/kaggle-competitions/Kaggle_PS3E24/PS3E24_Binary%20Prediction%20of%20Smoker%20Status.ipynb#Y145sZmlsZQ%3D%3D?line=37'>38</a>\u001b[0m \u001b[39m# Fit the model\u001b[39;00m\n\u001b[1;32m---> <a href='vscode-notebook-cell:/c%3A/Users/Gyeom/OneDrive%20-%20%ED%95%9C%EA%B5%AD%ED%95%AD%EA%B3%B5%EB%8C%80%ED%95%99%EA%B5%90/%EB%B0%94%ED%83%95%20%ED%99%94%EB%A9%B4/%EB%A8%B8%EC%8B%A0%EB%9F%AC%EB%8B%9D/kaggle-competitions/Kaggle_PS3E24/PS3E24_Binary%20Prediction%20of%20Smoker%20Status.ipynb#Y145sZmlsZQ%3D%3D?line=38'>39</a>\u001b[0m model_clone\u001b[39m.\u001b[39;49mfit(X_train, y_train)\n\u001b[0;32m     <a href='vscode-notebook-cell:/c%3A/Users/Gyeom/OneDrive%20-%20%ED%95%9C%EA%B5%AD%ED%95%AD%EA%B3%B5%EB%8C%80%ED%95%99%EA%B5%90/%EB%B0%94%ED%83%95%20%ED%99%94%EB%A9%B4/%EB%A8%B8%EC%8B%A0%EB%9F%AC%EB%8B%9D/kaggle-competitions/Kaggle_PS3E24/PS3E24_Binary%20Prediction%20of%20Smoker%20Status.ipynb#Y145sZmlsZQ%3D%3D?line=40'>41</a>\u001b[0m \u001b[39m# Compute predictions\u001b[39;00m\n\u001b[0;32m     <a href='vscode-notebook-cell:/c%3A/Users/Gyeom/OneDrive%20-%20%ED%95%9C%EA%B5%AD%ED%95%AD%EA%B3%B5%EB%8C%80%ED%95%99%EA%B5%90/%EB%B0%94%ED%83%95%20%ED%99%94%EB%A9%B4/%EB%A8%B8%EC%8B%A0%EB%9F%AC%EB%8B%9D/kaggle-competitions/Kaggle_PS3E24/PS3E24_Binary%20Prediction%20of%20Smoker%20Status.ipynb#Y145sZmlsZQ%3D%3D?line=41'>42</a>\u001b[0m preds \u001b[39m=\u001b[39m model_clone\u001b[39m.\u001b[39mpredict_proba(X_valid)[:, \u001b[39m1\u001b[39m]\n",
      "File \u001b[1;32mc:\\Users\\Gyeom\\anaconda3\\envs\\torch_3.11\\Lib\\site-packages\\sklearn\\base.py:1151\u001b[0m, in \u001b[0;36m_fit_context.<locals>.decorator.<locals>.wrapper\u001b[1;34m(estimator, *args, **kwargs)\u001b[0m\n\u001b[0;32m   1144\u001b[0m     estimator\u001b[39m.\u001b[39m_validate_params()\n\u001b[0;32m   1146\u001b[0m \u001b[39mwith\u001b[39;00m config_context(\n\u001b[0;32m   1147\u001b[0m     skip_parameter_validation\u001b[39m=\u001b[39m(\n\u001b[0;32m   1148\u001b[0m         prefer_skip_nested_validation \u001b[39mor\u001b[39;00m global_skip_validation\n\u001b[0;32m   1149\u001b[0m     )\n\u001b[0;32m   1150\u001b[0m ):\n\u001b[1;32m-> 1151\u001b[0m     \u001b[39mreturn\u001b[39;00m fit_method(estimator, \u001b[39m*\u001b[39;49margs, \u001b[39m*\u001b[39;49m\u001b[39m*\u001b[39;49mkwargs)\n",
      "File \u001b[1;32mc:\\Users\\Gyeom\\anaconda3\\envs\\torch_3.11\\Lib\\site-packages\\sklearn\\ensemble\\_forest.py:456\u001b[0m, in \u001b[0;36mBaseForest.fit\u001b[1;34m(self, X, y, sample_weight)\u001b[0m\n\u001b[0;32m    445\u001b[0m trees \u001b[39m=\u001b[39m [\n\u001b[0;32m    446\u001b[0m     \u001b[39mself\u001b[39m\u001b[39m.\u001b[39m_make_estimator(append\u001b[39m=\u001b[39m\u001b[39mFalse\u001b[39;00m, random_state\u001b[39m=\u001b[39mrandom_state)\n\u001b[0;32m    447\u001b[0m     \u001b[39mfor\u001b[39;00m i \u001b[39min\u001b[39;00m \u001b[39mrange\u001b[39m(n_more_estimators)\n\u001b[0;32m    448\u001b[0m ]\n\u001b[0;32m    450\u001b[0m \u001b[39m# Parallel loop: we prefer the threading backend as the Cython code\u001b[39;00m\n\u001b[0;32m    451\u001b[0m \u001b[39m# for fitting the trees is internally releasing the Python GIL\u001b[39;00m\n\u001b[0;32m    452\u001b[0m \u001b[39m# making threading more efficient than multiprocessing in\u001b[39;00m\n\u001b[0;32m    453\u001b[0m \u001b[39m# that case. However, for joblib 0.12+ we respect any\u001b[39;00m\n\u001b[0;32m    454\u001b[0m \u001b[39m# parallel_backend contexts set at a higher level,\u001b[39;00m\n\u001b[0;32m    455\u001b[0m \u001b[39m# since correctness does not rely on using threads.\u001b[39;00m\n\u001b[1;32m--> 456\u001b[0m trees \u001b[39m=\u001b[39m Parallel(\n\u001b[0;32m    457\u001b[0m     n_jobs\u001b[39m=\u001b[39;49m\u001b[39mself\u001b[39;49m\u001b[39m.\u001b[39;49mn_jobs,\n\u001b[0;32m    458\u001b[0m     verbose\u001b[39m=\u001b[39;49m\u001b[39mself\u001b[39;49m\u001b[39m.\u001b[39;49mverbose,\n\u001b[0;32m    459\u001b[0m     prefer\u001b[39m=\u001b[39;49m\u001b[39m\"\u001b[39;49m\u001b[39mthreads\u001b[39;49m\u001b[39m\"\u001b[39;49m,\n\u001b[0;32m    460\u001b[0m )(\n\u001b[0;32m    461\u001b[0m     delayed(_parallel_build_trees)(\n\u001b[0;32m    462\u001b[0m         t,\n\u001b[0;32m    463\u001b[0m         \u001b[39mself\u001b[39;49m\u001b[39m.\u001b[39;49mbootstrap,\n\u001b[0;32m    464\u001b[0m         X,\n\u001b[0;32m    465\u001b[0m         y,\n\u001b[0;32m    466\u001b[0m         sample_weight,\n\u001b[0;32m    467\u001b[0m         i,\n\u001b[0;32m    468\u001b[0m         \u001b[39mlen\u001b[39;49m(trees),\n\u001b[0;32m    469\u001b[0m         verbose\u001b[39m=\u001b[39;49m\u001b[39mself\u001b[39;49m\u001b[39m.\u001b[39;49mverbose,\n\u001b[0;32m    470\u001b[0m         class_weight\u001b[39m=\u001b[39;49m\u001b[39mself\u001b[39;49m\u001b[39m.\u001b[39;49mclass_weight,\n\u001b[0;32m    471\u001b[0m         n_samples_bootstrap\u001b[39m=\u001b[39;49mn_samples_bootstrap,\n\u001b[0;32m    472\u001b[0m     )\n\u001b[0;32m    473\u001b[0m     \u001b[39mfor\u001b[39;49;00m i, t \u001b[39min\u001b[39;49;00m \u001b[39menumerate\u001b[39;49m(trees)\n\u001b[0;32m    474\u001b[0m )\n\u001b[0;32m    476\u001b[0m \u001b[39m# Collect newly grown trees\u001b[39;00m\n\u001b[0;32m    477\u001b[0m \u001b[39mself\u001b[39m\u001b[39m.\u001b[39mestimators_\u001b[39m.\u001b[39mextend(trees)\n",
      "File \u001b[1;32mc:\\Users\\Gyeom\\anaconda3\\envs\\torch_3.11\\Lib\\site-packages\\sklearn\\utils\\parallel.py:65\u001b[0m, in \u001b[0;36mParallel.__call__\u001b[1;34m(self, iterable)\u001b[0m\n\u001b[0;32m     60\u001b[0m config \u001b[39m=\u001b[39m get_config()\n\u001b[0;32m     61\u001b[0m iterable_with_config \u001b[39m=\u001b[39m (\n\u001b[0;32m     62\u001b[0m     (_with_config(delayed_func, config), args, kwargs)\n\u001b[0;32m     63\u001b[0m     \u001b[39mfor\u001b[39;00m delayed_func, args, kwargs \u001b[39min\u001b[39;00m iterable\n\u001b[0;32m     64\u001b[0m )\n\u001b[1;32m---> 65\u001b[0m \u001b[39mreturn\u001b[39;00m \u001b[39msuper\u001b[39;49m()\u001b[39m.\u001b[39;49m\u001b[39m__call__\u001b[39;49m(iterable_with_config)\n",
      "File \u001b[1;32mc:\\Users\\Gyeom\\anaconda3\\envs\\torch_3.11\\Lib\\site-packages\\joblib\\parallel.py:1944\u001b[0m, in \u001b[0;36mParallel.__call__\u001b[1;34m(self, iterable)\u001b[0m\n\u001b[0;32m   1938\u001b[0m \u001b[39m# The first item from the output is blank, but it makes the interpreter\u001b[39;00m\n\u001b[0;32m   1939\u001b[0m \u001b[39m# progress until it enters the Try/Except block of the generator and\u001b[39;00m\n\u001b[0;32m   1940\u001b[0m \u001b[39m# reach the first `yield` statement. This starts the aynchronous\u001b[39;00m\n\u001b[0;32m   1941\u001b[0m \u001b[39m# dispatch of the tasks to the workers.\u001b[39;00m\n\u001b[0;32m   1942\u001b[0m \u001b[39mnext\u001b[39m(output)\n\u001b[1;32m-> 1944\u001b[0m \u001b[39mreturn\u001b[39;00m output \u001b[39mif\u001b[39;00m \u001b[39mself\u001b[39m\u001b[39m.\u001b[39mreturn_generator \u001b[39melse\u001b[39;00m \u001b[39mlist\u001b[39;49m(output)\n",
      "File \u001b[1;32mc:\\Users\\Gyeom\\anaconda3\\envs\\torch_3.11\\Lib\\site-packages\\joblib\\parallel.py:1587\u001b[0m, in \u001b[0;36mParallel._get_outputs\u001b[1;34m(self, iterator, pre_dispatch)\u001b[0m\n\u001b[0;32m   1584\u001b[0m     \u001b[39myield\u001b[39;00m\n\u001b[0;32m   1586\u001b[0m     \u001b[39mwith\u001b[39;00m \u001b[39mself\u001b[39m\u001b[39m.\u001b[39m_backend\u001b[39m.\u001b[39mretrieval_context():\n\u001b[1;32m-> 1587\u001b[0m         \u001b[39myield from\u001b[39;00m \u001b[39mself\u001b[39m\u001b[39m.\u001b[39m_retrieve()\n\u001b[0;32m   1589\u001b[0m \u001b[39mexcept\u001b[39;00m \u001b[39mGeneratorExit\u001b[39;00m:\n\u001b[0;32m   1590\u001b[0m     \u001b[39m# The generator has been garbage collected before being fully\u001b[39;00m\n\u001b[0;32m   1591\u001b[0m     \u001b[39m# consumed. This aborts the remaining tasks if possible and warn\u001b[39;00m\n\u001b[0;32m   1592\u001b[0m     \u001b[39m# the user if necessary.\u001b[39;00m\n\u001b[0;32m   1593\u001b[0m     \u001b[39mself\u001b[39m\u001b[39m.\u001b[39m_exception \u001b[39m=\u001b[39m \u001b[39mTrue\u001b[39;00m\n",
      "File \u001b[1;32mc:\\Users\\Gyeom\\anaconda3\\envs\\torch_3.11\\Lib\\site-packages\\joblib\\parallel.py:1699\u001b[0m, in \u001b[0;36mParallel._retrieve\u001b[1;34m(self)\u001b[0m\n\u001b[0;32m   1694\u001b[0m \u001b[39m# If the next job is not ready for retrieval yet, we just wait for\u001b[39;00m\n\u001b[0;32m   1695\u001b[0m \u001b[39m# async callbacks to progress.\u001b[39;00m\n\u001b[0;32m   1696\u001b[0m \u001b[39mif\u001b[39;00m ((\u001b[39mlen\u001b[39m(\u001b[39mself\u001b[39m\u001b[39m.\u001b[39m_jobs) \u001b[39m==\u001b[39m \u001b[39m0\u001b[39m) \u001b[39mor\u001b[39;00m\n\u001b[0;32m   1697\u001b[0m     (\u001b[39mself\u001b[39m\u001b[39m.\u001b[39m_jobs[\u001b[39m0\u001b[39m]\u001b[39m.\u001b[39mget_status(\n\u001b[0;32m   1698\u001b[0m         timeout\u001b[39m=\u001b[39m\u001b[39mself\u001b[39m\u001b[39m.\u001b[39mtimeout) \u001b[39m==\u001b[39m TASK_PENDING)):\n\u001b[1;32m-> 1699\u001b[0m     time\u001b[39m.\u001b[39msleep(\u001b[39m0.01\u001b[39m)\n\u001b[0;32m   1700\u001b[0m     \u001b[39mcontinue\u001b[39;00m\n\u001b[0;32m   1702\u001b[0m \u001b[39m# We need to be careful: the job list can be filling up as\u001b[39;00m\n\u001b[0;32m   1703\u001b[0m \u001b[39m# we empty it and Python list are not thread-safe by\u001b[39;00m\n\u001b[0;32m   1704\u001b[0m \u001b[39m# default hence the use of the lock\u001b[39;00m\n",
      "\u001b[1;31mKeyboardInterrupt\u001b[0m: "
     ]
    }
   ],
   "source": [
    "############ 로그 변환 포함 어떤 스케일링이 제일 효과적인지 계산 #############\n",
    "# Apply the function to compute out-of-fold predictions and average ROC AUC scores\n",
    "X, y = generateXY(df_train)\n",
    "str_kf = StratifiedKFold(n_splits = n_splits, shuffle=True, random_state=seed)\n",
    "\n",
    "all_oof_predictions, all_avg_roc_auc_scores = apply_scaling_and_cv(origin_models, X, y, str_kf) # Modify Models\n",
    "\n",
    "# For each scaling method, create a VotingClassifier based on the out-of-fold predictions\n",
    "for scaler_name in all_oof_predictions.keys():\n",
    "    print(f\"\\nApplying VotingClassifier for {scaler_name}...\")\n",
    "\n",
    "    # Get the out-of-fold predictions for the current scaling method\n",
    "    oof_predictions = all_oof_predictions[scaler_name]\n",
    "\n",
    "    # Fit a Ridge Classifier to compute the weights.\n",
    "    weights = RidgeClassifier(random_state=seed).fit(oof_predictions, y).coef_[0]\n",
    "    print(pd.DataFrame(weights, index = list(oof_predictions), columns = ['weight per model']))\n",
    "\n",
    "    # Create a voting classifier.\n",
    "    voting_clf = VotingClassifier(estimators=list(origin_models.items()), voting='soft', weights=weights.tolist()) # Modify Models\n",
    "\n",
    "    # Compute cross-validated\n",
    "    voting_score = cross_val_score(voting_clf, X, y, scoring='roc_auc', cv=str_kf)\n",
    "    print(f\"★VotingClassifier ROC AUC Score(Avg) {np.mean(voting_score):.7f} ± {np.std(voting_score) * 2:.5f}\")\n",
    "\n",
    "    # Fit the model to the training data.\n",
    "    voting_clf.fit(X, y)\n"
   ]
  },
  {
   "cell_type": "code",
   "execution_count": 49,
   "metadata": {},
   "outputs": [],
   "source": [
    "# '''\n",
    "# Voting 앙상블 예측값 추출\n",
    "# '''\n",
    "# X, y = generateXY(df_train)\n",
    "# voting_clf = perform_voting(origin_models, X, y, str_kf)"
   ]
  },
  {
   "cell_type": "code",
   "execution_count": 50,
   "metadata": {},
   "outputs": [],
   "source": [
    "# # Orignal data\n",
    "# Random Forest ROC AUC Score(Avg) 0.8567929\n",
    "# Extra Trees ROC AUC Score(Avg) 0.8528634\n",
    "# Hist Gradient Boosting ROC AUC Score(Avg) 0.8647233\n",
    "# XGBoost ROC AUC Score(Avg) 0.8651536\n",
    "# LightGBM ROC AUC Score(Avg) 0.8650397\n",
    "# CatBoost ROC AUC Score(Avg) 0.8687767\n",
    "# ★Models ROC AUC Score(Avg) = 0.8622249 +/- 0.01104\n",
    "\n",
    "# # 피쳐 추가 4개\n",
    "# Random Forest ROC AUC Score(Avg) 0.8563007\n",
    "# Extra Trees ROC AUC Score(Avg) 0.8514791\n",
    "# Hist Gradient Boosting ROC AUC Score(Avg) 0.8642605\n",
    "# XGBoost ROC AUC Score(Avg) 0.8646463\n",
    "# LightGBM ROC AUC Score(Avg) 0.8646350\n",
    "# CatBoost ROC AUC Score(Avg) 0.8684472\n",
    "# ★Models ROC AUC Score(Avg) = 0.8616281 +/- 0.01163\n",
    "\n",
    "# # BP_cat\n",
    "# Random Forest ROC AUC Score(Avg) 0.8568423\n",
    "# Extra Trees ROC AUC Score(Avg) 0.8516239\n",
    "# Hist Gradient Boosting ROC AUC Score(Avg) 0.8647233\n",
    "# XGBoost ROC AUC Score(Avg) 0.8651536\n",
    "# LightGBM ROC AUC Score(Avg) 0.8650397\n",
    "# CatBoost ROC AUC Score(Avg) 0.8688645\n",
    "# ★Models ROC AUC Score(Avg) = 0.8620412 ± 0.01178"
   ]
  },
  {
   "cell_type": "markdown",
   "metadata": {},
   "source": [
    "CV 점수 모음"
   ]
  },
  {
   "cell_type": "code",
   "execution_count": 51,
   "metadata": {},
   "outputs": [],
   "source": [
    "# Original\n",
    "# VotingClassifier ROC AUC Score(Avg) 0.8693841\n",
    "\n",
    "# 시력2+청력2+클리핑\n",
    "# VotingClassifier ROC AUC Score(Avg) 0.8692936 ± 0.00230\n",
    "\n",
    "# 퍼스널 스케일링\n",
    "# VotingClassifier ROC AUC Score(Avg) 0.8693923 ± 0.00196\n",
    "\n",
    "# NumtoCat\n",
    "# VotingClassifier ROC AUC Score(Avg) 0.8691293 ± 0.00255"
   ]
  },
  {
   "cell_type": "markdown",
   "metadata": {},
   "source": [
    "### __2) Hill_Climbing 앙상블__ (with Weights)"
   ]
  },
  {
   "cell_type": "code",
   "execution_count": 52,
   "metadata": {},
   "outputs": [],
   "source": [
    "def hill_climbing(x, y, x_test):\n",
    "\n",
    "    # Evaluating oof predictions\n",
    "    scores = {}\n",
    "    for col in x.columns:\n",
    "        scores[col] = roc_auc_score(y, x[col])\n",
    "\n",
    "    # Sorting the model scores\n",
    "    scores = {k: v for k, v in sorted(scores.items(), key = lambda item: item[1], reverse = True)}\n",
    "\n",
    "    # Sort oof_df and test_preds\n",
    "    x = x[list(scores.keys())]\n",
    "    x_test = x_test[list(scores.keys())]\n",
    "\n",
    "    STOP = False\n",
    "    current_best_ensemble = x.iloc[:,0]\n",
    "    current_best_test_preds = x_test.iloc[:,0]\n",
    "    MODELS = x.iloc[:,1:]\n",
    "    weight_range = np.arange(-0.5, 0.51, 0.01) \n",
    "    history = [roc_auc_score(y, current_best_ensemble)]\n",
    "    j = 0\n",
    "\n",
    "    while not STOP:\n",
    "        j += 1\n",
    "        potential_new_best_cv_score = roc_auc_score(y, current_best_ensemble)\n",
    "        k_best, wgt_best = None, None\n",
    "        for k in MODELS:\n",
    "            for wgt in weight_range:\n",
    "                potential_ensemble = (1 - wgt) * current_best_ensemble + wgt * MODELS[k]\n",
    "                cv_score = roc_auc_score(y, potential_ensemble)\n",
    "                if cv_score > potential_new_best_cv_score:\n",
    "                    potential_new_best_cv_score = cv_score\n",
    "                    k_best, wgt_best = k, wgt\n",
    "\n",
    "        if k_best is not None:\n",
    "            current_best_ensemble = (1 - wgt_best) * current_best_ensemble + wgt_best * MODELS[k_best]\n",
    "            current_best_test_preds = (1 - wgt_best) * current_best_test_preds + wgt_best * x_test[k_best]\n",
    "            MODELS.drop(k_best, axis = 1, inplace = True)\n",
    "            if MODELS.shape[1] == 0:\n",
    "                STOP = True\n",
    "            history.append(potential_new_best_cv_score)\n",
    "        else:\n",
    "            STOP = True\n",
    "\n",
    "    hill_ens_pred_1 = current_best_ensemble\n",
    "    hill_ens_pred_2 = current_best_test_preds\n",
    "\n",
    "    return [hill_ens_pred_1, hill_ens_pred_2]"
   ]
  },
  {
   "cell_type": "code",
   "execution_count": 53,
   "metadata": {},
   "outputs": [],
   "source": [
    "def perform_hill_climbing(models, X, y, cv):\n",
    "    hill_ens_cv_scores, hill_ens_preds = list(), list()\n",
    "\n",
    "    for i, (train_idx, test_idx) in enumerate(cv.split(X, y)):\n",
    "        X_train_fold, X_val_fold = X.iloc[train_idx], X.iloc[test_idx]\n",
    "        y_train_fold, y_val_fold = y.iloc[train_idx], y.iloc[test_idx]\n",
    "\n",
    "        preds_train = {}\n",
    "        preds_test = {}\n",
    "        for name, model in models.items():\n",
    "            trained_model = model.fit(X_train_fold, y_train_fold)\n",
    "            preds_train[name] = trained_model.predict_proba(X_val_fold)[:, 1]\n",
    "            preds_test[name] = trained_model.predict_proba(df_test)[:, 1]\n",
    "\n",
    "        oof_df_train, oof_df_test = pd.DataFrame(preds_train), pd.DataFrame(preds_test)\n",
    "\n",
    "        hill_results = hill_climbing(oof_df_train, y_val_fold, oof_df_test)\n",
    "\n",
    "        hill_ens_score_fold = roc_auc_score(y_val_fold, hill_results[0])\n",
    "        hill_ens_cv_scores.append(hill_ens_score_fold)\n",
    "        hill_ens_preds.append(hill_results[1])\n",
    "\n",
    "        print('Fold', i, '==> Hill Climbing Ensemble oof ROC-AUC score is ==>', hill_ens_score_fold)\n",
    "\n",
    "    print(f\"★The hill climbing ensemble oof ROC-AUC score over the {n_splits}-folds is {np.mean(hill_ens_cv_scores):.7f} ± {np.std(hill_ens_cv_scores) * 2:.5f}\")\n",
    "    return hill_ens_preds\n"
   ]
  },
  {
   "cell_type": "markdown",
   "metadata": {},
   "source": [
    "- 힐클라이밍 앙상블 수행"
   ]
  },
  {
   "cell_type": "code",
   "execution_count": 54,
   "metadata": {},
   "outputs": [
    {
     "name": "stderr",
     "output_type": "stream",
     "text": [
      "c:\\Users\\Gyeom\\anaconda3\\envs\\torch_3.11\\Lib\\site-packages\\xgboost\\core.py:160: UserWarning: [10:40:01] WARNING: C:\\buildkite-agent\\builds\\buildkite-windows-cpu-autoscaling-group-i-07f6e447eee219473-1\\xgboost\\xgboost-ci-windows\\src\\common\\error_msg.cc:58: Falling back to prediction using DMatrix due to mismatched devices. This might lead to higher memory usage and slower performance. XGBoost is running on: cuda:0, while the input data is on: cpu.\n",
      "Potential solutions:\n",
      "- Use a data structure that matches the device ordinal in the booster.\n",
      "- Set the device for booster before call to inplace_predict.\n",
      "\n",
      "This warning will only be shown once.\n",
      "\n",
      "  warnings.warn(smsg, UserWarning)\n"
     ]
    },
    {
     "name": "stdout",
     "output_type": "stream",
     "text": [
      "Fold 0 ==> Hill Climbing Ensemble oof ROC-AUC score is ==> 0.871158621852057\n",
      "Fold 1 ==> Hill Climbing Ensemble oof ROC-AUC score is ==> 0.8742767645656455\n",
      "Fold 2 ==> Hill Climbing Ensemble oof ROC-AUC score is ==> 0.8786360761197245\n",
      "Fold 3 ==> Hill Climbing Ensemble oof ROC-AUC score is ==> 0.8737740225991661\n",
      "Fold 4 ==> Hill Climbing Ensemble oof ROC-AUC score is ==> 0.8749194503452905\n",
      "Fold 5 ==> Hill Climbing Ensemble oof ROC-AUC score is ==> 0.873416871530641\n",
      "Fold 6 ==> Hill Climbing Ensemble oof ROC-AUC score is ==> 0.8718786053994463\n",
      "Fold 7 ==> Hill Climbing Ensemble oof ROC-AUC score is ==> 0.874931849938468\n",
      "Fold 8 ==> Hill Climbing Ensemble oof ROC-AUC score is ==> 0.8747375749923085\n",
      "Fold 9 ==> Hill Climbing Ensemble oof ROC-AUC score is ==> 0.8739549789765153\n",
      "★The hill climbing ensemble oof ROC-AUC score over the 5-folds is 0.8741685 ± 0.00382\n"
     ]
    }
   ],
   "source": [
    "X, y = generateXY(df_train)\n",
    "\n",
    "hill_ens_preds = perform_hill_climbing(origin_models, X, y, str_kf)\n"
   ]
  },
  {
   "cell_type": "code",
   "execution_count": 55,
   "metadata": {},
   "outputs": [],
   "source": [
    "# 힐클라이밍\n",
    "# The hill climbing ensemble oof ROC-AUC score over the 5-folds is 0.8694200484110238\n",
    "\n",
    "# 힐클라이밍+퍼스널 스케일링 0.87254\n",
    "# The hill climbing ensemble oof ROC-AUC score over the 5-folds is 0.8694473851140737\n",
    "\n",
    "# 힐클라이밍 + 혈압 관련 피처 추가\n",
    "# ★The hill climbing ensemble oof ROC-AUC score over the 5-folds is 0.8694840 ± 0.00207\n",
    "\n",
    "# 힐클라이밍 + NumtoCat\n",
    "# ★The hill climbing ensemble oof ROC-AUC score over the 5-folds is 0.8691562 ± 0.00244"
   ]
  },
  {
   "cell_type": "markdown",
   "metadata": {},
   "source": [
    "---"
   ]
  },
  {
   "cell_type": "markdown",
   "metadata": {},
   "source": [
    "# 📝Final Submit"
   ]
  },
  {
   "cell_type": "code",
   "execution_count": 56,
   "metadata": {},
   "outputs": [],
   "source": [
    "# # VotingClassifier 앙상블 예측값 추출\n",
    "# # Make predictions on test data. \n",
    "# test_predictions = voting_clf.predict_proba(df_test)[:, 1]"
   ]
  },
  {
   "cell_type": "code",
   "execution_count": 57,
   "metadata": {},
   "outputs": [],
   "source": [
    "# Hill_Climbing 앙상블 예측값 추출\n",
    "test_predictions = pd.DataFrame(hill_ens_preds).apply(np.mean, axis = 0)"
   ]
  },
  {
   "cell_type": "code",
   "execution_count": 58,
   "metadata": {},
   "outputs": [
    {
     "data": {
      "text/html": [
       "<div>\n",
       "<style scoped>\n",
       "    .dataframe tbody tr th:only-of-type {\n",
       "        vertical-align: middle;\n",
       "    }\n",
       "\n",
       "    .dataframe tbody tr th {\n",
       "        vertical-align: top;\n",
       "    }\n",
       "\n",
       "    .dataframe thead th {\n",
       "        text-align: right;\n",
       "    }\n",
       "</style>\n",
       "<table border=\"1\" class=\"dataframe\">\n",
       "  <thead>\n",
       "    <tr style=\"text-align: right;\">\n",
       "      <th></th>\n",
       "      <th>id</th>\n",
       "      <th>smoking</th>\n",
       "    </tr>\n",
       "  </thead>\n",
       "  <tbody>\n",
       "    <tr>\n",
       "      <th>0</th>\n",
       "      <td>159256</td>\n",
       "      <td>0.746131</td>\n",
       "    </tr>\n",
       "    <tr>\n",
       "      <th>1</th>\n",
       "      <td>159257</td>\n",
       "      <td>0.341887</td>\n",
       "    </tr>\n",
       "    <tr>\n",
       "      <th>2</th>\n",
       "      <td>159258</td>\n",
       "      <td>0.529275</td>\n",
       "    </tr>\n",
       "    <tr>\n",
       "      <th>3</th>\n",
       "      <td>159259</td>\n",
       "      <td>0.030834</td>\n",
       "    </tr>\n",
       "    <tr>\n",
       "      <th>4</th>\n",
       "      <td>159260</td>\n",
       "      <td>0.727169</td>\n",
       "    </tr>\n",
       "  </tbody>\n",
       "</table>\n",
       "</div>"
      ],
      "text/plain": [
       "       id   smoking\n",
       "0  159256  0.746131\n",
       "1  159257  0.341887\n",
       "2  159258  0.529275\n",
       "3  159259  0.030834\n",
       "4  159260  0.727169"
      ]
     },
     "execution_count": 58,
     "metadata": {},
     "output_type": "execute_result"
    }
   ],
   "source": [
    "df_submit = pd.DataFrame({'id':ids_test,'smoking': test_predictions})\n",
    "df_submit.head()"
   ]
  },
  {
   "cell_type": "code",
   "execution_count": 60,
   "metadata": {},
   "outputs": [
    {
     "name": "stdout",
     "output_type": "stream",
     "text": [
      "Successfully submitted to Binary Prediction of Smoker Status using Bio-Signals\n"
     ]
    },
    {
     "name": "stderr",
     "output_type": "stream",
     "text": [
      "\n",
      "  0%|          | 0.00/2.77M [00:00<?, ?B/s]\n",
      "  0%|          | 8.00k/2.77M [00:00<01:06, 43.7kB/s]\n",
      "  7%|▋         | 208k/2.77M [00:00<00:02, 907kB/s]  \n",
      " 21%|██        | 592k/2.77M [00:00<00:01, 1.95MB/s]\n",
      " 33%|███▎      | 928k/2.77M [00:00<00:00, 2.17MB/s]\n",
      " 41%|████      | 1.13M/2.77M [00:00<00:00, 1.74MB/s]\n",
      " 48%|████▊     | 1.32M/2.77M [00:00<00:00, 1.70MB/s]\n",
      " 54%|█████▍    | 1.50M/2.77M [00:00<00:00, 1.67MB/s]\n",
      " 61%|██████    | 1.70M/2.77M [00:01<00:00, 1.76MB/s]\n",
      " 68%|██████▊   | 1.88M/2.77M [00:01<00:00, 1.75MB/s]\n",
      " 75%|███████▍  | 2.07M/2.77M [00:01<00:00, 1.82MB/s]\n",
      " 83%|████████▎ | 2.29M/2.77M [00:01<00:00, 1.91MB/s]\n",
      " 90%|█████████ | 2.51M/2.77M [00:01<00:00, 2.00MB/s]\n",
      " 99%|█████████▉| 2.76M/2.77M [00:01<00:00, 2.17MB/s]\n",
      "100%|██████████| 2.77M/2.77M [00:03<00:00, 756kB/s] \n"
     ]
    }
   ],
   "source": [
    "# df_submit.to_csv('submission19.csv', index=False)\n",
    "# !kaggle competitions submit -c playground-series-s3e24 -f submission19.csv -m \"힐클라이밍+fold10+혈압+최적화\""
   ]
  },
  {
   "cell_type": "code",
   "execution_count": null,
   "metadata": {},
   "outputs": [],
   "source": []
  }
 ],
 "metadata": {
  "kernelspec": {
   "display_name": "tf",
   "language": "python",
   "name": "python3"
  },
  "language_info": {
   "codemirror_mode": {
    "name": "ipython",
    "version": 3
   },
   "file_extension": ".py",
   "mimetype": "text/x-python",
   "name": "python",
   "nbconvert_exporter": "python",
   "pygments_lexer": "ipython3",
   "version": "3.11.3"
  }
 },
 "nbformat": 4,
 "nbformat_minor": 2
}
