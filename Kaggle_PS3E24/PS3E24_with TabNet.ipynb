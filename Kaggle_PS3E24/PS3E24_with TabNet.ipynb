{
 "cells": [
  {
   "cell_type": "code",
   "execution_count": 1,
   "metadata": {},
   "outputs": [],
   "source": [
    "import os\n",
    "os.environ['PYTHONIOENCODING'] = 'utf8' # 시스템 기본 인코딩 변경\n",
    "os.environ['LOKY_MAX_CPU_COUNT'] = '4' #\n",
    "# os.environ[\"CUDA_VISIBLE_DEVICES\"] = '0'"
   ]
  },
  {
   "cell_type": "markdown",
   "metadata": {},
   "source": [
    "# 📌Import Module & Load Data"
   ]
  },
  {
   "cell_type": "code",
   "execution_count": 2,
   "metadata": {},
   "outputs": [],
   "source": [
    "import numpy as np\n",
    "import pandas as pd\n",
    "import seaborn as sns\n",
    "import matplotlib.pyplot as plt\n",
    "import scipy\n",
    "import torch\n",
    "from tqdm import tqdm\n",
    "\n",
    "# preprocessing\n",
    "from sklearn.preprocessing import FunctionTransformer, StandardScaler, MinMaxScaler, RobustScaler\n",
    "\n",
    "# cv\n",
    "from sklearn.metrics import roc_auc_score\n",
    "from sklearn.model_selection import train_test_split\n",
    "from sklearn.model_selection import StratifiedKFold, cross_val_score\n",
    "from sklearn.model_selection import cross_val_predict\n",
    "\n",
    "# model\n",
    "from catboost import CatBoostClassifier\n",
    "from sklearn.tree import DecisionTreeClassifier\n",
    "from sklearn.linear_model import LogisticRegression\n",
    "from sklearn.ensemble import RandomForestClassifier, ExtraTreesClassifier, HistGradientBoostingClassifier\n",
    "from xgboost import XGBClassifier\n",
    "from lightgbm import LGBMClassifier\n",
    "from pytorch_tabnet.tab_model import TabNetClassifier\n",
    "\n",
    "# pipeline & ensemble\n",
    "from sklearn.pipeline import make_pipeline\n",
    "from sklearn.linear_model import RidgeClassifier\n",
    "from sklearn.ensemble import VotingClassifier\n",
    "\n",
    "# parameter\n",
    "import optuna"
   ]
  },
  {
   "cell_type": "code",
   "execution_count": 3,
   "metadata": {},
   "outputs": [],
   "source": [
    "df_train=pd.read_csv('C:/Users/Gyeom/.kaggle/input/playground-series-s3e24/train.csv')\n",
    "df_test=pd.read_csv('C:/Users/Gyeom/.kaggle/input/playground-series-s3e24/test.csv')"
   ]
  },
  {
   "cell_type": "markdown",
   "metadata": {},
   "source": [
    "---"
   ]
  },
  {
   "cell_type": "markdown",
   "metadata": {},
   "source": [
    "# ⚙️Setting"
   ]
  },
  {
   "cell_type": "code",
   "execution_count": 4,
   "metadata": {},
   "outputs": [],
   "source": [
    "ids_test = df_test['id']\n",
    "df_train = df_train.drop(columns='id')\n",
    "df_test = df_test.drop(columns='id')"
   ]
  },
  {
   "cell_type": "code",
   "execution_count": 5,
   "metadata": {},
   "outputs": [],
   "source": [
    "# 주어진 데이터를 특성 행렬 (X)과 타겟 벡터 (y)로 분할\n",
    "def generateXY(trainData):\n",
    "    x = trainData.drop(columns='smoking')\n",
    "    y = trainData.smoking\n",
    "    return x,y"
   ]
  },
  {
   "cell_type": "code",
   "execution_count": 6,
   "metadata": {},
   "outputs": [],
   "source": [
    "# import warnings\n",
    "# warnings.filterwarnings(\"ignore\")\n",
    "\n",
    "# def objectiveTab(trial):\n",
    "#     # TabNet parameters to optimize\n",
    "#     n_d_a = trial.suggest_int('n_d_a', 8, 64, 4)\n",
    "#     clf_params = {\n",
    "#         'mask_type': trial.suggest_categorical(\"mask_type\", [\"sparsemax\", \"entmax\"]),\n",
    "#         'n_d': n_d_a,\n",
    "#         'n_a': n_d_a,\n",
    "#         'n_steps': trial.suggest_int('n_steps', 3, 10),\n",
    "#         'gamma': trial.suggest_float('gamma', 1.0, 2.0),\n",
    "#         'n_shared': trial.suggest_int(\"n_shared\", 1, 3),\n",
    "#         'lambda_sparse': trial.suggest_float('lambda_sparse', 1e-5, 1e-1, log=True),\n",
    "#         'optimizer_fn': torch.optim.Adam,\n",
    "#         'optimizer_params': dict(lr=trial.suggest_float('lr',1e-3 ,3e-2, log=True)),\n",
    "#         'verbose': 0,\n",
    "#     }\n",
    "    \n",
    "#     # 데이터 세팅\n",
    "#     X, y = generateXY(df_train)\n",
    "#     str_kf = StratifiedKFold(n_splits = 5, shuffle=True, random_state=42)\n",
    "    \n",
    "#     # 결과를 저장할 리스트 초기화\n",
    "#     scores_list = []\n",
    "#     for i, (train_index, valid_index) in enumerate(str_kf.split(X, y)):\n",
    "#         X_train_fold, X_val_fold = X.iloc[train_index], X.iloc[valid_index]\n",
    "#         y_train_fold, y_val_fold = y.iloc[train_index], y.iloc[valid_index]\n",
    "        \n",
    "#         scaler = StandardScaler()\n",
    "#         X_train_scaled = scaler.fit_transform(X_train_fold.values)\n",
    "#         X_val_scaled = scaler.transform(X_val_fold.values)\n",
    "\n",
    "#         clf = TabNetClassifier(**clf_params)\n",
    "#         clf.fit(\n",
    "#             X_train_scaled,\n",
    "#             y_train_fold.values,\n",
    "#             eval_set=[(X_val_scaled,y_val_fold.values)],\n",
    "#             eval_metric=['auc'],\n",
    "#             max_epochs = 100,\n",
    "#             # early stopping options - stop training if metric does not improve for 10 epochs.\n",
    "#             patience=10 \n",
    "#         )\n",
    "#         scores_list.append(clf.best_cost)\n",
    "# #         preds_val = clf.predict_proba(X_val_fold.values)\n",
    "# #         score_val_auc = roc_auc_score(y_true=y_val_fold.values, y_score=preds_val[:,1])\n",
    "# #         print(f'TabNetClassifier has ROC AUC Score(Avg) = {score_val_auc}')\n",
    "\n",
    "# #         scores_list.append(score_val_auc)\n",
    "#     print(f'TabNetClassifier has ROC AUC Score(Avg) = {np.mean(scores_list):.7f} +/- {np.std(scores_list) * 2:.5f}')\n",
    "#     print()\n",
    "#     return np.mean(scores_list)"
   ]
  },
  {
   "cell_type": "code",
   "execution_count": 7,
   "metadata": {},
   "outputs": [],
   "source": [
    "# study = optuna.create_study(direction='maximize', study_name='TabNet optimization')\n",
    "# study.optimize(objectiveTab, n_trials=30)\n",
    "\n",
    "# best_trial = study.best_trial\n",
    "\n",
    "# print(f\"Best Trial: {best_trial.number}\")\n",
    "# print(f\"Best Value: {best_trial.value}\")\n",
    "# print(\"Best Parameters:\")\n",
    "# for key, value in best_trial.params.items():\n",
    "#     print(f\"{key}: {value}\")"
   ]
  },
  {
   "cell_type": "markdown",
   "metadata": {},
   "source": [
    "---"
   ]
  },
  {
   "cell_type": "markdown",
   "metadata": {},
   "source": [
    "# 📈Train"
   ]
  },
  {
   "cell_type": "code",
   "execution_count": 8,
   "metadata": {},
   "outputs": [
    {
     "name": "stderr",
     "output_type": "stream",
     "text": [
      "  0%|          | 0/5 [00:00<?, ?it/s]"
     ]
    },
    {
     "name": "stdout",
     "output_type": "stream",
     "text": [
      "\n",
      "Early stopping occurred at epoch 48 with best_epoch = 38 and best_val_0_auc = 0.85852\n"
     ]
    },
    {
     "name": "stderr",
     "output_type": "stream",
     "text": [
      "c:\\Users\\Gyeom\\anaconda3\\envs\\torch_3.11\\Lib\\site-packages\\pytorch_tabnet\\callbacks.py:172: UserWarning: Best weights from best epoch are automatically used!\n",
      "  warnings.warn(wrn_msg)\n",
      " 20%|██        | 1/5 [06:44<26:58, 404.52s/it]"
     ]
    },
    {
     "name": "stdout",
     "output_type": "stream",
     "text": [
      "TabNetClassifier has ROC AUC Score(Avg) = 0.8585188631121607\n",
      "\n",
      "Early stopping occurred at epoch 23 with best_epoch = 13 and best_val_0_auc = 0.86096\n"
     ]
    },
    {
     "name": "stderr",
     "output_type": "stream",
     "text": [
      "c:\\Users\\Gyeom\\anaconda3\\envs\\torch_3.11\\Lib\\site-packages\\pytorch_tabnet\\callbacks.py:172: UserWarning: Best weights from best epoch are automatically used!\n",
      "  warnings.warn(wrn_msg)\n",
      " 40%|████      | 2/5 [10:02<14:09, 283.18s/it]"
     ]
    },
    {
     "name": "stdout",
     "output_type": "stream",
     "text": [
      "TabNetClassifier has ROC AUC Score(Avg) = 0.8609559463029524\n",
      "\n",
      "Early stopping occurred at epoch 24 with best_epoch = 14 and best_val_0_auc = 0.85905\n"
     ]
    },
    {
     "name": "stderr",
     "output_type": "stream",
     "text": [
      "c:\\Users\\Gyeom\\anaconda3\\envs\\torch_3.11\\Lib\\site-packages\\pytorch_tabnet\\callbacks.py:172: UserWarning: Best weights from best epoch are automatically used!\n",
      "  warnings.warn(wrn_msg)\n",
      " 60%|██████    | 3/5 [13:30<08:17, 248.75s/it]"
     ]
    },
    {
     "name": "stdout",
     "output_type": "stream",
     "text": [
      "TabNetClassifier has ROC AUC Score(Avg) = 0.8590512944217419\n",
      "\n",
      "Early stopping occurred at epoch 33 with best_epoch = 23 and best_val_0_auc = 0.85724\n"
     ]
    },
    {
     "name": "stderr",
     "output_type": "stream",
     "text": [
      "c:\\Users\\Gyeom\\anaconda3\\envs\\torch_3.11\\Lib\\site-packages\\pytorch_tabnet\\callbacks.py:172: UserWarning: Best weights from best epoch are automatically used!\n",
      "  warnings.warn(wrn_msg)\n",
      " 80%|████████  | 4/5 [18:04<04:18, 258.73s/it]"
     ]
    },
    {
     "name": "stdout",
     "output_type": "stream",
     "text": [
      "TabNetClassifier has ROC AUC Score(Avg) = 0.8572407583045842\n",
      "\n",
      "Early stopping occurred at epoch 25 with best_epoch = 15 and best_val_0_auc = 0.86135\n"
     ]
    },
    {
     "name": "stderr",
     "output_type": "stream",
     "text": [
      "c:\\Users\\Gyeom\\anaconda3\\envs\\torch_3.11\\Lib\\site-packages\\pytorch_tabnet\\callbacks.py:172: UserWarning: Best weights from best epoch are automatically used!\n",
      "  warnings.warn(wrn_msg)\n",
      "100%|██████████| 5/5 [21:36<00:00, 259.27s/it]"
     ]
    },
    {
     "name": "stdout",
     "output_type": "stream",
     "text": [
      "TabNetClassifier has ROC AUC Score(Avg) = 0.8613545478955196\n",
      "★TabNetClassifier has ROC AUC Score(Avg) = 0.8594243 +/- 0.00307\n"
     ]
    },
    {
     "name": "stderr",
     "output_type": "stream",
     "text": [
      "\n"
     ]
    }
   ],
   "source": [
    "# TabNet parameters\n",
    "opt_tabn_params = {'n_d': 8,\n",
    "                   'n_a': 8,\n",
    "                   'mask_type': 'entmax', \n",
    "                   'n_steps': 4, \n",
    "                   'gamma': 1.243456559159334, \n",
    "                   'n_shared': 3, \n",
    "                   'lambda_sparse': 0.0003086035231373375,\n",
    "                   'optimizer_fn': torch.optim.Adam,\n",
    "                   'optimizer_params': dict(lr= 0.025040231307553586),\n",
    "                   'verbose': 0,\n",
    "                  }\n",
    "opt_tabn_params2 = {'n_d': 32,\n",
    "                    'n_a': 32,\n",
    "                    'mask_type': 'entmax', \n",
    "                    'n_steps': 5, \n",
    "                    'gamma': 1.281864812982242, \n",
    "                    'n_shared': 2, \n",
    "                    'lambda_sparse': 0.00035724765382634565, \n",
    "                    'optimizer_fn': torch.optim.Adam,\n",
    "                    'optimizer_params': dict(lr= 0.014849401156317103),\n",
    "                    'verbose': 0,\n",
    "                    }\n",
    "opt_tabn_params3 = {'n_d': 20,\n",
    "                    'n_a': 20,\n",
    "                    'mask_type': 'sparsemax',\n",
    "                    'n_steps': 4,\n",
    "                    'gamma': 1.989597966500972,\n",
    "                    'n_shared': 1,\n",
    "                    'lambda_sparse': 5.2615185452059766e-05,\n",
    "                    'optimizer_fn': torch.optim.Adam,\n",
    "                    'optimizer_params': dict(lr= 0.01989272121849772),\n",
    "                    'verbose': 0,\n",
    "                    }\n",
    "\n",
    "# Prepare your dataset.\n",
    "X, y = generateXY(df_train)\n",
    "\n",
    "# 결과를 저장할 리스트 초기화\n",
    "scores_list = []\n",
    "\n",
    "str_kf = StratifiedKFold(n_splits=5, shuffle=True, random_state=42)\n",
    "\n",
    "for i, (train_index, valid_index) in enumerate(str_kf.split(X, y)):\n",
    "    X_train_fold, X_val_fold = X.iloc[train_index], X.iloc[valid_index]\n",
    "    y_train_fold, y_val_fold = y.iloc[train_index], y.iloc[valid_index]\n",
    "    \n",
    "    # Initialize the model with the parameters set above.\n",
    "    clf = TabNetClassifier(**opt_tabn_params2)\n",
    "    clf.fit(\n",
    "        X_train=X_train_fold.values,\n",
    "        y_train=y_train_fold.values,\n",
    "        eval_set=[(X_val_fold.values,y_val_fold.values)],\n",
    "        eval_metric=['auc'],\n",
    "        max_epochs=100,\n",
    "        patience=10  # early stopping options - stop training if metric does not improve for 10 epochs.\n",
    "    )\n",
    "    preds_val = clf.predict_proba(X_val_fold.values)\n",
    "    score_val_auc = roc_auc_score(y_true=y_val_fold.values,y_score=preds_val[:,1])\n",
    "    print(f'TabNetClassifier has ROC AUC Score(Avg) = {score_val_auc}')\n",
    "    \n",
    "    scores_list.append(score_val_auc)\n",
    "print(f'★TabNetClassifier has ROC AUC Score(Avg) = {np.mean(scores_list):.7f} +/- {np.std(scores_list) * 2:.5f}')"
   ]
  },
  {
   "cell_type": "code",
   "execution_count": null,
   "metadata": {},
   "outputs": [],
   "source": [
    "# opt_tabn_params ★TabNetClassifier has ROC AUC Score(Avg) = 0.8594234 +/- 0.00176\n",
    "# opt_tabn_params3 ★TabNetClassifier has ROC AUC Score(Avg) = 0.8594243 +/- 0.00307"
   ]
  },
  {
   "cell_type": "code",
   "execution_count": 9,
   "metadata": {},
   "outputs": [
    {
     "data": {
      "text/html": [
       "<div>\n",
       "<style scoped>\n",
       "    .dataframe tbody tr th:only-of-type {\n",
       "        vertical-align: middle;\n",
       "    }\n",
       "\n",
       "    .dataframe tbody tr th {\n",
       "        vertical-align: top;\n",
       "    }\n",
       "\n",
       "    .dataframe thead th {\n",
       "        text-align: right;\n",
       "    }\n",
       "</style>\n",
       "<table border=\"1\" class=\"dataframe\">\n",
       "  <thead>\n",
       "    <tr style=\"text-align: right;\">\n",
       "      <th></th>\n",
       "      <th>id</th>\n",
       "      <th>smoking</th>\n",
       "    </tr>\n",
       "  </thead>\n",
       "  <tbody>\n",
       "    <tr>\n",
       "      <th>0</th>\n",
       "      <td>159256</td>\n",
       "      <td>0.637591</td>\n",
       "    </tr>\n",
       "    <tr>\n",
       "      <th>1</th>\n",
       "      <td>159257</td>\n",
       "      <td>0.209604</td>\n",
       "    </tr>\n",
       "    <tr>\n",
       "      <th>2</th>\n",
       "      <td>159258</td>\n",
       "      <td>0.398783</td>\n",
       "    </tr>\n",
       "    <tr>\n",
       "      <th>3</th>\n",
       "      <td>159259</td>\n",
       "      <td>0.020589</td>\n",
       "    </tr>\n",
       "    <tr>\n",
       "      <th>4</th>\n",
       "      <td>159260</td>\n",
       "      <td>0.698793</td>\n",
       "    </tr>\n",
       "  </tbody>\n",
       "</table>\n",
       "</div>"
      ],
      "text/plain": [
       "       id   smoking\n",
       "0  159256  0.637591\n",
       "1  159257  0.209604\n",
       "2  159258  0.398783\n",
       "3  159259  0.020589\n",
       "4  159260  0.698793"
      ]
     },
     "execution_count": 9,
     "metadata": {},
     "output_type": "execute_result"
    }
   ],
   "source": [
    "preds = clf.predict_proba(df_test.values)[:, 1]\n",
    "\n",
    "df_submit = pd.DataFrame({'id':ids_test,'smoking': preds})\n",
    "df_submit.head()"
   ]
  },
  {
   "cell_type": "code",
   "execution_count": 11,
   "metadata": {},
   "outputs": [],
   "source": [
    "df_submit.to_csv('opt_tabnet_submission.csv', index=False)"
   ]
  },
  {
   "cell_type": "code",
   "execution_count": 12,
   "metadata": {},
   "outputs": [
    {
     "name": "stdout",
     "output_type": "stream",
     "text": [
      "Successfully submitted to Binary Prediction of Smoker Status using Bio-Signals\n"
     ]
    },
    {
     "name": "stderr",
     "output_type": "stream",
     "text": [
      "\n",
      "  0%|          | 0.00/1.91M [00:00<?, ?B/s]\n",
      "  0%|          | 8.00k/1.91M [00:00<00:48, 41.0kB/s]\n",
      " 19%|█▉        | 368k/1.91M [00:00<00:01, 1.42MB/s] \n",
      " 54%|█████▎    | 1.02M/1.91M [00:00<00:00, 3.36MB/s]\n",
      " 77%|███████▋  | 1.46M/1.91M [00:00<00:00, 3.75MB/s]\n",
      " 98%|█████████▊| 1.88M/1.91M [00:01<00:00, 1.74MB/s]\n",
      "100%|██████████| 1.91M/1.91M [00:02<00:00, 674kB/s] \n"
     ]
    }
   ],
   "source": [
    "# !kaggle competitions submit -c playground-series-s3e24 -f opt_tabnet_submission.csv -m \"최적화 TabNet 모델\""
   ]
  },
  {
   "cell_type": "code",
   "execution_count": null,
   "metadata": {},
   "outputs": [],
   "source": []
  }
 ],
 "metadata": {
  "kernelspec": {
   "display_name": "torch_3.11",
   "language": "python",
   "name": "python3"
  },
  "language_info": {
   "codemirror_mode": {
    "name": "ipython",
    "version": 3
   },
   "file_extension": ".py",
   "mimetype": "text/x-python",
   "name": "python",
   "nbconvert_exporter": "python",
   "pygments_lexer": "ipython3",
   "version": "3.11.3"
  }
 },
 "nbformat": 4,
 "nbformat_minor": 2
}
