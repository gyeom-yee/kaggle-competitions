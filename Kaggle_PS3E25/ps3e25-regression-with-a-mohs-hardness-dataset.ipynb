{
 "cells": [
  {
   "cell_type": "markdown",
   "id": "14e8f1ab",
   "metadata": {
    "papermill": {
     "duration": 0.026745,
     "end_time": "2023-12-05T15:56:18.503393",
     "exception": false,
     "start_time": "2023-12-05T15:56:18.476648",
     "status": "completed"
    },
    "tags": []
   },
   "source": [
    "# 📌Import Module & Load Data"
   ]
  },
  {
   "cell_type": "code",
   "execution_count": 1,
   "id": "a6b14f23",
   "metadata": {
    "execution": {
     "iopub.execute_input": "2023-12-05T15:56:18.559206Z",
     "iopub.status.busy": "2023-12-05T15:56:18.558275Z",
     "iopub.status.idle": "2023-12-05T15:56:35.119379Z",
     "shell.execute_reply": "2023-12-05T15:56:35.117739Z"
    },
    "papermill": {
     "duration": 16.592428,
     "end_time": "2023-12-05T15:56:35.122287",
     "exception": false,
     "start_time": "2023-12-05T15:56:18.529859",
     "status": "completed"
    },
    "tags": []
   },
   "outputs": [],
   "source": [
    "!pip install -q scikit-lego"
   ]
  },
  {
   "cell_type": "code",
   "execution_count": 2,
   "id": "53b1612f",
   "metadata": {
    "execution": {
     "iopub.execute_input": "2023-12-05T15:56:35.178603Z",
     "iopub.status.busy": "2023-12-05T15:56:35.178128Z",
     "iopub.status.idle": "2023-12-05T15:56:44.806655Z",
     "shell.execute_reply": "2023-12-05T15:56:44.805301Z"
    },
    "papermill": {
     "duration": 9.660341,
     "end_time": "2023-12-05T15:56:44.809501",
     "exception": false,
     "start_time": "2023-12-05T15:56:35.149160",
     "status": "completed"
    },
    "tags": []
   },
   "outputs": [],
   "source": [
    "import numpy as np\n",
    "import pandas as pd\n",
    "import seaborn as sns\n",
    "import matplotlib.pyplot as plt\n",
    "import tqdm\n",
    "import scipy\n",
    "import torch\n",
    "import math\n",
    "import sklearn\n",
    "\n",
    "# preprocessing\n",
    "from sklearn.preprocessing import FunctionTransformer, StandardScaler, MinMaxScaler, RobustScaler, QuantileTransformer\n",
    "\n",
    "# cv\n",
    "from sklearn.model_selection import train_test_split\n",
    "from sklearn.model_selection import KFold, StratifiedKFold, cross_val_score\n",
    "from sklearn.model_selection import cross_val_predict\n",
    "from sklearn.metrics import median_absolute_error, roc_auc_score, roc_curve\n",
    "\n",
    "# model\n",
    "from sklearn.neighbors import KNeighborsRegressor\n",
    "from sklearn.feature_selection import RFE, RFECV\n",
    "from sklearn.isotonic import IsotonicRegression\n",
    "from sklearn.calibration import CalibrationDisplay\n",
    "from sklearn.inspection import PartialDependenceDisplay, permutation_importance\n",
    "from sklearn.ensemble import RandomForestRegressor, HistGradientBoostingRegressor, GradientBoostingRegressor, ExtraTreesRegressor, VotingRegressor, StackingRegressor\n",
    "from sklearn.svm import SVR\n",
    "from lightgbm import LGBMRegressor\n",
    "from xgboost import XGBRegressor, XGBClassifier\n",
    "from catboost import CatBoostRegressor\n",
    "# from sklego.linear_model import LADRegression\n",
    "\n",
    "\n",
    "# pipeline & ensemble\n",
    "from sklearn.pipeline import make_pipeline\n",
    "from sklearn.linear_model import Ridge\n",
    "from sklearn.ensemble import VotingRegressor, StackingRegressor\n",
    "from sklego.linear_model import LADRegression\n",
    "from sklearn.base import clone\n",
    "\n",
    "# parameter\n",
    "import optuna\n",
    "from optuna.pruners import MedianPruner\n",
    "from optuna.samplers import TPESampler"
   ]
  },
  {
   "cell_type": "code",
   "execution_count": 3,
   "id": "54b50cbb",
   "metadata": {
    "execution": {
     "iopub.execute_input": "2023-12-05T15:56:44.864246Z",
     "iopub.status.busy": "2023-12-05T15:56:44.863803Z",
     "iopub.status.idle": "2023-12-05T15:56:44.950539Z",
     "shell.execute_reply": "2023-12-05T15:56:44.949355Z"
    },
    "papermill": {
     "duration": 0.117314,
     "end_time": "2023-12-05T15:56:44.953391",
     "exception": false,
     "start_time": "2023-12-05T15:56:44.836077",
     "status": "completed"
    },
    "tags": []
   },
   "outputs": [],
   "source": [
    "df_train=pd.read_csv('/kaggle/input/playground-series-s3e25/train.csv')\n",
    "df_test=pd.read_csv('/kaggle/input/playground-series-s3e25/test.csv')"
   ]
  },
  {
   "cell_type": "markdown",
   "id": "d02507bd",
   "metadata": {
    "papermill": {
     "duration": 0.026708,
     "end_time": "2023-12-05T15:56:45.007776",
     "exception": false,
     "start_time": "2023-12-05T15:56:44.981068",
     "status": "completed"
    },
    "tags": []
   },
   "source": [
    "---"
   ]
  },
  {
   "cell_type": "markdown",
   "id": "aacd9b0b",
   "metadata": {
    "papermill": {
     "duration": 0.096405,
     "end_time": "2023-12-05T15:56:45.132282",
     "exception": false,
     "start_time": "2023-12-05T15:56:45.035877",
     "status": "completed"
    },
    "tags": []
   },
   "source": [
    "# ⚙️Setting"
   ]
  },
  {
   "cell_type": "code",
   "execution_count": 4,
   "id": "e5769e31",
   "metadata": {
    "execution": {
     "iopub.execute_input": "2023-12-05T15:56:45.188973Z",
     "iopub.status.busy": "2023-12-05T15:56:45.188145Z",
     "iopub.status.idle": "2023-12-05T15:56:45.211062Z",
     "shell.execute_reply": "2023-12-05T15:56:45.209980Z"
    },
    "papermill": {
     "duration": 0.054403,
     "end_time": "2023-12-05T15:56:45.213796",
     "exception": false,
     "start_time": "2023-12-05T15:56:45.159393",
     "status": "completed"
    },
    "tags": []
   },
   "outputs": [],
   "source": [
    "ids_test = df_test['id']\n",
    "df_train = df_train.drop(columns='id')\n",
    "df_test = df_test.drop(columns='id')"
   ]
  },
  {
   "cell_type": "code",
   "execution_count": 5,
   "id": "a6ea80ee",
   "metadata": {
    "execution": {
     "iopub.execute_input": "2023-12-05T15:56:45.271448Z",
     "iopub.status.busy": "2023-12-05T15:56:45.270556Z",
     "iopub.status.idle": "2023-12-05T15:56:45.277490Z",
     "shell.execute_reply": "2023-12-05T15:56:45.276233Z"
    },
    "papermill": {
     "duration": 0.037817,
     "end_time": "2023-12-05T15:56:45.279902",
     "exception": false,
     "start_time": "2023-12-05T15:56:45.242085",
     "status": "completed"
    },
    "tags": []
   },
   "outputs": [
    {
     "name": "stdout",
     "output_type": "stream",
     "text": [
      "(10407, 12)\n",
      "(6939, 11)\n"
     ]
    }
   ],
   "source": [
    "print(df_train.shape)\n",
    "print(df_test.shape)"
   ]
  },
  {
   "cell_type": "code",
   "execution_count": 6,
   "id": "354ae0e4",
   "metadata": {
    "execution": {
     "iopub.execute_input": "2023-12-05T15:56:45.336729Z",
     "iopub.status.busy": "2023-12-05T15:56:45.335892Z",
     "iopub.status.idle": "2023-12-05T15:56:45.340763Z",
     "shell.execute_reply": "2023-12-05T15:56:45.339972Z"
    },
    "papermill": {
     "duration": 0.036614,
     "end_time": "2023-12-05T15:56:45.343209",
     "exception": false,
     "start_time": "2023-12-05T15:56:45.306595",
     "status": "completed"
    },
    "tags": []
   },
   "outputs": [],
   "source": [
    "# print(df_train.isna().sum().any())\n",
    "# print(df_test.isna().sum().any())"
   ]
  },
  {
   "cell_type": "code",
   "execution_count": 7,
   "id": "fcf3cbc5",
   "metadata": {
    "execution": {
     "iopub.execute_input": "2023-12-05T15:56:45.399113Z",
     "iopub.status.busy": "2023-12-05T15:56:45.398597Z",
     "iopub.status.idle": "2023-12-05T15:56:45.407927Z",
     "shell.execute_reply": "2023-12-05T15:56:45.406378Z"
    },
    "papermill": {
     "duration": 0.040599,
     "end_time": "2023-12-05T15:56:45.410496",
     "exception": false,
     "start_time": "2023-12-05T15:56:45.369897",
     "status": "completed"
    },
    "tags": []
   },
   "outputs": [
    {
     "data": {
      "text/plain": [
       "['allelectrons_Total',\n",
       " 'density_Total',\n",
       " 'allelectrons_Average',\n",
       " 'val_e_Average',\n",
       " 'atomicweight_Average',\n",
       " 'ionenergy_Average',\n",
       " 'el_neg_chi_Average',\n",
       " 'R_vdw_element_Average',\n",
       " 'R_cov_element_Average',\n",
       " 'zaratio_Average',\n",
       " 'density_Average',\n",
       " 'Hardness']"
      ]
     },
     "execution_count": 7,
     "metadata": {},
     "output_type": "execute_result"
    }
   ],
   "source": [
    "df_train.columns.to_list()"
   ]
  },
  {
   "cell_type": "code",
   "execution_count": 8,
   "id": "d8881854",
   "metadata": {
    "execution": {
     "iopub.execute_input": "2023-12-05T15:56:45.467740Z",
     "iopub.status.busy": "2023-12-05T15:56:45.467347Z",
     "iopub.status.idle": "2023-12-05T15:56:45.472330Z",
     "shell.execute_reply": "2023-12-05T15:56:45.471048Z"
    },
    "papermill": {
     "duration": 0.037723,
     "end_time": "2023-12-05T15:56:45.475761",
     "exception": false,
     "start_time": "2023-12-05T15:56:45.438038",
     "status": "completed"
    },
    "tags": []
   },
   "outputs": [],
   "source": [
    "# df_train.describe()"
   ]
  },
  {
   "cell_type": "code",
   "execution_count": 9,
   "id": "12837b6d",
   "metadata": {
    "execution": {
     "iopub.execute_input": "2023-12-05T15:56:45.532298Z",
     "iopub.status.busy": "2023-12-05T15:56:45.531429Z",
     "iopub.status.idle": "2023-12-05T15:56:45.537555Z",
     "shell.execute_reply": "2023-12-05T15:56:45.536269Z"
    },
    "papermill": {
     "duration": 0.037286,
     "end_time": "2023-12-05T15:56:45.540398",
     "exception": false,
     "start_time": "2023-12-05T15:56:45.503112",
     "status": "completed"
    },
    "tags": []
   },
   "outputs": [],
   "source": [
    "seed = 42\n",
    "n_splits = 10\n",
    "\n",
    "# StratifiedKFold는 회귀 문제에는 적합하지 않음\n",
    "# kf = StratifiedKFold(n_splits = n_splits, shuffle=True, random_state=seed)\n",
    "kf = KFold(n_splits=n_splits, shuffle=True, random_state=seed)"
   ]
  },
  {
   "cell_type": "code",
   "execution_count": 10,
   "id": "9ba1f70e",
   "metadata": {
    "execution": {
     "iopub.execute_input": "2023-12-05T15:56:45.597273Z",
     "iopub.status.busy": "2023-12-05T15:56:45.596817Z",
     "iopub.status.idle": "2023-12-05T15:56:45.603196Z",
     "shell.execute_reply": "2023-12-05T15:56:45.601705Z"
    },
    "papermill": {
     "duration": 0.037838,
     "end_time": "2023-12-05T15:56:45.605736",
     "exception": false,
     "start_time": "2023-12-05T15:56:45.567898",
     "status": "completed"
    },
    "tags": []
   },
   "outputs": [],
   "source": [
    "# 주어진 데이터를 특성 행렬 (X)과 타겟 벡터 (y)로 분할\n",
    "def generateXY(trainData):\n",
    "    x = trainData.drop(columns='Hardness')\n",
    "    y = trainData.Hardness\n",
    "    return x,y"
   ]
  },
  {
   "cell_type": "code",
   "execution_count": 11,
   "id": "8f84b5f5",
   "metadata": {
    "execution": {
     "iopub.execute_input": "2023-12-05T15:56:45.662439Z",
     "iopub.status.busy": "2023-12-05T15:56:45.662029Z",
     "iopub.status.idle": "2023-12-05T15:56:49.874406Z",
     "shell.execute_reply": "2023-12-05T15:56:49.873417Z"
    },
    "papermill": {
     "duration": 4.244797,
     "end_time": "2023-12-05T15:56:49.877822",
     "exception": false,
     "start_time": "2023-12-05T15:56:45.633025",
     "status": "completed"
    },
    "tags": []
   },
   "outputs": [
    {
     "data": {
      "image/png": "[encoded data removed]",
      "text/plain": [
       "<Figure size 1200x1200 with 11 Axes>"
      ]
     },
     "metadata": {},
     "output_type": "display_data"
    }
   ],
   "source": [
    "n = len(df_test.columns)\n",
    "n_cols = 3\n",
    "n_rows = math.ceil(n / n_cols)\n",
    "\n",
    "fig , axs = plt.subplots(n_rows, n_cols, figsize=(12, 12))\n",
    "for col, ax in zip(df_test.columns, axs.ravel()):\n",
    "    if df_train[col].dtype == float:\n",
    "        ax.hist(df_train[col], bins=100, color='#529BEB')\n",
    "    else: #int\n",
    "        vc = df_train[col].value_counts()\n",
    "        ax.bar(vc.index, vc, color='#529BEB')\n",
    "    ax.set_xlabel(col)\n",
    "\n",
    "# 여분의 subplot 공간을 제거합니다.\n",
    "for ax in axs.flatten()[n:]:\n",
    "    fig.delaxes(ax)\n",
    "\n",
    "plt.tight_layout()\n",
    "plt.suptitle('Feature distributions', y=1.02, fontsize=20)\n",
    "plt.show()"
   ]
  },
  {
   "cell_type": "code",
   "execution_count": 12,
   "id": "64251918",
   "metadata": {
    "execution": {
     "iopub.execute_input": "2023-12-05T15:56:49.938907Z",
     "iopub.status.busy": "2023-12-05T15:56:49.937666Z",
     "iopub.status.idle": "2023-12-05T15:56:54.345538Z",
     "shell.execute_reply": "2023-12-05T15:56:54.344285Z"
    },
    "papermill": {
     "duration": 4.440928,
     "end_time": "2023-12-05T15:56:54.347981",
     "exception": false,
     "start_time": "2023-12-05T15:56:49.907053",
     "status": "completed"
    },
    "tags": []
   },
   "outputs": [
    {
     "data": {
      "image/png": "[encoded data removed]",
      "text/plain": [
       "<Figure size 1200x1200 with 11 Axes>"
      ]
     },
     "metadata": {},
     "output_type": "display_data"
    }
   ],
   "source": [
    "fig, axs = plt.subplots(n_rows, n_cols, figsize=(12, 12))\n",
    "for col, ax in zip(df_test.columns, axs.ravel()):\n",
    "    ax.hist(np.log1p(df_train[col]), bins=100, color='#B65FCF')\n",
    "    ax.set_xlabel(col)\n",
    "    \n",
    "# 여분의 subplot 공간을 제거합니다.\n",
    "for ax in axs.flatten()[n:]:\n",
    "    fig.delaxes(ax)\n",
    "\n",
    "plt.tight_layout()\n",
    "plt.suptitle('Feature distributions after log transformation', y=1.02, fontsize=20)\n",
    "plt.show()"
   ]
  },
  {
   "cell_type": "code",
   "execution_count": 13,
   "id": "b79e8665",
   "metadata": {
    "execution": {
     "iopub.execute_input": "2023-12-05T15:56:54.413159Z",
     "iopub.status.busy": "2023-12-05T15:56:54.412484Z",
     "iopub.status.idle": "2023-12-05T15:56:54.418136Z",
     "shell.execute_reply": "2023-12-05T15:56:54.417295Z"
    },
    "papermill": {
     "duration": 0.041182,
     "end_time": "2023-12-05T15:56:54.420393",
     "exception": false,
     "start_time": "2023-12-05T15:56:54.379211",
     "status": "completed"
    },
    "tags": []
   },
   "outputs": [],
   "source": [
    "# # train과 test 데이터셋 유사성 분석\n",
    "# # ROC-AUC 스코어가 0.5에 가까울수록 두 데이터셋이 비슷하다고 볼 수 있다.\n",
    "# # https://www.kaggle.com/code/carlmcbrideellis/what-is-adversarial-validation\n",
    "\n",
    "# def adversarial_validation(dataset_1 = df_train, dataset_2 = df_test, label = 'Train-Test', kf=kf):\n",
    "\n",
    "#     adv_train = dataset_1.drop('Hardness', axis = 1)\n",
    "#     adv_test = dataset_2.copy()\n",
    "\n",
    "#     adv_train['is_test'] = 0\n",
    "#     adv_test['is_test'] = 1\n",
    "\n",
    "#     adv = pd.concat([adv_train, adv_test], ignore_index = True)\n",
    "\n",
    "#     adv_shuffled = adv.sample(frac = 1)\n",
    "\n",
    "#     adv_X = adv_shuffled.drop('is_test', axis = 1)\n",
    "#     adv_y = adv_shuffled.is_test\n",
    "\n",
    "#     val_scores = []\n",
    "#     predictions = np.zeros(len(adv))\n",
    "\n",
    "#     for fold, (train_idx, val_idx) in enumerate(kf.split(adv_X, adv_y)):\n",
    "    \n",
    "#         adv_lr = XGBClassifier(random_state = 42)\n",
    "#         adv_lr.fit(adv_X.iloc[train_idx], adv_y.iloc[train_idx])\n",
    "        \n",
    "#         val_preds = adv_lr.predict_proba(adv_X.iloc[val_idx])[:,1]\n",
    "#         predictions[val_idx] = val_preds\n",
    "#         val_score = roc_auc_score(adv_y.iloc[val_idx], val_preds)\n",
    "#         val_scores.append(val_score)\n",
    "    \n",
    "#     fpr, tpr, _ = roc_curve(adv['is_test'], predictions)\n",
    "    \n",
    "#     plt.figure(figsize = (10, 10))\n",
    "#     sns.lineplot(x=[0, 1], y=[0, 1], linestyle=\"--\", label=\"Indistinguishable Datasets\")\n",
    "#     sns.lineplot(x=fpr, y=tpr, label=\"Adversarial Validation Classifier\")\n",
    "#     plt.title(f'{label} Validation = {np.mean(val_scores):.5f}', weight = 'bold', size = 17)\n",
    "#     plt.xlabel('False Positive Rate')\n",
    "#     plt.ylabel('True Positive Rate')\n",
    "#     plt.show()\n",
    "\n",
    "# adversarial_validation()\n"
   ]
  },
  {
   "cell_type": "markdown",
   "id": "6dfeb72d",
   "metadata": {
    "papermill": {
     "duration": 0.032939,
     "end_time": "2023-12-05T15:56:54.485155",
     "exception": false,
     "start_time": "2023-12-05T15:56:54.452216",
     "status": "completed"
    },
    "tags": []
   },
   "source": [
    "---"
   ]
  },
  {
   "cell_type": "markdown",
   "id": "3f3f06fa",
   "metadata": {
    "papermill": {
     "duration": 0.031158,
     "end_time": "2023-12-05T15:56:54.550313",
     "exception": false,
     "start_time": "2023-12-05T15:56:54.519155",
     "status": "completed"
    },
    "tags": []
   },
   "source": [
    "# 🚥Feature Engineering"
   ]
  },
  {
   "cell_type": "code",
   "execution_count": 14,
   "id": "32875108",
   "metadata": {
    "execution": {
     "iopub.execute_input": "2023-12-05T15:56:54.617141Z",
     "iopub.status.busy": "2023-12-05T15:56:54.616258Z",
     "iopub.status.idle": "2023-12-05T15:56:54.621788Z",
     "shell.execute_reply": "2023-12-05T15:56:54.620639Z"
    },
    "papermill": {
     "duration": 0.041781,
     "end_time": "2023-12-05T15:56:54.624482",
     "exception": false,
     "start_time": "2023-12-05T15:56:54.582701",
     "status": "completed"
    },
    "tags": []
   },
   "outputs": [],
   "source": [
    "# def add_new_features(df):\n",
    "#     df_col = df.columns.to_list()\n",
    "#     if 'Hardness' in df_col:\n",
    "#         Hardness_ = df['Hardness']\n",
    "#         df = df.drop(columns='Hardness')\n",
    "\n",
    "\n",
    "\n",
    "#     if 'Hardness' in df_col:\n",
    "#         df['Hardness'] = Hardness_\n",
    "\n",
    "#     return df"
   ]
  },
  {
   "cell_type": "code",
   "execution_count": 15,
   "id": "57cca220",
   "metadata": {
    "execution": {
     "iopub.execute_input": "2023-12-05T15:56:54.690079Z",
     "iopub.status.busy": "2023-12-05T15:56:54.689234Z",
     "iopub.status.idle": "2023-12-05T15:56:54.694026Z",
     "shell.execute_reply": "2023-12-05T15:56:54.693128Z"
    },
    "papermill": {
     "duration": 0.040072,
     "end_time": "2023-12-05T15:56:54.696513",
     "exception": false,
     "start_time": "2023-12-05T15:56:54.656441",
     "status": "completed"
    },
    "tags": []
   },
   "outputs": [],
   "source": [
    "# df_train = add_new_features(df_train)\n",
    "# df_test = add_new_features(df_test)"
   ]
  },
  {
   "cell_type": "markdown",
   "id": "c25bcd18",
   "metadata": {
    "papermill": {
     "duration": 0.030918,
     "end_time": "2023-12-05T15:56:54.758609",
     "exception": false,
     "start_time": "2023-12-05T15:56:54.727691",
     "status": "completed"
    },
    "tags": []
   },
   "source": [
    "- 로그변환"
   ]
  },
  {
   "cell_type": "code",
   "execution_count": 16,
   "id": "34aee65f",
   "metadata": {
    "execution": {
     "iopub.execute_input": "2023-12-05T15:56:54.823611Z",
     "iopub.status.busy": "2023-12-05T15:56:54.822741Z",
     "iopub.status.idle": "2023-12-05T15:56:54.828810Z",
     "shell.execute_reply": "2023-12-05T15:56:54.828014Z"
    },
    "papermill": {
     "duration": 0.041745,
     "end_time": "2023-12-05T15:56:54.831204",
     "exception": false,
     "start_time": "2023-12-05T15:56:54.789459",
     "status": "completed"
    },
    "tags": []
   },
   "outputs": [],
   "source": [
    "# # 로그 변환을 적용할 feature 목록\n",
    "# features_to_log_transform = ['age',\n",
    "#                              'height(cm)',\n",
    "#                              'weight(kg)',\n",
    "#                              'waist(cm)',\n",
    "#                              'eyesight(left)',\n",
    "#                              'eyesight(right)',\n",
    "#                              'hearing(left)',\n",
    "#                              'hearing(right)',\n",
    "#                              'systolic',\n",
    "#                              'relaxation',\n",
    "#                              'fasting blood sugar',\n",
    "#                              'Cholesterol',\n",
    "#                              'triglyceride',\n",
    "#                              'HDL',\n",
    "#                              'LDL',\n",
    "#                              'hemoglobin',\n",
    "#                              'Urine protein',\n",
    "#                              'serum creatinine',\n",
    "#                              'AST',\n",
    "#                              'ALT',\n",
    "#                              'Gtp',\n",
    "#                              'dental caries'\n",
    "#                              ]\n",
    "\n",
    "# # Train set\n",
    "# for feature in features_to_log_transform:\n",
    "#     df_train[feature] = np.log1p(df_train[feature])\n",
    "\n",
    "# # Test set\n",
    "# for feature in features_to_log_transform:\n",
    "#     df_test[feature] = np.log1p(df_test[feature])\n"
   ]
  },
  {
   "cell_type": "markdown",
   "id": "299c7a6c",
   "metadata": {
    "papermill": {
     "duration": 0.030916,
     "end_time": "2023-12-05T15:56:54.893632",
     "exception": false,
     "start_time": "2023-12-05T15:56:54.862716",
     "status": "completed"
    },
    "tags": []
   },
   "source": [
    "---"
   ]
  },
  {
   "cell_type": "markdown",
   "id": "970044e9",
   "metadata": {
    "papermill": {
     "duration": 0.032914,
     "end_time": "2023-12-05T15:56:54.957956",
     "exception": false,
     "start_time": "2023-12-05T15:56:54.925042",
     "status": "completed"
    },
    "tags": []
   },
   "source": [
    "# 🧺Feature Selection (with 6 techniques)"
   ]
  },
  {
   "cell_type": "markdown",
   "id": "c59fcdf4",
   "metadata": {
    "papermill": {
     "duration": 0.030982,
     "end_time": "2023-12-05T15:56:55.020599",
     "exception": false,
     "start_time": "2023-12-05T15:56:54.989617",
     "status": "completed"
    },
    "tags": []
   },
   "source": [
    "### ■ Filter Method"
   ]
  },
  {
   "cell_type": "markdown",
   "id": "b06d4713",
   "metadata": {
    "papermill": {
     "duration": 0.030731,
     "end_time": "2023-12-05T15:56:55.082581",
     "exception": false,
     "start_time": "2023-12-05T15:56:55.051850",
     "status": "completed"
    },
    "tags": []
   },
   "source": [
    "__A) Pearson Correlation:__ 두 변수 간의 선형 관계를 측정"
   ]
  },
  {
   "cell_type": "code",
   "execution_count": 17,
   "id": "181ef5b7",
   "metadata": {
    "execution": {
     "iopub.execute_input": "2023-12-05T15:56:55.149009Z",
     "iopub.status.busy": "2023-12-05T15:56:55.148322Z",
     "iopub.status.idle": "2023-12-05T15:56:55.903545Z",
     "shell.execute_reply": "2023-12-05T15:56:55.902249Z"
    },
    "papermill": {
     "duration": 0.792283,
     "end_time": "2023-12-05T15:56:55.906868",
     "exception": false,
     "start_time": "2023-12-05T15:56:55.114585",
     "status": "completed"
    },
    "tags": []
   },
   "outputs": [
    {
     "data": {
      "image/png": "[encoded data removed]",
      "text/plain": [
       "<Figure size 1500x800 with 2 Axes>"
      ]
     },
     "metadata": {},
     "output_type": "display_data"
    }
   ],
   "source": [
    "# corr() 메서드를 사용하여 특성 간의 상관 관계 행렬을 계산\n",
    "trainCorr = df_train.corr()\n",
    "mask = np.zeros_like(trainCorr)\n",
    "mask[np.triu_indices_from(mask)] = True\n",
    "plt.figure(figsize=(15,8))\n",
    "sns.heatmap(trainCorr, mask=mask, cmap='RdBu_r', annot=True, annot_kws={\"size\": 8}) # annot=True 매개변수를 사용하여 각 셀에 상관 관계 값을 표시\n",
    "plt.title('Train Dataset Correlation')\n",
    "plt.show()"
   ]
  },
  {
   "cell_type": "code",
   "execution_count": 18,
   "id": "3c6ac835",
   "metadata": {
    "execution": {
     "iopub.execute_input": "2023-12-05T15:56:55.978194Z",
     "iopub.status.busy": "2023-12-05T15:56:55.977754Z",
     "iopub.status.idle": "2023-12-05T15:56:55.982846Z",
     "shell.execute_reply": "2023-12-05T15:56:55.981552Z"
    },
    "papermill": {
     "duration": 0.043763,
     "end_time": "2023-12-05T15:56:55.985347",
     "exception": false,
     "start_time": "2023-12-05T15:56:55.941584",
     "status": "completed"
    },
    "tags": []
   },
   "outputs": [],
   "source": [
    "# # target과 각 특성 간의 상관 관계를 계산\n",
    "# # 특정 상관 관계 threshold를 넘는 특성들을 선택하여 내림차순 정렬\n",
    "# threshold = 0.05\n",
    "# corr=abs(trainCorr['smoking'])\n",
    "# result = corr[corr>threshold]\n",
    "# result.sort_values(ascending=False)"
   ]
  },
  {
   "cell_type": "code",
   "execution_count": 19,
   "id": "4af176cf",
   "metadata": {
    "execution": {
     "iopub.execute_input": "2023-12-05T15:56:56.053838Z",
     "iopub.status.busy": "2023-12-05T15:56:56.053435Z",
     "iopub.status.idle": "2023-12-05T15:56:56.059732Z",
     "shell.execute_reply": "2023-12-05T15:56:56.058475Z"
    },
    "papermill": {
     "duration": 0.043541,
     "end_time": "2023-12-05T15:56:56.062090",
     "exception": false,
     "start_time": "2023-12-05T15:56:56.018549",
     "status": "completed"
    },
    "tags": []
   },
   "outputs": [],
   "source": [
    "# # trainData에서 특성 간의 상관 관계를 계산하고, 상관 관계가 높은 특성들을 식별\n",
    "# columns = df_train.columns.tolist()\n",
    "# highCorrFeature = []\n",
    "# for i in range(len(columns)-1, 0, -1):\n",
    "#     if columns[i] in highCorrFeature:\n",
    "#         continue\n",
    "#     for j in range(0,i):\n",
    "#         if columns[j] in highCorrFeature:\n",
    "#             continue\n",
    "#         # 같은 열과의 상관 관계를 계산하는 것을 피하기 위해 다른 열인지 확인\n",
    "#         if i != j:\n",
    "#             # columns[i],columns[j]의 상관 관계 계산\n",
    "#             c = df_train[[columns[i],columns[j]]].corr()\n",
    "#             # 상관 관계 행렬 c에서 columns[j] 열과 columns[i] 행에 해당하는 값 추출\n",
    "#             val = c[columns[j]][0] # 이 값은 두 열 간의 상관 관계\n",
    "#             if val > 0.5:\n",
    "#                 print(f\"{columns[i]} and {columns[j]} has high correlation {val}\")\n",
    "#                 highCorrFeature.append(columns[j])\n",
    "                \n",
    "# print(f\"\\nSize of original data: {df_train.shape[1]-1}, \\nnumber of high correlation features: {len(highCorrFeature)}\")"
   ]
  },
  {
   "cell_type": "code",
   "execution_count": 20,
   "id": "5497a61a",
   "metadata": {
    "execution": {
     "iopub.execute_input": "2023-12-05T15:56:56.131164Z",
     "iopub.status.busy": "2023-12-05T15:56:56.130717Z",
     "iopub.status.idle": "2023-12-05T15:56:56.136265Z",
     "shell.execute_reply": "2023-12-05T15:56:56.135121Z"
    },
    "papermill": {
     "duration": 0.04285,
     "end_time": "2023-12-05T15:56:56.138545",
     "exception": false,
     "start_time": "2023-12-05T15:56:56.095695",
     "status": "completed"
    },
    "tags": []
   },
   "outputs": [],
   "source": [
    "# # 높은 상관 관계를 가진 특성들을 제거한 데이터를 x에 저장\n",
    "# x = df_train.drop(columns=highCorrFeature)\n",
    "# x = x.drop(columns='smoking')\n",
    "\n",
    "# # 높은 상관 관계를 가진 특성들을 제외한 특성들의 목록\n",
    "# featurePC = x.columns.tolist()\n",
    "# print(f\"Selected features: {len(featurePC)} / {featurePC}\")\n",
    "\n",
    "# # 이전에 정의한 generateXY 함수를 사용하여 특성 행렬 x와 타겟 벡터 y를 생성\n",
    "# x,y = generateXY(df_train)\n",
    "\n",
    "# # cv 계산\n",
    "# cv_feature(x,y,featurePC,'Pearson Correlation')"
   ]
  },
  {
   "cell_type": "code",
   "execution_count": 21,
   "id": "83b66062",
   "metadata": {
    "execution": {
     "iopub.execute_input": "2023-12-05T15:56:56.207070Z",
     "iopub.status.busy": "2023-12-05T15:56:56.206598Z",
     "iopub.status.idle": "2023-12-05T15:56:56.211254Z",
     "shell.execute_reply": "2023-12-05T15:56:56.210289Z"
    },
    "papermill": {
     "duration": 0.041788,
     "end_time": "2023-12-05T15:56:56.213489",
     "exception": false,
     "start_time": "2023-12-05T15:56:56.171701",
     "status": "completed"
    },
    "tags": []
   },
   "outputs": [],
   "source": [
    "# featurePC = ['age', 'height(cm)', 'waist(cm)', 'eyesight(left)', 'eyesight(right)', 'hearing(left)', 'systolic', 'fasting blood sugar', 'Cholesterol', 'triglyceride', 'HDL', 'Urine protein', 'serum creatinine', 'AST', 'Gtp', 'dental caries']"
   ]
  },
  {
   "cell_type": "markdown",
   "id": "ceee6854",
   "metadata": {
    "papermill": {
     "duration": 0.033201,
     "end_time": "2023-12-05T15:56:56.280265",
     "exception": false,
     "start_time": "2023-12-05T15:56:56.247064",
     "status": "completed"
    },
    "tags": []
   },
   "source": [
    "__❌B) Variance Inflation Factor (VIF):__ 다중 공선성 평가\n",
    "- 다중공선성: 회귀분석에서 독립변수들 간에 강한 상관관계가 나타나는 문제\n",
    "- 이진 분류 문제에서 사용하는 로지스틱 회귀나 결정 트리 기반 모델 등은 변수 간의 상관관계가 높아도 모델의 성능에 크게 영향을 미치지 않는 경우가 많음"
   ]
  },
  {
   "cell_type": "code",
   "execution_count": 22,
   "id": "8b12b0c9",
   "metadata": {
    "execution": {
     "iopub.execute_input": "2023-12-05T15:56:56.349111Z",
     "iopub.status.busy": "2023-12-05T15:56:56.348537Z",
     "iopub.status.idle": "2023-12-05T15:56:56.355360Z",
     "shell.execute_reply": "2023-12-05T15:56:56.354064Z"
    },
    "papermill": {
     "duration": 0.044316,
     "end_time": "2023-12-05T15:56:56.357744",
     "exception": false,
     "start_time": "2023-12-05T15:56:56.313428",
     "status": "completed"
    },
    "tags": []
   },
   "outputs": [],
   "source": [
    "# # VIF를 사용하여 다중공선성을 확인\n",
    "# # VIF가 일정 임계값을 넘는 특성들을 제거하여 모델에 사용할 특성을 선택\n",
    "\n",
    "# from statsmodels.stats.outliers_influence import variance_inflation_factor\n",
    "# def cal_vif(x):\n",
    "#     # 일반적으로 VIF 10 이상인 특성은 다중공선성 가능성이 높다고 판단\n",
    "#     thresh = 10\n",
    "#     output = pd.DataFrame()\n",
    "#     k = x.shape[1]\n",
    "#     vif = [variance_inflation_factor(x.values,i) for i in range(x.shape[1])]\n",
    "    \n",
    "#     # VIF가 임계값을 넘는 특성 제거\n",
    "#     for i in range(k):\n",
    "#         a = np.argmax(vif)\n",
    "#         print(f'Max vif is for variable Index: {a}')\n",
    "#         if (vif[a]<=thresh):\n",
    "#             break\n",
    "#         if (i==1):\n",
    "#             output = x.drop(x.columns[a],axis=1)\n",
    "#             vif = [variance_inflation_factor(output.values,j) for j in range(output.shape[1])]\n",
    "#         elif (i>1):\n",
    "#             output = output.drop(output.columns[a],axis=1)\n",
    "#             vif = [variance_inflation_factor(output.values,j) for j in range(output.shape[1])]\n",
    "#     return output\n",
    "\n",
    "# x,y = generateXY(df_train)\n",
    "# x = cal_vif(x) # VIF 계산하여 다중공선성 높은 특성을 제거한 결과를 x에 저장\n",
    "# featureVIF = x.columns.tolist()\n",
    "# print(f\"Selected features: {len(featureVIF)} / {featureVIF}\")\n",
    "# cv_feature(x,y,featureVIF,'Variance Inflation Factor')"
   ]
  },
  {
   "cell_type": "markdown",
   "id": "1c2dc9bd",
   "metadata": {
    "papermill": {
     "duration": 0.033109,
     "end_time": "2023-12-05T15:56:56.424110",
     "exception": false,
     "start_time": "2023-12-05T15:56:56.391001",
     "status": "completed"
    },
    "tags": []
   },
   "source": [
    "### ■ Wrapper Method"
   ]
  },
  {
   "cell_type": "markdown",
   "id": "2a45b3ce",
   "metadata": {
    "papermill": {
     "duration": 0.033945,
     "end_time": "2023-12-05T15:56:56.491397",
     "exception": false,
     "start_time": "2023-12-05T15:56:56.457452",
     "status": "completed"
    },
    "tags": []
   },
   "source": [
    "__A) Step Forward Selection:__ 특성을 하나씩 추가하면서 모델의 성능을 측정하고 최상의 특성 조합을 찾는 방법"
   ]
  },
  {
   "cell_type": "code",
   "execution_count": 23,
   "id": "13d89e24",
   "metadata": {
    "execution": {
     "iopub.execute_input": "2023-12-05T15:56:56.560744Z",
     "iopub.status.busy": "2023-12-05T15:56:56.560341Z",
     "iopub.status.idle": "2023-12-05T15:56:56.565976Z",
     "shell.execute_reply": "2023-12-05T15:56:56.564645Z"
    },
    "papermill": {
     "duration": 0.043131,
     "end_time": "2023-12-05T15:56:56.568350",
     "exception": false,
     "start_time": "2023-12-05T15:56:56.525219",
     "status": "completed"
    },
    "tags": []
   },
   "outputs": [],
   "source": [
    "# # 특성 선택에 사용되는 Sequential Feature Selector (SFS)를 활용하는 예제\n",
    "# # 특성 스텝마다 성능을 확인하고 최고의 성능을 나타낸 특성을 뽑기 위해 catboost를 씀\n",
    "# # 최후에는 선택된 특성들만을 이용하여 RandomForestRegressor로 학습\n",
    "# from mlxtend.feature_selection import SequentialFeatureSelector as sfs\n",
    "# x,y = generateXY(df_train)\n",
    "\n",
    "# clf = CatBoostClassifier(random_state=seed, logging_level = 'Silent')\n",
    "\n",
    "# # SequentialFeatureSelector 객체 생성\n",
    "# sfs1 = sfs(clf, k_features=5, forward=True, floating=False, verbose=1, cv=3) # SFS 초기화\n",
    "\n",
    "# # SFS를 훈련 데이터에 적용\n",
    "# sfs1 = sfs1.fit(x, y) "
   ]
  },
  {
   "cell_type": "code",
   "execution_count": 24,
   "id": "a8b7d032",
   "metadata": {
    "execution": {
     "iopub.execute_input": "2023-12-05T15:56:56.637499Z",
     "iopub.status.busy": "2023-12-05T15:56:56.636882Z",
     "iopub.status.idle": "2023-12-05T15:56:56.642258Z",
     "shell.execute_reply": "2023-12-05T15:56:56.641063Z"
    },
    "papermill": {
     "duration": 0.043243,
     "end_time": "2023-12-05T15:56:56.644871",
     "exception": false,
     "start_time": "2023-12-05T15:56:56.601628",
     "status": "completed"
    },
    "tags": []
   },
   "outputs": [],
   "source": [
    "# # SFS를 통해 선택된 특성들을 확인하고, 이를 사용하여 cv 계산\n",
    "# feat_cols = list(sfs1.k_feature_idx_)\n",
    "# featureSFS = x.columns[feat_cols].tolist()\n",
    "\n",
    "# print(f\"Selected features: {len(featureSFS)} / {featureSFS}\")\n",
    "# cv_feature(x, y, featureSFS, 'Step Forward Selection')"
   ]
  },
  {
   "cell_type": "markdown",
   "id": "34e2def1",
   "metadata": {
    "papermill": {
     "duration": 0.03289,
     "end_time": "2023-12-05T15:56:56.710885",
     "exception": false,
     "start_time": "2023-12-05T15:56:56.677995",
     "status": "completed"
    },
    "tags": []
   },
   "source": [
    "__B) Backward elimination:__ 가장 덜 중요한 특성을 하나씩 제거하면서 모델의 성능을 측정, 최적의 특성 집합을 찾을 때까지 반복\n",
    "- 선형 회귀 모델을 기반으로 하기 때문에, 이진 분류 문제에 직접 적용하기는 어려움"
   ]
  },
  {
   "cell_type": "markdown",
   "id": "b7a7c167",
   "metadata": {
    "papermill": {
     "duration": 0.032928,
     "end_time": "2023-12-05T15:56:56.776931",
     "exception": false,
     "start_time": "2023-12-05T15:56:56.744003",
     "status": "completed"
    },
    "tags": []
   },
   "source": [
    "__C) Recursive Feature elimination:__ 재귀적 특성 제거 (RFE)는 지정된 특성 수에 도달할 때까지 모델을 학습하고 가장 약한 특성(들)을 제거\n",
    "-  RFECV는 Recursive Feature Elimination과 Cross-Validated selection을 통해 최적의 특성 수를 선택"
   ]
  },
  {
   "cell_type": "code",
   "execution_count": 25,
   "id": "fc8c5bb4",
   "metadata": {
    "execution": {
     "iopub.execute_input": "2023-12-05T15:56:56.845612Z",
     "iopub.status.busy": "2023-12-05T15:56:56.845214Z",
     "iopub.status.idle": "2023-12-05T15:56:56.850346Z",
     "shell.execute_reply": "2023-12-05T15:56:56.849385Z"
    },
    "papermill": {
     "duration": 0.042239,
     "end_time": "2023-12-05T15:56:56.852471",
     "exception": false,
     "start_time": "2023-12-05T15:56:56.810232",
     "status": "completed"
    },
    "tags": []
   },
   "outputs": [],
   "source": [
    "# from sklearn.feature_selection import RFECV\n",
    "\n",
    "# x, y = generateXY(df_train)\n",
    "\n",
    "# # CatBoostClassifier 객체 생성\n",
    "# model = CatBoostClassifier(random_state=seed, logging_level = 'Silent')\n",
    "\n",
    "# # RFECV를 이용한 Backward Elimination\n",
    "# rfecv = RFECV(estimator=model, step=1, cv=5)  # step=1은 한 번에 하나의 특성을 제거하겠다는 의미이며, cv=5는 5-fold cross-validation을 수행하겠다는 의미입니다.\n",
    "# rfecv = rfecv.fit(x, y)\n",
    "\n",
    "# # 선택된 특성 확인\n",
    "# featureBE = x.columns[rfecv.support_].tolist()\n",
    "\n",
    "# print(f\"Selected features: {len(featureBE)} / {featureBE}\")\n",
    "\n",
    "# # 선택된 특성으로 cv_feature 함수를 통해 교차 검증 수행\n",
    "# cv_feature(x, y, featureBE, 'Backward Elimination')"
   ]
  },
  {
   "cell_type": "markdown",
   "id": "a6e5e31d",
   "metadata": {
    "papermill": {
     "duration": 0.032842,
     "end_time": "2023-12-05T15:56:56.920989",
     "exception": false,
     "start_time": "2023-12-05T15:56:56.888147",
     "status": "completed"
    },
    "tags": []
   },
   "source": [
    "### ■ Embedded Method\n",
    "모델 훈련 과정에서 특성 선택을 수행하는 방법\n",
    "> 임베디드 방법은 모델의 훈련 과정에서 특성의 중요도를 반복적으로 평가"
   ]
  },
  {
   "cell_type": "markdown",
   "id": "6ab92d9a",
   "metadata": {
    "papermill": {
     "duration": 0.032952,
     "end_time": "2023-12-05T15:56:56.987094",
     "exception": false,
     "start_time": "2023-12-05T15:56:56.954142",
     "status": "completed"
    },
    "tags": []
   },
   "source": [
    "1) LogisticRegressionCV 모델을 사용한 Lasso 방법\n",
    "- 선형 관계를 가정하고 있기 때문에, 특성들이 선형적으로 목표 변수와 관련이 있을 때 유용\n",
    "- Lasso는 특성의 수를 크게 줄일 수 있어 해석이 쉬운 모델을 만들 수 있음\n",
    "- 하지만, 특성 간 복잡한 상호작용을 잡아내기 어려움"
   ]
  },
  {
   "cell_type": "code",
   "execution_count": 26,
   "id": "7ceea5c5",
   "metadata": {
    "execution": {
     "iopub.execute_input": "2023-12-05T15:56:57.055888Z",
     "iopub.status.busy": "2023-12-05T15:56:57.055445Z",
     "iopub.status.idle": "2023-12-05T15:56:57.061355Z",
     "shell.execute_reply": "2023-12-05T15:56:57.059751Z"
    },
    "papermill": {
     "duration": 0.043475,
     "end_time": "2023-12-05T15:56:57.063834",
     "exception": false,
     "start_time": "2023-12-05T15:56:57.020359",
     "status": "completed"
    },
    "tags": []
   },
   "outputs": [],
   "source": [
    "# from sklearn.linear_model import LogisticRegressionCV\n",
    "\n",
    "# x,y = generateXY(df_train)\n",
    "# clf = LogisticRegressionCV(cv=5, Cs=200, tol=1e-4, fit_intercept=False, penalty='l1', solver='liblinear')\n",
    "# clf.fit(x,y)\n",
    "# print(\"Best score: \", clf.score(x,y))\n",
    "\n",
    "# coef = pd.Series(clf.coef_[0], index=x.columns)\n",
    "# print(\"Lasso picked \" + str(sum(coef != 0))+ \" variables and eliminated the other \" + str(sum(coef == 0)) + \" variables\")\n",
    "\n",
    "# imp_coef = coef.sort_values()\n",
    "# featureEM = imp_coef[imp_coef>0].index.tolist()\n",
    "\n",
    "# print(f\"Selected features: {len(featureEM)} / {featureEM}\")\n",
    "# cv_feature(x,y,featureEM,'Embedded Method')"
   ]
  },
  {
   "cell_type": "markdown",
   "id": "f40a5fc4",
   "metadata": {
    "papermill": {
     "duration": 0.034243,
     "end_time": "2023-12-05T15:56:57.131368",
     "exception": false,
     "start_time": "2023-12-05T15:56:57.097125",
     "status": "completed"
    },
    "tags": []
   },
   "source": [
    "2) CatBoostClassifier 모델을 사용한 특성 중요도 방법\n",
    "- 비선형 관계와 특성 간의 복잡한 상호작용을 잘 잡아냄\n",
    "- 특성 중요도를 직접적으로 제공하므로, 어떤 특성이 모델의 예측에 중요한 역할을 하는지 파악하는 데 유용"
   ]
  },
  {
   "cell_type": "code",
   "execution_count": 27,
   "id": "2503cde8",
   "metadata": {
    "execution": {
     "iopub.execute_input": "2023-12-05T15:56:57.200680Z",
     "iopub.status.busy": "2023-12-05T15:56:57.200251Z",
     "iopub.status.idle": "2023-12-05T15:56:57.205537Z",
     "shell.execute_reply": "2023-12-05T15:56:57.204353Z"
    },
    "papermill": {
     "duration": 0.043341,
     "end_time": "2023-12-05T15:56:57.208246",
     "exception": false,
     "start_time": "2023-12-05T15:56:57.164905",
     "status": "completed"
    },
    "tags": []
   },
   "outputs": [],
   "source": [
    "# # CatBoostClassifier 객체 생성\n",
    "# clf = CatBoostClassifier(random_state=seed, logging_level = 'Silent')\n",
    "\n",
    "# # 모델 학습\n",
    "# clf.fit(x, y)\n",
    "\n",
    "# # 특성 중요도 계산\n",
    "# feature_importances = clf.feature_importances_\n",
    "# sorted_idx = feature_importances.argsort()\n",
    "\n",
    "# # 시각화\n",
    "# plt.figure(figsize=(10, 6))\n",
    "# plt.barh(range(len(feature_importances)), feature_importances[sorted_idx], align='center')\n",
    "# plt.yticks(range(len(feature_importances)), x.columns[sorted_idx])\n",
    "# plt.xlabel('Feature Importance')\n",
    "# plt.ylabel('Features')\n",
    "# plt.title('Feature Importance Plot')\n",
    "# plt.show()"
   ]
  },
  {
   "cell_type": "code",
   "execution_count": 28,
   "id": "7390f3f4",
   "metadata": {
    "execution": {
     "iopub.execute_input": "2023-12-05T15:56:57.277378Z",
     "iopub.status.busy": "2023-12-05T15:56:57.276972Z",
     "iopub.status.idle": "2023-12-05T15:56:57.281690Z",
     "shell.execute_reply": "2023-12-05T15:56:57.280617Z"
    },
    "papermill": {
     "duration": 0.042083,
     "end_time": "2023-12-05T15:56:57.284120",
     "exception": false,
     "start_time": "2023-12-05T15:56:57.242037",
     "status": "completed"
    },
    "tags": []
   },
   "outputs": [],
   "source": [
    "# # 특성 중요도를 기반으로 특성 선택\n",
    "# featureEM = x.columns[feature_importances > 0.9].tolist()\n",
    "\n",
    "# print(f\"Selected features: {len(featureEM)} / {featureEM}\")\n",
    "\n",
    "# # 선택된 특성으로 cv_feature 함수를 통해 교차 검증 수행\n",
    "# cv_feature(x, y, featureEM, 'Embedded Method')"
   ]
  },
  {
   "cell_type": "markdown",
   "id": "fcdfe306",
   "metadata": {
    "papermill": {
     "duration": 0.033496,
     "end_time": "2023-12-05T15:56:57.350912",
     "exception": false,
     "start_time": "2023-12-05T15:56:57.317416",
     "status": "completed"
    },
    "tags": []
   },
   "source": [
    "### ■ Final Feature Selection"
   ]
  },
  {
   "cell_type": "code",
   "execution_count": 29,
   "id": "d2faecfe",
   "metadata": {
    "execution": {
     "iopub.execute_input": "2023-12-05T15:56:57.428929Z",
     "iopub.status.busy": "2023-12-05T15:56:57.428483Z",
     "iopub.status.idle": "2023-12-05T15:56:57.434186Z",
     "shell.execute_reply": "2023-12-05T15:56:57.433115Z"
    },
    "papermill": {
     "duration": 0.043254,
     "end_time": "2023-12-05T15:56:57.436809",
     "exception": false,
     "start_time": "2023-12-05T15:56:57.393555",
     "status": "completed"
    },
    "tags": []
   },
   "outputs": [],
   "source": [
    "# # 다양한 특성 선택 기법을 통해 선택된 특성들을 모아서 특성 중요도 시각화\n",
    "# allfeature = featurePC + featureSFS + featureBE + featureEM\n",
    "# feature, count = np.unique(allfeature, return_counts=True) # 각 특성 빈도 카운트\n",
    "# featureCount = pd.DataFrame(count,index=feature, columns=['Count'])\n",
    "# featureCount = featureCount.sort_values(by=['Count'])\n",
    "# featureCount.plot(kind = \"barh\") # 막대그래프 표현\n",
    "# plt.rcParams[\"figure.figsize\"] = (20,10) # 크기 조정\n",
    "# plt.title(\"Feature importance based on all selection techniques\")"
   ]
  },
  {
   "cell_type": "code",
   "execution_count": 30,
   "id": "cf285799",
   "metadata": {
    "execution": {
     "iopub.execute_input": "2023-12-05T15:56:57.506956Z",
     "iopub.status.busy": "2023-12-05T15:56:57.506530Z",
     "iopub.status.idle": "2023-12-05T15:56:57.511879Z",
     "shell.execute_reply": "2023-12-05T15:56:57.510789Z"
    },
    "papermill": {
     "duration": 0.043083,
     "end_time": "2023-12-05T15:56:57.514435",
     "exception": false,
     "start_time": "2023-12-05T15:56:57.471352",
     "status": "completed"
    },
    "tags": []
   },
   "outputs": [],
   "source": [
    "# # 특정 임계값을 넘는 특성들로 최종 모델을 학습하여 cv 계산\n",
    "# selected_features = []\n",
    "\n",
    "# for i, val in enumerate(feature):\n",
    "#     if count[i] > 1:\n",
    "#         selected_features.append(val)\n",
    "# print(f\"Final Selected features: {len(selected_features)} / {selected_features}\")\n",
    "# X,y = generateXY(df_train)\n",
    "# clf = cv_feature(X,y,selected_features,\"Final model\")"
   ]
  },
  {
   "cell_type": "markdown",
   "id": "6cacdfe7",
   "metadata": {
    "papermill": {
     "duration": 0.033206,
     "end_time": "2023-12-05T15:56:57.583284",
     "exception": false,
     "start_time": "2023-12-05T15:56:57.550078",
     "status": "completed"
    },
    "tags": []
   },
   "source": [
    "---"
   ]
  },
  {
   "cell_type": "markdown",
   "id": "5b1cc451",
   "metadata": {
    "papermill": {
     "duration": 0.033328,
     "end_time": "2023-12-05T15:56:57.649981",
     "exception": false,
     "start_time": "2023-12-05T15:56:57.616653",
     "status": "completed"
    },
    "tags": []
   },
   "source": [
    "# ⚠️Pre-process"
   ]
  },
  {
   "cell_type": "markdown",
   "id": "dfee9ec0",
   "metadata": {
    "papermill": {
     "duration": 0.032856,
     "end_time": "2023-12-05T15:56:57.716078",
     "exception": false,
     "start_time": "2023-12-05T15:56:57.683222",
     "status": "completed"
    },
    "tags": []
   },
   "source": [
    "---"
   ]
  },
  {
   "cell_type": "markdown",
   "id": "a833653d",
   "metadata": {
    "papermill": {
     "duration": 0.033026,
     "end_time": "2023-12-05T15:56:57.782283",
     "exception": false,
     "start_time": "2023-12-05T15:56:57.749257",
     "status": "completed"
    },
    "tags": []
   },
   "source": [
    "# 🎰Model Optimization (with Optuna)"
   ]
  },
  {
   "cell_type": "markdown",
   "id": "2e52d878",
   "metadata": {
    "papermill": {
     "duration": 0.032781,
     "end_time": "2023-12-05T15:56:57.848246",
     "exception": false,
     "start_time": "2023-12-05T15:56:57.815465",
     "status": "completed"
    },
    "tags": []
   },
   "source": [
    "__- 모델 학습하는 함수 정의__"
   ]
  },
  {
   "cell_type": "code",
   "execution_count": 31,
   "id": "661e6476",
   "metadata": {
    "execution": {
     "iopub.execute_input": "2023-12-05T15:56:57.916855Z",
     "iopub.status.busy": "2023-12-05T15:56:57.915762Z",
     "iopub.status.idle": "2023-12-05T15:56:57.921174Z",
     "shell.execute_reply": "2023-12-05T15:56:57.920267Z"
    },
    "papermill": {
     "duration": 0.042335,
     "end_time": "2023-12-05T15:56:57.923540",
     "exception": false,
     "start_time": "2023-12-05T15:56:57.881205",
     "status": "completed"
    },
    "tags": []
   },
   "outputs": [],
   "source": [
    "# def optimize_params(objective, n_trials=100, seed=42):\n",
    "#     # Pruner 설정\n",
    "#     pruner = MedianPruner(\n",
    "#         n_warmup_steps=10,  # 첫 10회 trial은 pruner가 적용되지 않습니다.\n",
    "#         interval_steps=1,  # pruner가 적용되는 간격을 설정합니다. \n",
    "#     )\n",
    "\n",
    "#     # Sampler 설정\n",
    "#     sampler = TPESampler(\n",
    "#         seed=seed  # 재현가능성을 보장하기 위한 시드 값 설정\n",
    "#     )\n",
    "\n",
    "#     # Run optimization.\n",
    "#     study = optuna.create_study(\n",
    "#         direction='maximize',\n",
    "#         pruner=pruner,\n",
    "#         sampler=sampler\n",
    "#     )\n",
    "#     study.optimize(objective, n_trials=n_trials)\n",
    "\n",
    "#     # Get best parameters from study\n",
    "#     best_params = study.best_params\n",
    "\n",
    "#     print(f'Best parameters: {best_params}')\n",
    "#     print(f'Best ROC AUC Score: {study.best_value:.5f}')"
   ]
  },
  {
   "cell_type": "markdown",
   "id": "c80a52c0",
   "metadata": {
    "papermill": {
     "duration": 0.032829,
     "end_time": "2023-12-05T15:56:57.990661",
     "exception": false,
     "start_time": "2023-12-05T15:56:57.957832",
     "status": "completed"
    },
    "tags": []
   },
   "source": [
    "A) RandomForestClassifier"
   ]
  },
  {
   "cell_type": "code",
   "execution_count": 32,
   "id": "b163638f",
   "metadata": {
    "execution": {
     "iopub.execute_input": "2023-12-05T15:56:58.058999Z",
     "iopub.status.busy": "2023-12-05T15:56:58.058102Z",
     "iopub.status.idle": "2023-12-05T15:56:58.063888Z",
     "shell.execute_reply": "2023-12-05T15:56:58.063019Z"
    },
    "papermill": {
     "duration": 0.0424,
     "end_time": "2023-12-05T15:56:58.066179",
     "exception": false,
     "start_time": "2023-12-05T15:56:58.023779",
     "status": "completed"
    },
    "tags": []
   },
   "outputs": [],
   "source": [
    "# def objectiveRF(trial):\n",
    "#     # Define the hyperparameters for the trial.\n",
    "#     params = {\n",
    "#         'n_estimators': trial.suggest_int('n_estimators', 100, 1000),\n",
    "#         'max_depth': trial.suggest_int('max_depth', 5, 50),\n",
    "#         'min_samples_split': trial.suggest_int('min_samples_split', 2, 100),\n",
    "#         'min_samples_leaf': trial.suggest_int('min_samples_leaf', 1, 50),\n",
    "#         'max_features': trial.suggest_categorical('max_features', [\"sqrt\", \"log2\", None]),\n",
    "#         'max_leaf_nodes': trial.suggest_int('max_leaf_nodes', 100, 2000),\n",
    "#         'max_samples': trial.suggest_float('max_samples', 1e-2, 1, log=True),\n",
    "#         'bootstrap': trial.suggest_categorical('bootstrap', [True]),\n",
    "#         'criterion': trial.suggest_categorical('criterion', ['gini', 'entropy']),\n",
    "#         'n_jobs': -1\n",
    "#     }\n",
    "\n",
    "#     # Initialize and fit the model.\n",
    "#     model = RandomForestClassifier(**params, random_state=seed)\n",
    "#     X, y = generateXY(df_train)\n",
    "#     scores = cross_val_score(model, X, y, scoring='roc_auc', cv=kf)\n",
    "#     # print(f'RandomForestClassifier has ROC AUC Score(Avg) = {np.mean(scores):.7f} +/- {np.std(scores) * 2:.5f}')\n",
    "#     return np.mean(scores)\n",
    "\n",
    "# optimize_params(objectiveRF, n_trials=100, seed=42)"
   ]
  },
  {
   "cell_type": "markdown",
   "id": "74b5efaf",
   "metadata": {
    "papermill": {
     "duration": 0.033339,
     "end_time": "2023-12-05T15:56:58.133884",
     "exception": false,
     "start_time": "2023-12-05T15:56:58.100545",
     "status": "completed"
    },
    "tags": []
   },
   "source": [
    "B) Extra Trees"
   ]
  },
  {
   "cell_type": "code",
   "execution_count": 33,
   "id": "5ed603e5",
   "metadata": {
    "execution": {
     "iopub.execute_input": "2023-12-05T15:56:58.204866Z",
     "iopub.status.busy": "2023-12-05T15:56:58.204105Z",
     "iopub.status.idle": "2023-12-05T15:56:58.209817Z",
     "shell.execute_reply": "2023-12-05T15:56:58.209013Z"
    },
    "papermill": {
     "duration": 0.044818,
     "end_time": "2023-12-05T15:56:58.212254",
     "exception": false,
     "start_time": "2023-12-05T15:56:58.167436",
     "status": "completed"
    },
    "tags": []
   },
   "outputs": [],
   "source": [
    "# def objectiveET(trial):\n",
    "#     # Define the hyperparameters for the trial.\n",
    "#     params = {\n",
    "#         'n_estimators': trial.suggest_int('n_estimators', 50, 1000),\n",
    "#         'max_depth': trial.suggest_int('max_depth', 2, 30),\n",
    "#         'min_impurity_decrease': trial.suggest_float('min_impurity_decrease',1e-10, 1e-2, log=True),\n",
    "#         # 'min_impurity_decrease': trial.suggest_float('min_impurity_decrease',0.0, 1.0),\n",
    "#         'criterion': trial.suggest_categorical('criterion', ['gini', 'entropy']),\n",
    "#         'min_samples_split': trial.suggest_int('min_samples_split', 2, 50),\n",
    "#         'min_samples_leaf': trial.suggest_int('min_samples_leaf', 1, 50),\n",
    "#         'max_features': trial.suggest_float ('max_features', 0.1, 1.0),\n",
    "#         'max_leaf_nodes': trial.suggest_int('max_leaf_nodes', 100, 3000),\n",
    "#         'max_samples': trial.suggest_float('max_samples', 1e-5, 1.0, log=True),\n",
    "#         # 'max_samples': trial.suggest_float('max_samples', 1e-3, 3e-1, log=True),\n",
    "#         'min_weight_fraction_leaf': trial.suggest_float('min_weight_fraction_leaf', 0.0, 0.5),\n",
    "#         # 'min_weight_fraction_leaf': trial.suggest_float ('min_weight_fraction_leaf', 1e-3, 1e-1),\n",
    "#         'bootstrap': trial.suggest_categorical('bootstrap', [True]),\n",
    "#         'class_weight': trial.suggest_categorical('class_weight', [None, 'balanced', 'balanced_subsample']),\n",
    "#         'n_jobs': -1,\n",
    "#     }\n",
    "\n",
    "#     # Initialize and fit the model.\n",
    "#     model = ExtraTreesClassifier(**params, random_state=seed)\n",
    "#     X, y = generateXY(df_train)\n",
    "#     scores = cross_val_score(model, X, y, scoring='roc_auc', cv=kf)\n",
    "#     # print(f'ExtraTreesClassifier has ROC AUC Score(Avg) = {np.mean(scores):.7f} +/- {np.std(scores) * 2:.5f}')\n",
    "#     return np.mean(scores)\n",
    "\n",
    "# optimize_params(objectiveET, n_trials=100, seed=42)"
   ]
  },
  {
   "cell_type": "markdown",
   "id": "c668fa3d",
   "metadata": {
    "papermill": {
     "duration": 0.033024,
     "end_time": "2023-12-05T15:56:58.279062",
     "exception": false,
     "start_time": "2023-12-05T15:56:58.246038",
     "status": "completed"
    },
    "tags": []
   },
   "source": [
    "C) Hist Gradient Boosting"
   ]
  },
  {
   "cell_type": "code",
   "execution_count": 34,
   "id": "b7fa75f0",
   "metadata": {
    "execution": {
     "iopub.execute_input": "2023-12-05T15:56:58.348664Z",
     "iopub.status.busy": "2023-12-05T15:56:58.347822Z",
     "iopub.status.idle": "2023-12-05T15:56:58.353245Z",
     "shell.execute_reply": "2023-12-05T15:56:58.352249Z"
    },
    "papermill": {
     "duration": 0.042876,
     "end_time": "2023-12-05T15:56:58.355706",
     "exception": false,
     "start_time": "2023-12-05T15:56:58.312830",
     "status": "completed"
    },
    "tags": []
   },
   "outputs": [],
   "source": [
    "# def objectiveHGB(trial):\n",
    "#     # Define the hyperparameters for the trial.\n",
    "#     params = {\n",
    "#         'l2_regularization': trial.suggest_float('l2_regularization', 1e-5, 10.0, log=True),\n",
    "#         'learning_rate': trial.suggest_float('learning_rate', 1e-3, 1.0, log=True),\n",
    "#         'max_iter': trial.suggest_int('max_iter', 100, 2000),\n",
    "#         'max_depth': trial.suggest_int('max_depth', 1, 100),\n",
    "#         'max_bins': trial.suggest_int('max_bins', 2, 255),\n",
    "#         'min_samples_leaf': trial.suggest_int('min_samples_leaf', 1, 2000),\n",
    "#         'max_leaf_nodes': trial.suggest_int('max_leaf_nodes', 2, 255),\n",
    "#     }\n",
    "\n",
    "#     # Initialize and fit the model.\n",
    "#     model = HistGradientBoostingClassifier(**params, random_state=seed)\n",
    "#     X, y = generateXY(df_train)\n",
    "#     scores = cross_val_score(model, X, y, scoring='roc_auc', cv=kf)\n",
    "#     # print(f'HistGradientBoostingClassifier has ROC AUC Score(Avg) = {np.mean(scores):.7f} +/- {np.std(scores) * 2:.5f}')\n",
    "#     return np.mean(scores)\n",
    "\n",
    "# optimize_params(objectiveHGB, n_trials=100, seed=42)"
   ]
  },
  {
   "cell_type": "markdown",
   "id": "9873357c",
   "metadata": {
    "papermill": {
     "duration": 0.033663,
     "end_time": "2023-12-05T15:56:58.423580",
     "exception": false,
     "start_time": "2023-12-05T15:56:58.389917",
     "status": "completed"
    },
    "tags": []
   },
   "source": [
    "D) XGBClassifier"
   ]
  },
  {
   "cell_type": "code",
   "execution_count": 35,
   "id": "2eb6ed44",
   "metadata": {
    "execution": {
     "iopub.execute_input": "2023-12-05T15:56:58.493887Z",
     "iopub.status.busy": "2023-12-05T15:56:58.493477Z",
     "iopub.status.idle": "2023-12-05T15:56:58.500900Z",
     "shell.execute_reply": "2023-12-05T15:56:58.500035Z"
    },
    "papermill": {
     "duration": 0.04498,
     "end_time": "2023-12-05T15:56:58.503173",
     "exception": false,
     "start_time": "2023-12-05T15:56:58.458193",
     "status": "completed"
    },
    "tags": []
   },
   "outputs": [],
   "source": [
    "# def objectiveXGB(trial):\n",
    "#     # Define the hyperparameters for the trial.\n",
    "#     params = {\n",
    "#         # num_boost_round: GBM의 n_estimators와 같은 파라미터\n",
    "#         'n_estimators': trial.suggest_int('n_estimators', 100, 1000),\n",
    "#         'max_depth': trial.suggest_int('max_depth', 1, 10),\n",
    "#         'min_child_weight': trial.suggest_int('min_child_weight', 1, 20),\n",
    "#         'subsample': trial.suggest_float('subsample', 0.5, 1.0),\n",
    "#         'colsample_bytree': trial.suggest_float('colsample_bytree', 0.1, 1.0),\n",
    "#         'gamma': trial.suggest_float('gamma', 0.0, 5.0),\n",
    "#         'alpha': trial.suggest_float('alpha', 0.0, 10.0),\n",
    "#         'lambda': trial.suggest_float('lambda', 0.0, 10.0),\n",
    "#         'learning_rate': trial.suggest_float('learning_rate', 1e-3, 1.0, log=True), # eta [defalut: 0.3, alias: learning_rate] \n",
    "#         'scale_pos_weight': trial.suggest_float('scale_pos_weight', 1.0, 10.0), \n",
    "#         'tree_method': 'hist',\n",
    "#         'device': 'cuda',\n",
    "#         'objective': 'binary:logistic'\n",
    "#     }\n",
    "\n",
    "#     # Initialize and fit the model.\n",
    "#     model = XGBClassifier(**params, random_state=seed)\n",
    "#     X, y = generateXY(df_train)\n",
    "#     scores = cross_val_score(model, X, y, scoring='roc_auc', cv=kf)\n",
    "#     # print(f'XGBClassifier has ROC AUC Score(Avg) = {np.mean(scores):.7f} +/- {np.std(scores) * 2:.5f}')\n",
    "#     return np.mean(scores)\n",
    "\n",
    "# optimize_params(objectiveXGB, n_trials=100, seed=42)"
   ]
  },
  {
   "cell_type": "markdown",
   "id": "9175191d",
   "metadata": {
    "papermill": {
     "duration": 0.033094,
     "end_time": "2023-12-05T15:56:58.570045",
     "exception": false,
     "start_time": "2023-12-05T15:56:58.536951",
     "status": "completed"
    },
    "tags": []
   },
   "source": [
    "E) LightGBM"
   ]
  },
  {
   "cell_type": "code",
   "execution_count": 36,
   "id": "a86cc019",
   "metadata": {
    "execution": {
     "iopub.execute_input": "2023-12-05T15:56:58.638914Z",
     "iopub.status.busy": "2023-12-05T15:56:58.638176Z",
     "iopub.status.idle": "2023-12-05T15:56:58.643840Z",
     "shell.execute_reply": "2023-12-05T15:56:58.642841Z"
    },
    "papermill": {
     "duration": 0.043385,
     "end_time": "2023-12-05T15:56:58.646632",
     "exception": false,
     "start_time": "2023-12-05T15:56:58.603247",
     "status": "completed"
    },
    "tags": []
   },
   "outputs": [],
   "source": [
    "# def objectiveLGBM(trial):\n",
    "#     # Define the hyperparameters for the trial.\n",
    "#     params = {\n",
    "#         \"objective\": \"binary\",\n",
    "#         \"metric\": \"auc\",\n",
    "#         \"verbosity\": -1,\n",
    "#         \"boosting_type\": \"gbdt\",\n",
    "#         \"reg_alpha\": trial.suggest_float(\"reg_alpha\", 1e-8, 10.0, log=True),\n",
    "#         \"reg_lambda\": trial.suggest_float(\"reg_lambda\", 1e-8, 10.0, log=True),\n",
    "#         \"num_leaves\": trial.suggest_int(\"num_leaves\", 2, 256),\n",
    "#         \"colsample_bytree\": trial.suggest_float(\"colsample_bytree\", 0.1, 1.0),\n",
    "#         \"subsample\": trial.suggest_float(\"subsample\", 0.1, 1.0),\n",
    "#         \"subsample_freq\": trial.suggest_int(\"subsample_freq\", 1, 10),\n",
    "#         \"min_child_samples\": trial.suggest_int(\"min_child_samples\", 5, 100),\n",
    "#         'learning_rate': trial.suggest_float('learning_rate', 1e-3, 1.0, log=True),\n",
    "#         'n_estimators': trial.suggest_int(\"n_estimators\", 50, 3000),\n",
    "#         'max_depth': trial.suggest_int('max_depth', -1, 50),\n",
    "#         'device_type': 'gpu'\n",
    "#     }\n",
    "\n",
    "#     # Initialize and fit the model.\n",
    "#     model = LGBMClassifier(**params, random_state=seed)\n",
    "#     X, y = generateXY(df_train)\n",
    "#     scores = cross_val_score(model, X, y, scoring='roc_auc', cv=kf)\n",
    "#     print(f'LGBMClassifier has ROC AUC Score(Avg) = {np.mean(scores):.7f} +/- {np.std(scores) * 2:.5f}')\n",
    "#     return np.mean(scores)\n",
    "\n",
    "# optimize_params(objectiveLGBM, n_trials=100, seed=42)"
   ]
  },
  {
   "cell_type": "markdown",
   "id": "63802fb3",
   "metadata": {
    "papermill": {
     "duration": 0.033195,
     "end_time": "2023-12-05T15:56:58.713760",
     "exception": false,
     "start_time": "2023-12-05T15:56:58.680565",
     "status": "completed"
    },
    "tags": []
   },
   "source": [
    "F) CatBoostClassifier"
   ]
  },
  {
   "cell_type": "code",
   "execution_count": 37,
   "id": "832fd720",
   "metadata": {
    "execution": {
     "iopub.execute_input": "2023-12-05T15:56:58.783409Z",
     "iopub.status.busy": "2023-12-05T15:56:58.782635Z",
     "iopub.status.idle": "2023-12-05T15:56:58.787810Z",
     "shell.execute_reply": "2023-12-05T15:56:58.787019Z"
    },
    "papermill": {
     "duration": 0.042681,
     "end_time": "2023-12-05T15:56:58.790237",
     "exception": false,
     "start_time": "2023-12-05T15:56:58.747556",
     "status": "completed"
    },
    "tags": []
   },
   "outputs": [],
   "source": [
    "# def objectiveCat(trial):\n",
    "#     # Define the hyperparameters for the trial.\n",
    "#     params = {\n",
    "#         'iterations': trial.suggest_int('iterations', 500, 1200),\n",
    "#         'depth': trial.suggest_int('depth', 5, 15),\n",
    "#         'learning_rate': trial.suggest_float(\"learning_rate\", 2e-2, 8e-2, log=True),\n",
    "#         'random_strength': trial.suggest_float('random_strength', 0.7, 1.3, log=True),\n",
    "#         'bagging_temperature': trial.suggest_float(\"bagging_temperature\", 0.2, 0.6, log=True),\n",
    "#         'border_count': trial.suggest_int('border_count', 100, 200),\n",
    "#         'l2_leaf_reg': trial.suggest_int(\"l2_leaf_reg\", 1, 6),\n",
    "#         'scale_pos_weight':trial.suggest_float(\"scale_pos_weight\", 1.2, 1.9, log=True),\n",
    "#     }\n",
    "\n",
    "#     # Initialize and fit the model.\n",
    "#     model = CatBoostClassifier(**params, random_state=seed, logging_level = 'Silent')\n",
    "#     X, y = generateXY(df_train)\n",
    "#     scores = cross_val_score(model, X, y, scoring='roc_auc', cv=kf)\n",
    "#     # print(f'CatBoostClassifier has ROC AUC Score(Avg) = {np.mean(scores):.7f} +/- {np.std(scores) * 2:.5f}')\n",
    "#     return np.mean(scores)\n",
    "\n",
    "# optimize_params(objectiveCat, n_trials=100, seed=42)"
   ]
  },
  {
   "cell_type": "code",
   "execution_count": 38,
   "id": "7231b3cd",
   "metadata": {
    "execution": {
     "iopub.execute_input": "2023-12-05T15:56:58.860904Z",
     "iopub.status.busy": "2023-12-05T15:56:58.860117Z",
     "iopub.status.idle": "2023-12-05T15:56:58.865351Z",
     "shell.execute_reply": "2023-12-05T15:56:58.864435Z"
    },
    "papermill": {
     "duration": 0.042752,
     "end_time": "2023-12-05T15:56:58.867515",
     "exception": false,
     "start_time": "2023-12-05T15:56:58.824763",
     "status": "completed"
    },
    "tags": []
   },
   "outputs": [],
   "source": [
    "# def objectiveCat(trial):\n",
    "#     # Define the hyperparameters for the trial.\n",
    "#     params = {\n",
    "#         'iterations': trial.suggest_int('iterations', 500, 1000),\n",
    "#         'depth': trial.suggest_int('depth', 5, 7),\n",
    "#         'learning_rate': trial.suggest_float(\"learning_rate\", 2e-2, 8e-2, log=True),\n",
    "#         'random_strength': trial.suggest_float('random_strength', 0.6, 0.9),\n",
    "#         'bagging_temperature': trial.suggest_float(\"bagging_temperature\", 0.2, 0.7),\n",
    "#         'border_count': trial.suggest_int('border_count', 130, 170),\n",
    "#         'l2_leaf_reg': trial.suggest_int(\"l2_leaf_reg\", 4, 6),\n",
    "#         'scale_pos_weight':trial.suggest_float(\"scale_pos_weight\", 1.2, 1.8),\n",
    "#     }\n",
    "\n",
    "#     # Initialize and fit the model.\n",
    "#     model = CatBoostClassifier(**params, random_state=seed, logging_level = 'Silent')\n",
    "#     X, y = generateXY(df_train)\n",
    "#     scores = cross_val_score(model, X, y, scoring='roc_auc', cv=kf)\n",
    "#     # print(f'CatBoostClassifier has ROC AUC Score(Avg) = {np.mean(scores):.7f} +/- {np.std(scores) * 2:.5f}')\n",
    "#     return np.mean(scores)\n",
    "\n",
    "# optimize_params(objectiveCat, n_trials=100, seed=42)"
   ]
  },
  {
   "cell_type": "markdown",
   "id": "c9ba995c",
   "metadata": {
    "papermill": {
     "duration": 0.033081,
     "end_time": "2023-12-05T15:56:58.933902",
     "exception": false,
     "start_time": "2023-12-05T15:56:58.900821",
     "status": "completed"
    },
    "tags": []
   },
   "source": [
    "G) Logistic Regression"
   ]
  },
  {
   "cell_type": "code",
   "execution_count": 39,
   "id": "9ca5d446",
   "metadata": {
    "execution": {
     "iopub.execute_input": "2023-12-05T15:56:59.002878Z",
     "iopub.status.busy": "2023-12-05T15:56:59.002097Z",
     "iopub.status.idle": "2023-12-05T15:56:59.008861Z",
     "shell.execute_reply": "2023-12-05T15:56:59.007961Z"
    },
    "papermill": {
     "duration": 0.044018,
     "end_time": "2023-12-05T15:56:59.011195",
     "exception": false,
     "start_time": "2023-12-05T15:56:58.967177",
     "status": "completed"
    },
    "tags": []
   },
   "outputs": [],
   "source": [
    "# import warnings\n",
    "# warnings.filterwarnings('ignore')\n",
    "\n",
    "# # max_iter는 Gradient Descent 방식을 반복해서 몇번 수행할 것인가 인데, \n",
    "# # 이게 일단 수렴(Convergence)하게 되면 횟수를 늘려도 성능이 거의 달라지지 않음\n",
    "# def objectiveLR(trial):\n",
    "#     # Define the hyperparameters for the trial.\n",
    "#     penalty_solver = trial.suggest_categorical('penalty_solver', [\n",
    "#         ('l1', 'liblinear'), \n",
    "#         ('l1', 'saga'), \n",
    "#         ('l2', 'newton-cg'), \n",
    "#         ('l2', 'lbfgs'), \n",
    "#         ('l2', 'sag'), \n",
    "#         ('l2', 'saga'), \n",
    "#         ('elasticnet', 'saga'),\n",
    "#         ('none', 'newton-cg'),\n",
    "#         ('none', 'lbfgs'),\n",
    "#         ('none', 'sag'),\n",
    "#         ('none', 'saga')\n",
    "#     ])\n",
    "\n",
    "#     penalty, solver = penalty_solver\n",
    "\n",
    "#     if penalty == 'elasticnet':\n",
    "#         l1_ratio = trial.suggest_float('l1_ratio', 0, 1)\n",
    "#     else:\n",
    "#         l1_ratio = None\n",
    "\n",
    "#     params = {\n",
    "#         'max_iter': trial.suggest_int('max_iter', 100, 1000),\n",
    "#         'C': trial.suggest_float('C', 1e-5, 10, log=True),\n",
    "#         'penalty': penalty,\n",
    "#         'solver': solver,\n",
    "#         'l1_ratio': l1_ratio,\n",
    "#         'fit_intercept': trial.suggest_categorical('fit_intercept', [True, False]),\n",
    "#         'class_weight': trial.suggest_categorical('class_weight', [None, 'balanced']),\n",
    "#         'n_jobs': -1\n",
    "#     }\n",
    "\n",
    "\n",
    "\n",
    "#     # Initialize and fit the model.\n",
    "#     model = LogisticRegression(**params, random_state=seed)\n",
    "#     X, y = generateXY(df_train)\n",
    "#     scores = cross_val_score(model, X, y, scoring='roc_auc', cv=kf)\n",
    "# #     print(f'LogisticRegression has ROC AUC Score(Avg) = {np.mean(scores):.7f} +/- {np.std(scores) * 2:.5f}')\n",
    "#     return np.mean(scores)\n",
    "\n",
    "# optimize_params(objectiveLR, n_trials=100, seed=42)"
   ]
  },
  {
   "cell_type": "markdown",
   "id": "28f7b622",
   "metadata": {
    "papermill": {
     "duration": 0.032945,
     "end_time": "2023-12-05T15:56:59.077312",
     "exception": false,
     "start_time": "2023-12-05T15:56:59.044367",
     "status": "completed"
    },
    "tags": []
   },
   "source": [
    "---"
   ]
  },
  {
   "cell_type": "markdown",
   "id": "cd7525db",
   "metadata": {
    "papermill": {
     "duration": 0.033043,
     "end_time": "2023-12-05T15:56:59.143674",
     "exception": false,
     "start_time": "2023-12-05T15:56:59.110631",
     "status": "completed"
    },
    "tags": []
   },
   "source": [
    "# 📈Train"
   ]
  },
  {
   "cell_type": "code",
   "execution_count": 40,
   "id": "675b3833",
   "metadata": {
    "execution": {
     "iopub.execute_input": "2023-12-05T15:56:59.213018Z",
     "iopub.status.busy": "2023-12-05T15:56:59.212227Z",
     "iopub.status.idle": "2023-12-05T15:56:59.220806Z",
     "shell.execute_reply": "2023-12-05T15:56:59.219860Z"
    },
    "papermill": {
     "duration": 0.04651,
     "end_time": "2023-12-05T15:56:59.223379",
     "exception": false,
     "start_time": "2023-12-05T15:56:59.176869",
     "status": "completed"
    },
    "tags": []
   },
   "outputs": [],
   "source": [
    "# # optuna로 뽑은 최적화 파라미터\n",
    "\n",
    "# opt_rf_params = {'n_estimators': 947, \n",
    "#                  'max_depth': 29, \n",
    "#                  'min_samples_split': 31, \n",
    "#                  'min_samples_leaf': 9, \n",
    "#                  'max_features': None, \n",
    "#                  'max_leaf_nodes': 1839, \n",
    "#                  'max_samples': 0.8650030717488943, \n",
    "#                  'bootstrap': True, \n",
    "#                  'criterion': 'entropy',\n",
    "#                  'n_jobs': -1\n",
    "#                  }\n",
    "# opt_et_params = {'n_estimators': 709, \n",
    "#                  'max_depth': 29, \n",
    "#                  'min_impurity_decrease': 2.37677144655935e-05, \n",
    "#                  'criterion': 'gini', \n",
    "#                  'min_samples_split': 16, \n",
    "#                  'min_samples_leaf': 6, \n",
    "#                  'max_features': 0.9622645147955742, \n",
    "#                  'max_leaf_nodes': 1672, \n",
    "#                  'max_samples': 0.09822322294168621, \n",
    "#                  'min_weight_fraction_leaf': 0.000656642715024573, \n",
    "#                  'bootstrap': True, \n",
    "#                  'class_weight': None,\n",
    "#                  'n_jobs': -1,\n",
    "#                  } # 0.85538\n",
    "# opt_hgb_params = {'l2_regularization': 7.086578943242248, \n",
    "#                   'learning_rate': 0.016691512438799662, \n",
    "#                   'max_iter': 1849, \n",
    "#                   'max_depth': 31, \n",
    "#                   'max_bins': 247, \n",
    "#                   'min_samples_leaf': 631, \n",
    "#                   'max_leaf_nodes': 91\n",
    "#                   } # 0.86993\n",
    "# opt_xgb_params = {'n_estimators': 973, \n",
    "#                   'max_depth': 10, \n",
    "#                   'min_child_weight': 3, \n",
    "#                   'subsample': 0.9504791909105347, \n",
    "#                   'colsample_bytree': 0.3028813045040783, \n",
    "#                   'gamma': 0.9272085943572528, \n",
    "#                   'alpha': 6.058561922964304, \n",
    "#                   'lambda': 7.442253995706032, \n",
    "#                   'learning_rate': 0.034608357960129406, \n",
    "#                   'scale_pos_weight': 5.066377770811329,\n",
    "#                   'tree_method': 'hist',\n",
    "#                   'device': 'cuda',\n",
    "#                   'objective': 'binary:logistic',\n",
    "#                   'n_jobs': -1,\n",
    "#                   } # 0.87260\n",
    "# opt_lgbm_params = {'reg_alpha': 1.7862129552684525e-06, \n",
    "#                    'reg_lambda': 4.457649510795302e-07, \n",
    "#                    'num_leaves': 231, \n",
    "#                    'colsample_bytree': 0.23633545420416763, \n",
    "#                    'subsample': 0.41304778630564337, \n",
    "#                    'subsample_freq': 10, \n",
    "#                    'min_child_samples': 70, \n",
    "#                    'learning_rate': 0.011773171567527234, \n",
    "#                    'n_estimators': 2620, \n",
    "#                    'max_depth': 18,\n",
    "#                    \"objective\": \"binary\",\n",
    "#                    \"metric\": \"auc\",\n",
    "#                    \"verbosity\": -1,\n",
    "#                    \"boosting_type\": \"gbdt\",\n",
    "#                    'device_type': 'gpu'\n",
    "#                    }\n",
    "# opt_cat_params = {'iterations': 980, \n",
    "#                   'depth': 7, \n",
    "#                   'learning_rate': 0.07645498037017964, \n",
    "#                   'random_strength': 0.6910564067238075, \n",
    "#                   'bagging_temperature': 0.371867116122552, \n",
    "#                   'border_count': 155, \n",
    "#                   'l2_leaf_reg': 5, \n",
    "#                   'scale_pos_weight': 1.5475544409461044,\n",
    "#                   'logging_level': 'Silent'\n",
    "#                   }\n",
    "\n",
    "# # optuna에서 계속 같은 점수로 수렴됨. 한계가 있는듯\n",
    "# opt_lr_params = {'penalty':'none', \n",
    "#                  'solver': 'newton-cg', \n",
    "#                  'max_iter': 804, \n",
    "#                  'C': 0.008675998270633417, \n",
    "#                  'fit_intercept': True, \n",
    "#                  'class_weight': None\n",
    "#                  } # 0.834328887524651"
   ]
  },
  {
   "cell_type": "code",
   "execution_count": 41,
   "id": "da6444c5",
   "metadata": {
    "execution": {
     "iopub.execute_input": "2023-12-05T15:56:59.294519Z",
     "iopub.status.busy": "2023-12-05T15:56:59.293682Z",
     "iopub.status.idle": "2023-12-05T15:56:59.303925Z",
     "shell.execute_reply": "2023-12-05T15:56:59.303034Z"
    },
    "papermill": {
     "duration": 0.048559,
     "end_time": "2023-12-05T15:56:59.306565",
     "exception": false,
     "start_time": "2023-12-05T15:56:59.258006",
     "status": "completed"
    },
    "tags": []
   },
   "outputs": [],
   "source": [
    "# Define the original models.\n",
    "# MedAE와 같은 중앙값 기반의 오차 측정 방법은 모델의 objective로 설정하기 어려움 (미분 가능한 함수가 아니기 때문)\n",
    "origin_models = {\n",
    "    'xgb_mae': XGBRegressor(random_state = seed, objective = 'reg:absoluteerror'),\n",
    "    'xgb_quant': XGBRegressor(random_state = seed, objective = 'reg:quantileerror', quantile_alpha = .5),\n",
    "    'lgb_mae': LGBMRegressor(random_state = seed, objective = 'mae'),\n",
    "    'lgb_quant': LGBMRegressor(random_state = seed, objective = 'quantile', alpha = .5),\n",
    "    'cb_mae': CatBoostRegressor(random_state = seed, verbose = 0, objective = 'MAE'),\n",
    "    'cb_quant': CatBoostRegressor(random_state = seed, verbose = 0, objective = 'Quantile:alpha=0.5'),\n",
    "    'hgb': HistGradientBoostingRegressor(random_state = seed, loss = 'absolute_error')\n",
    "}"
   ]
  },
  {
   "cell_type": "code",
   "execution_count": 42,
   "id": "4c0ba13b",
   "metadata": {
    "execution": {
     "iopub.execute_input": "2023-12-05T15:56:59.376280Z",
     "iopub.status.busy": "2023-12-05T15:56:59.375554Z",
     "iopub.status.idle": "2023-12-05T15:56:59.380751Z",
     "shell.execute_reply": "2023-12-05T15:56:59.379824Z"
    },
    "papermill": {
     "duration": 0.042911,
     "end_time": "2023-12-05T15:56:59.383039",
     "exception": false,
     "start_time": "2023-12-05T15:56:59.340128",
     "status": "completed"
    },
    "tags": []
   },
   "outputs": [],
   "source": [
    "# # Define the pipelines\n",
    "# log_transformer = FunctionTransformer(np.log1p)\n",
    "# pipelines = {\n",
    "#     \"Random Forest\": make_pipeline(RobustScaler(),\n",
    "#                                    RandomForestClassifier(random_state=seed, n_jobs=-1)),\n",
    "#     \"Extra Trees\": make_pipeline(log_transformer,\n",
    "#                                  ExtraTreesClassifier(random_state=seed, n_jobs=-1)),\n",
    "#     \"Hist Gradient Boosting\": make_pipeline(HistGradientBoostingClassifier(random_state=seed)),\n",
    "#     \"XGBoost\": make_pipeline(QuantileTransformer(n_quantiles=100, output_distribution='normal', random_state=seed),\n",
    "#                              XGBClassifier(random_state=seed, n_jobs=-1)),\n",
    "#     \"LightGBM\": make_pipeline(LGBMClassifier(random_state=seed, verbosity=-1)),\n",
    "#     \"CatBoost\": make_pipeline(RobustScaler(),\n",
    "#                               CatBoostClassifier(random_state=seed, logging_level = 'Silent')),\n",
    "#     # \"LogisticRegression\": LogisticRegression(random_state=seed, max_iter=2000, n_jobs=-1),\n",
    "# }"
   ]
  },
  {
   "cell_type": "markdown",
   "id": "bbc4e914",
   "metadata": {
    "papermill": {
     "duration": 0.033005,
     "end_time": "2023-12-05T15:56:59.449836",
     "exception": false,
     "start_time": "2023-12-05T15:56:59.416831",
     "status": "completed"
    },
    "tags": []
   },
   "source": [
    "### __1) Voting 앙상블__ (with Weights)\n",
    "- 모델별 가중치 추출"
   ]
  },
  {
   "cell_type": "markdown",
   "id": "6214cfa6",
   "metadata": {
    "papermill": {
     "duration": 0.033375,
     "end_time": "2023-12-05T15:56:59.516270",
     "exception": false,
     "start_time": "2023-12-05T15:56:59.482895",
     "status": "completed"
    },
    "tags": []
   },
   "source": [
    "### 모델별로 어떤 스케일이 좋은지 판단"
   ]
  },
  {
   "cell_type": "code",
   "execution_count": 43,
   "id": "c4062724",
   "metadata": {
    "execution": {
     "iopub.execute_input": "2023-12-05T15:56:59.585220Z",
     "iopub.status.busy": "2023-12-05T15:56:59.584336Z",
     "iopub.status.idle": "2023-12-05T15:56:59.596780Z",
     "shell.execute_reply": "2023-12-05T15:56:59.595243Z"
    },
    "papermill": {
     "duration": 0.050404,
     "end_time": "2023-12-05T15:56:59.599734",
     "exception": false,
     "start_time": "2023-12-05T15:56:59.549330",
     "status": "completed"
    },
    "tags": []
   },
   "outputs": [],
   "source": [
    "def cv_oof_preds(models, X, y, cv):\n",
    "    \"\"\"\n",
    "    Perform cross-validation for each model and generate out-of-fold predictions.\n",
    "\n",
    "    Args:\n",
    "    - models: a dictionary of Scikit-learn models\n",
    "    - X: features\n",
    "    - y: target variable\n",
    "    - cv: cross-validation splitter\n",
    "\n",
    "    Returns:\n",
    "    - a DataFrame of out-of-fold predictions\n",
    "    - a list of average MedAE scores for each model\n",
    "    \"\"\"\n",
    "    # Create a DataFrame to store out-of-fold predictions.\n",
    "    oof_predictions = pd.DataFrame(index=y.index)\n",
    "\n",
    "    # Create an empty list to store the average MedAE scores\n",
    "    avg_medae_scores = []\n",
    "\n",
    "    # Iterate over each model and compute cross-validated predictions.\n",
    "    for name, model in models.items():\n",
    "        # Create an empty array to store the out-of-fold predictions\n",
    "        oof_preds = np.zeros(y.shape[0])\n",
    "\n",
    "        # Create an empty list to store the MedAE scores\n",
    "        medae_scores = []\n",
    "\n",
    "        # Perform cross-validation\n",
    "        for train_index, valid_index in cv.split(X, y):\n",
    "            # Clone the model to ensure that it's reset for each fold\n",
    "            model_clone = clone(model)\n",
    "\n",
    "            # Split the data\n",
    "            X_train, X_valid = X.iloc[train_index], X.iloc[valid_index]\n",
    "            y_train, y_valid = y.iloc[train_index], y.iloc[valid_index]\n",
    "\n",
    "            # Fit the model\n",
    "            model_clone.fit(X_train, y_train)\n",
    "\n",
    "            # Compute predictions\n",
    "            preds = model_clone.predict(X_valid)\n",
    "\n",
    "            # Store predictions for this fold in oof_preds\n",
    "            oof_preds[valid_index] = preds\n",
    "\n",
    "            # Compute the MedAE score and append it to the list\n",
    "            score = median_absolute_error(y_valid, preds)\n",
    "            medae_scores.append(score)\n",
    "\n",
    "        # Store the predictions in the DataFrame\n",
    "        oof_predictions[name] = oof_preds\n",
    "\n",
    "        # Store the average MedAE score and print\n",
    "        avg_medae_score = np.mean(medae_scores)\n",
    "        avg_medae_scores.append(avg_medae_score)\n",
    "        \n",
    "        print(f\"{name} MedAE Score(Avg): {avg_medae_score:.7f}\")\n",
    "    print(f\"★Models MedAE Score(Avg) = {np.mean(avg_medae_scores):.7f} ± {np.std(avg_medae_scores) * 2:.5f}\")\n",
    "\n",
    "    return oof_predictions, avg_medae_scores\n"
   ]
  },
  {
   "cell_type": "code",
   "execution_count": 44,
   "id": "bd910a8b",
   "metadata": {
    "execution": {
     "iopub.execute_input": "2023-12-05T15:56:59.671035Z",
     "iopub.status.busy": "2023-12-05T15:56:59.669650Z",
     "iopub.status.idle": "2023-12-05T15:56:59.683451Z",
     "shell.execute_reply": "2023-12-05T15:56:59.682336Z"
    },
    "papermill": {
     "duration": 0.051984,
     "end_time": "2023-12-05T15:56:59.686150",
     "exception": false,
     "start_time": "2023-12-05T15:56:59.634166",
     "status": "completed"
    },
    "tags": []
   },
   "outputs": [],
   "source": [
    "def apply_scaling_and_cv(models, X, y, cv):\n",
    "    \"\"\"\n",
    "    Apply different scaling methods, log transformation, and no scaling to the data and perform cross-validation for each model.\n",
    "    \"\"\"\n",
    "    # Define the scaling methods\n",
    "    scalers = {\n",
    "        'NoScaling': None,  # Add no scaling\n",
    "        'StandardScaler': StandardScaler(),\n",
    "        'MinMaxScaler': MinMaxScaler(),\n",
    "        'RobustScaler': RobustScaler(),\n",
    "        'QuantileTransformer': QuantileTransformer(n_quantiles=100, output_distribution='normal', random_state=seed),\n",
    "        'LogTransform': None  # Add log transformation\n",
    "    }\n",
    "\n",
    "    # Create dictionaries to store the results\n",
    "    all_oof_predictions = {}\n",
    "    all_avg_medae_scores = {}\n",
    "\n",
    "    # Apply each scaling method\n",
    "    for scaler_name, scaler in scalers.items():\n",
    "        print(f\"[Applying {scaler_name}...]\")\n",
    "\n",
    "        if scaler_name == 'NoScaling':\n",
    "            # Do not scale the features\n",
    "            X_scaled = X.copy()\n",
    "        elif scaler_name == 'LogTransform':\n",
    "            # Apply log transformation\n",
    "            X_scaled = np.log1p(X)\n",
    "        else:\n",
    "            # Scale the features\n",
    "            X_scaled = pd.DataFrame(scaler.fit_transform(X), columns=X.columns, index=X.index)\n",
    "\n",
    "        # Perform cross-validation and generate out-of-fold predictions\n",
    "        oof_predictions, avg_medae_scores = cv_oof_preds(models, X_scaled, y, cv)\n",
    "        print()\n",
    "        print(\"=\"*60)\n",
    "        print()\n",
    "\n",
    "        # Store the results\n",
    "        all_oof_predictions[scaler_name] = oof_predictions\n",
    "        all_avg_medae_scores[scaler_name] = avg_medae_scores\n",
    "\n",
    "    # Print the best scaling method for each model\n",
    "    print(f\"[⚠️The best scaling]\")\n",
    "    for model_name in models.keys():\n",
    "        best_method, best_score = min(\n",
    "            ((method, scores[i]) for method, scores in all_avg_medae_scores.items() for i, model in enumerate(models) if model == model_name),\n",
    "            key=lambda x: x[1]\n",
    "        )\n",
    "        print(f\"For {model_name}, the best scaling method is {best_method} with MedAE: {best_score:.7f}\")\n",
    "\n",
    "\n",
    "    return all_oof_predictions, all_avg_medae_scores\n"
   ]
  },
  {
   "cell_type": "code",
   "execution_count": 45,
   "id": "1335e600",
   "metadata": {
    "execution": {
     "iopub.execute_input": "2023-12-05T15:56:59.757298Z",
     "iopub.status.busy": "2023-12-05T15:56:59.756863Z",
     "iopub.status.idle": "2023-12-05T15:56:59.764799Z",
     "shell.execute_reply": "2023-12-05T15:56:59.763811Z"
    },
    "papermill": {
     "duration": 0.045783,
     "end_time": "2023-12-05T15:56:59.766989",
     "exception": false,
     "start_time": "2023-12-05T15:56:59.721206",
     "status": "completed"
    },
    "tags": []
   },
   "outputs": [],
   "source": [
    "# LADRegression 모델을 사용하여 각 모델의 예측값에 대한 가중치를 계산하는 방식\n",
    "def perform_voting(models, X, y, cv):\n",
    "    oof_predictions,_ = cv_oof_preds(models, X, y, cv)\n",
    "\n",
    "    # Compute the weights using LAD Regression.\n",
    "    weights = LADRegression().fit(oof_predictions, y).coef_\n",
    "    display(pd.DataFrame(weights, index=list(oof_predictions.columns), columns=['weight per model']))\n",
    "\n",
    "    # Create a voting regressor.\n",
    "    voting_reg = VotingRegressor(estimators=list(models.items()), weights=weights.tolist())\n",
    "\n",
    "    # Compute cross-validated Median Absolute Error.\n",
    "    # Scikit-learn의 교차 검증 함수는 높은 값이 좋은 것으로 간주되므로, 모든 손실 함수에서는 'neg' 접두사가 붙음\n",
    "    voting_score = -1 * cross_val_score(voting_reg, X, y, scoring='neg_median_absolute_error', cv=cv)\n",
    "    print(f\"★VotingRegressor MedAE Score(Avg): {np.mean(voting_score):.7f} ± {np.std(voting_score) * 2:.5f}\")\n",
    "\n",
    "    # Fit the model to the training data.\n",
    "    voting_reg.fit(X, y)\n",
    "\n",
    "    return voting_reg"
   ]
  },
  {
   "cell_type": "code",
   "execution_count": 46,
   "id": "5aec679b",
   "metadata": {
    "execution": {
     "iopub.execute_input": "2023-12-05T15:56:59.837171Z",
     "iopub.status.busy": "2023-12-05T15:56:59.836033Z",
     "iopub.status.idle": "2023-12-05T16:18:37.689768Z",
     "shell.execute_reply": "2023-12-05T16:18:37.688390Z"
    },
    "papermill": {
     "duration": 1297.892885,
     "end_time": "2023-12-05T16:18:37.693247",
     "exception": false,
     "start_time": "2023-12-05T15:56:59.800362",
     "status": "completed"
    },
    "tags": []
   },
   "outputs": [
    {
     "name": "stdout",
     "output_type": "stream",
     "text": [
      "[Applying NoScaling...]\n",
      "xgb_mae MedAE Score(Avg): 0.5532197\n",
      "xgb_quant MedAE Score(Avg): 0.5486504\n",
      "lgb_mae MedAE Score(Avg): 0.5342273\n",
      "lgb_quant MedAE Score(Avg): 0.5266510\n",
      "cb_mae MedAE Score(Avg): 0.5464936\n",
      "cb_quant MedAE Score(Avg): 0.5464936\n",
      "hgb MedAE Score(Avg): 0.5300827\n",
      "★Models MedAE Score(Avg) = 0.5408312 ± 0.01911\n",
      "\n",
      "============================================================\n",
      "\n",
      "[Applying StandardScaler...]\n",
      "xgb_mae MedAE Score(Avg): 0.5500363\n",
      "xgb_quant MedAE Score(Avg): 0.5494097\n",
      "lgb_mae MedAE Score(Avg): 0.5327985\n",
      "lgb_quant MedAE Score(Avg): 0.5263011\n",
      "cb_mae MedAE Score(Avg): 0.5478945\n",
      "cb_quant MedAE Score(Avg): 0.5478945\n",
      "hgb MedAE Score(Avg): 0.5295325\n",
      "★Models MedAE Score(Avg) = 0.5405525 ± 0.01943\n",
      "\n",
      "============================================================\n",
      "\n",
      "[Applying MinMaxScaler...]\n",
      "xgb_mae MedAE Score(Avg): 0.5479008\n",
      "xgb_quant MedAE Score(Avg): 0.5508841\n",
      "lgb_mae MedAE Score(Avg): 0.5344139\n",
      "lgb_quant MedAE Score(Avg): 0.5251707\n",
      "cb_mae MedAE Score(Avg): 0.5482906\n",
      "cb_quant MedAE Score(Avg): 0.5482906\n",
      "hgb MedAE Score(Avg): 0.5272157\n",
      "★Models MedAE Score(Avg) = 0.5403095 ± 0.02046\n",
      "\n",
      "============================================================\n",
      "\n",
      "[Applying RobustScaler...]\n",
      "xgb_mae MedAE Score(Avg): 0.5484929\n",
      "xgb_quant MedAE Score(Avg): 0.5501032\n",
      "lgb_mae MedAE Score(Avg): 0.5288557\n",
      "lgb_quant MedAE Score(Avg): 0.5324328\n",
      "cb_mae MedAE Score(Avg): 0.5479936\n",
      "cb_quant MedAE Score(Avg): 0.5479936\n",
      "hgb MedAE Score(Avg): 0.5295325\n",
      "★Models MedAE Score(Avg) = 0.5407720 ± 0.01834\n",
      "\n",
      "============================================================\n",
      "\n",
      "[Applying QuantileTransformer...]\n",
      "xgb_mae MedAE Score(Avg): 0.5432723\n",
      "xgb_quant MedAE Score(Avg): 0.5564466\n",
      "lgb_mae MedAE Score(Avg): 0.5302318\n",
      "lgb_quant MedAE Score(Avg): 0.5269638\n",
      "cb_mae MedAE Score(Avg): 0.5507409\n",
      "cb_quant MedAE Score(Avg): 0.5507409\n",
      "hgb MedAE Score(Avg): 0.5299439\n",
      "★Models MedAE Score(Avg) = 0.5411915 ± 0.02228\n",
      "\n",
      "============================================================\n",
      "\n",
      "[Applying LogTransform...]\n",
      "xgb_mae MedAE Score(Avg): 0.5547130\n",
      "xgb_quant MedAE Score(Avg): 0.5493270\n",
      "lgb_mae MedAE Score(Avg): 0.5360946\n",
      "lgb_quant MedAE Score(Avg): 0.5321787\n",
      "cb_mae MedAE Score(Avg): 0.5468074\n",
      "cb_quant MedAE Score(Avg): 0.5468074\n",
      "hgb MedAE Score(Avg): 0.5318285\n",
      "★Models MedAE Score(Avg) = 0.5425366 ± 0.01681\n",
      "\n",
      "============================================================\n",
      "\n",
      "[⚠️The best scaling]\n",
      "For xgb_mae, the best scaling method is QuantileTransformer with MedAE: 0.5432723\n",
      "For xgb_quant, the best scaling method is NoScaling with MedAE: 0.5486504\n",
      "For lgb_mae, the best scaling method is RobustScaler with MedAE: 0.5288557\n",
      "For lgb_quant, the best scaling method is MinMaxScaler with MedAE: 0.5251707\n",
      "For cb_mae, the best scaling method is NoScaling with MedAE: 0.5464936\n",
      "For cb_quant, the best scaling method is NoScaling with MedAE: 0.5464936\n",
      "For hgb, the best scaling method is MinMaxScaler with MedAE: 0.5272157\n",
      "\n",
      "Applying VotingClassifier for NoScaling...\n",
      "           weight per model\n",
      "xgb_mae            0.171654\n",
      "xgb_quant          0.164634\n",
      "lgb_mae            0.074263\n",
      "lgb_quant          0.216445\n",
      "cb_mae             0.060022\n",
      "cb_quant           0.060022\n",
      "hgb                0.270014\n",
      "★VotingRegressor MedAE Score(Avg) 0.5276154 ± 0.06023\n",
      "\n",
      "Applying VotingClassifier for StandardScaler...\n",
      "           weight per model\n",
      "xgb_mae            0.135859\n",
      "xgb_quant          0.137746\n",
      "lgb_mae            0.132415\n",
      "lgb_quant          0.268637\n",
      "cb_mae             0.064351\n",
      "cb_quant           0.064351\n",
      "hgb                0.213434\n",
      "★VotingRegressor MedAE Score(Avg) 0.5279148 ± 0.05837\n",
      "\n",
      "Applying VotingClassifier for MinMaxScaler...\n",
      "           weight per model\n",
      "xgb_mae            0.140821\n",
      "xgb_quant          0.134468\n",
      "lgb_mae            0.104576\n",
      "lgb_quant          0.200497\n",
      "cb_mae             0.085692\n",
      "cb_quant           0.085692\n",
      "hgb                0.264285\n",
      "★VotingRegressor MedAE Score(Avg) 0.5314678 ± 0.06569\n",
      "\n",
      "Applying VotingClassifier for RobustScaler...\n",
      "           weight per model\n",
      "xgb_mae            0.178672\n",
      "xgb_quant          0.139823\n",
      "lgb_mae            0.154242\n",
      "lgb_quant          0.159445\n",
      "cb_mae             0.084097\n",
      "cb_quant           0.084097\n",
      "hgb                0.216022\n",
      "★VotingRegressor MedAE Score(Avg) 0.5275904 ± 0.06074\n",
      "\n",
      "Applying VotingClassifier for QuantileTransformer...\n",
      "           weight per model\n",
      "xgb_mae            0.190915\n",
      "xgb_quant          0.100341\n",
      "lgb_mae            0.254026\n",
      "lgb_quant          0.040011\n",
      "cb_mae             0.081925\n",
      "cb_quant           0.081925\n",
      "hgb                0.265216\n",
      "★VotingRegressor MedAE Score(Avg) 0.5292288 ± 0.05843\n",
      "\n",
      "Applying VotingClassifier for LogTransform...\n",
      "           weight per model\n",
      "xgb_mae            0.108432\n",
      "xgb_quant          0.200276\n",
      "lgb_mae            0.177964\n",
      "lgb_quant          0.132195\n",
      "cb_mae             0.078010\n",
      "cb_quant           0.078010\n",
      "hgb                0.241428\n",
      "★VotingRegressor MedAE Score(Avg) 0.5272203 ± 0.05936\n"
     ]
    }
   ],
   "source": [
    "############ 로그 변환 포함 어떤 스케일링이 제일 효과적인지 계산 #############\n",
    "# Apply the function to compute out-of-fold predictions and average ROC AUC scores\n",
    "X, y = generateXY(df_train)\n",
    "\n",
    "all_oof_predictions, all_avg_medae_scores = apply_scaling_and_cv(origin_models, X, y, kf) # Modify Models\n",
    "\n",
    "# For each scaling method, create a VotingClassifier based on the out-of-fold predictions\n",
    "for scaler_name in all_oof_predictions.keys():\n",
    "    print(f\"\\nApplying VotingClassifier for {scaler_name}...\")\n",
    "\n",
    "    # Get the out-of-fold predictions for the current scaling method\n",
    "    oof_predictions = all_oof_predictions[scaler_name]\n",
    "\n",
    "    # Fit a Ridge Classifier to compute the weights.\n",
    "    weights = LADRegression().fit(oof_predictions, y).coef_\n",
    "    print(pd.DataFrame(weights, index = list(oof_predictions), columns = ['weight per model']))\n",
    "\n",
    "    # Create a voting classifier.\n",
    "    voting_reg = VotingRegressor(estimators=list(origin_models.items()), weights=weights.tolist()) # Modify Models\n",
    "\n",
    "    # Compute cross-validated\n",
    "    voting_score = -1 * cross_val_score(voting_reg, X, y, scoring='neg_median_absolute_error', cv=kf)\n",
    "    print(f\"★VotingRegressor MedAE Score(Avg) {np.mean(voting_score):.7f} ± {np.std(voting_score) * 2:.5f}\")\n",
    "\n",
    "    # Fit the model to the training data.\n",
    "    voting_reg.fit(X, y)\n"
   ]
  },
  {
   "cell_type": "code",
   "execution_count": 47,
   "id": "dabdcd12",
   "metadata": {
    "execution": {
     "iopub.execute_input": "2023-12-05T16:18:37.774637Z",
     "iopub.status.busy": "2023-12-05T16:18:37.773639Z",
     "iopub.status.idle": "2023-12-05T16:18:37.779361Z",
     "shell.execute_reply": "2023-12-05T16:18:37.778020Z"
    },
    "papermill": {
     "duration": 0.049387,
     "end_time": "2023-12-05T16:18:37.782003",
     "exception": false,
     "start_time": "2023-12-05T16:18:37.732616",
     "status": "completed"
    },
    "tags": []
   },
   "outputs": [],
   "source": [
    "# '''\n",
    "# Voting 앙상블 예측값 추출\n",
    "# '''\n",
    "# X, y = generateXY(df_train)\n",
    "# voting_reg = perform_voting(origin_models, X, y, kf)"
   ]
  },
  {
   "cell_type": "code",
   "execution_count": 48,
   "id": "1e6e5e0c",
   "metadata": {
    "execution": {
     "iopub.execute_input": "2023-12-05T16:18:37.862553Z",
     "iopub.status.busy": "2023-12-05T16:18:37.862144Z",
     "iopub.status.idle": "2023-12-05T16:18:37.867100Z",
     "shell.execute_reply": "2023-12-05T16:18:37.865980Z"
    },
    "papermill": {
     "duration": 0.048302,
     "end_time": "2023-12-05T16:18:37.869656",
     "exception": false,
     "start_time": "2023-12-05T16:18:37.821354",
     "status": "completed"
    },
    "tags": []
   },
   "outputs": [],
   "source": [
    "# VotingRegressor MedAE Score(Avg): 0.5296128 ± 0.04108\n",
    "# VotingRegressor MedAE Score(Avg): 0.5276154 ± 0.06023"
   ]
  },
  {
   "cell_type": "markdown",
   "id": "d43840ad",
   "metadata": {
    "papermill": {
     "duration": 0.038712,
     "end_time": "2023-12-05T16:18:37.947383",
     "exception": false,
     "start_time": "2023-12-05T16:18:37.908671",
     "status": "completed"
    },
    "tags": []
   },
   "source": [
    "### __2) Hill_Climbing 앙상블__ (with Weights)"
   ]
  },
  {
   "cell_type": "code",
   "execution_count": 49,
   "id": "7f30c09a",
   "metadata": {
    "execution": {
     "iopub.execute_input": "2023-12-05T16:18:38.028111Z",
     "iopub.status.busy": "2023-12-05T16:18:38.027543Z",
     "iopub.status.idle": "2023-12-05T16:18:38.041911Z",
     "shell.execute_reply": "2023-12-05T16:18:38.040620Z"
    },
    "papermill": {
     "duration": 0.058106,
     "end_time": "2023-12-05T16:18:38.044435",
     "exception": false,
     "start_time": "2023-12-05T16:18:37.986329",
     "status": "completed"
    },
    "tags": []
   },
   "outputs": [],
   "source": [
    "def hill_climbing(x, y, x_test):\n",
    "\n",
    "    # Evaluating oof predictions\n",
    "    scores = {}\n",
    "    for col in x.columns:\n",
    "        scores[col] = median_absolute_error(y, x[col])\n",
    "\n",
    "    # Sorting the model scores\n",
    "    scores = {k: v for k, v in sorted(scores.items(), key=lambda item: item[1])} \n",
    "\n",
    "    # Sort oof_df and test_preds\n",
    "    x = x[list(scores.keys())]\n",
    "    x_test = x_test[list(scores.keys())]\n",
    "\n",
    "    STOP = False\n",
    "    current_best_ensemble = x.iloc[:,0]\n",
    "    current_best_test_preds = x_test.iloc[:,0]\n",
    "    MODELS = x.iloc[:,1:]\n",
    "    weight_range = np.arange(-0.5, 0.51, 0.01) \n",
    "    history = [median_absolute_error(y, current_best_ensemble)]\n",
    "    j = 0\n",
    "\n",
    "    while not STOP:\n",
    "        j += 1\n",
    "        potential_new_best_cv_score = median_absolute_error(y, current_best_ensemble)\n",
    "        k_best, wgt_best = None, None\n",
    "        for k in MODELS:\n",
    "            for wgt in weight_range:\n",
    "                potential_ensemble = (1 - wgt) * current_best_ensemble + wgt * MODELS[k]\n",
    "                cv_score = median_absolute_error(y, potential_ensemble)\n",
    "                if cv_score < potential_new_best_cv_score: \n",
    "                    potential_new_best_cv_score = cv_score\n",
    "                    k_best, wgt_best = k, wgt\n",
    "\n",
    "        if k_best is not None:\n",
    "            current_best_ensemble = (1 - wgt_best) * current_best_ensemble + wgt_best * MODELS[k_best]\n",
    "            current_best_test_preds = (1 - wgt_best) * current_best_test_preds + wgt_best * x_test[k_best]\n",
    "            MODELS.drop(k_best, axis = 1, inplace = True)\n",
    "            if MODELS.shape[1] == 0:\n",
    "                STOP = True\n",
    "            history.append(potential_new_best_cv_score)\n",
    "        else:\n",
    "            STOP = True\n",
    "\n",
    "    hill_ens_pred_1 = current_best_ensemble\n",
    "    hill_ens_pred_2 = current_best_test_preds\n",
    "\n",
    "    return [hill_ens_pred_1, hill_ens_pred_2]"
   ]
  },
  {
   "cell_type": "code",
   "execution_count": 50,
   "id": "c0efe816",
   "metadata": {
    "execution": {
     "iopub.execute_input": "2023-12-05T16:18:38.128496Z",
     "iopub.status.busy": "2023-12-05T16:18:38.128051Z",
     "iopub.status.idle": "2023-12-05T16:18:38.138208Z",
     "shell.execute_reply": "2023-12-05T16:18:38.137291Z"
    },
    "papermill": {
     "duration": 0.055928,
     "end_time": "2023-12-05T16:18:38.140608",
     "exception": false,
     "start_time": "2023-12-05T16:18:38.084680",
     "status": "completed"
    },
    "tags": []
   },
   "outputs": [],
   "source": [
    "def perform_hill_climbing(models, X, y, cv):\n",
    "    hill_ens_cv_scores, hill_ens_preds = list(), list()\n",
    "\n",
    "    for i, (train_idx, test_idx) in enumerate(cv.split(X, y)):\n",
    "        X_train_fold, X_val_fold = X.iloc[train_idx], X.iloc[test_idx]\n",
    "        y_train_fold, y_val_fold = y.iloc[train_idx], y.iloc[test_idx]\n",
    "\n",
    "        preds_train = {}\n",
    "        preds_test = {}\n",
    "        for name, model in models.items():\n",
    "            trained_model = model.fit(X_train_fold, y_train_fold)\n",
    "            preds_train[name] = trained_model.predict(X_val_fold)\n",
    "            preds_test[name] = trained_model.predict(df_test)\n",
    "\n",
    "        oof_df_train, oof_df_test = pd.DataFrame(preds_train), pd.DataFrame(preds_test)\n",
    "\n",
    "        hill_results = hill_climbing(oof_df_train, y_val_fold, oof_df_test)\n",
    "\n",
    "        hill_ens_score_fold = median_absolute_error(y_val_fold, hill_results[0])\n",
    "        hill_ens_cv_scores.append(hill_ens_score_fold)\n",
    "        hill_ens_preds.append(hill_results[1])\n",
    "\n",
    "        print('Fold', i+1, '==> Hill Climbing Ensemble oof MedAE score is ==>', hill_ens_score_fold)\n",
    "\n",
    "    print(f\"★The hill climbing ensemble oof MedAE score over the {n_splits}-folds is {np.mean(hill_ens_cv_scores):.7f} ± {np.std(hill_ens_cv_scores) * 2:.5f}\")\n",
    "    return hill_ens_preds"
   ]
  },
  {
   "cell_type": "markdown",
   "id": "28289555",
   "metadata": {
    "papermill": {
     "duration": 0.039377,
     "end_time": "2023-12-05T16:18:38.220728",
     "exception": false,
     "start_time": "2023-12-05T16:18:38.181351",
     "status": "completed"
    },
    "tags": []
   },
   "source": [
    "- 힐클라이밍 앙상블 수행"
   ]
  },
  {
   "cell_type": "code",
   "execution_count": 51,
   "id": "d140a418",
   "metadata": {
    "execution": {
     "iopub.execute_input": "2023-12-05T16:18:38.303233Z",
     "iopub.status.busy": "2023-12-05T16:18:38.302800Z",
     "iopub.status.idle": "2023-12-05T16:18:38.308174Z",
     "shell.execute_reply": "2023-12-05T16:18:38.306820Z"
    },
    "papermill": {
     "duration": 0.049238,
     "end_time": "2023-12-05T16:18:38.310686",
     "exception": false,
     "start_time": "2023-12-05T16:18:38.261448",
     "status": "completed"
    },
    "tags": []
   },
   "outputs": [],
   "source": [
    "# X, y = generateXY(df_train)\n",
    "\n",
    "# hill_ens_preds = perform_hill_climbing(origin_models, X, y, kf)"
   ]
  },
  {
   "cell_type": "code",
   "execution_count": 52,
   "id": "8abd46cf",
   "metadata": {
    "execution": {
     "iopub.execute_input": "2023-12-05T16:18:38.390370Z",
     "iopub.status.busy": "2023-12-05T16:18:38.389956Z",
     "iopub.status.idle": "2023-12-05T16:18:38.394331Z",
     "shell.execute_reply": "2023-12-05T16:18:38.393042Z"
    },
    "papermill": {
     "duration": 0.047585,
     "end_time": "2023-12-05T16:18:38.396868",
     "exception": false,
     "start_time": "2023-12-05T16:18:38.349283",
     "status": "completed"
    },
    "tags": []
   },
   "outputs": [],
   "source": [
    "# ★The hill climbing ensemble oof MedAE score over the 5-folds is 0.5192183 ± 0.03398\n",
    "# ★The hill climbing ensemble oof MedAE score over the 10-folds is 0.5027685 ± 0.04291"
   ]
  },
  {
   "cell_type": "markdown",
   "id": "a1a837a1",
   "metadata": {
    "papermill": {
     "duration": 0.038876,
     "end_time": "2023-12-05T16:18:38.475767",
     "exception": false,
     "start_time": "2023-12-05T16:18:38.436891",
     "status": "completed"
    },
    "tags": []
   },
   "source": [
    "---"
   ]
  },
  {
   "cell_type": "markdown",
   "id": "53645209",
   "metadata": {
    "papermill": {
     "duration": 0.038711,
     "end_time": "2023-12-05T16:18:38.554399",
     "exception": false,
     "start_time": "2023-12-05T16:18:38.515688",
     "status": "completed"
    },
    "tags": []
   },
   "source": [
    "# 📝Final Submit"
   ]
  },
  {
   "cell_type": "code",
   "execution_count": 53,
   "id": "31ab99dc",
   "metadata": {
    "execution": {
     "iopub.execute_input": "2023-12-05T16:18:38.634868Z",
     "iopub.status.busy": "2023-12-05T16:18:38.634413Z",
     "iopub.status.idle": "2023-12-05T16:18:38.639213Z",
     "shell.execute_reply": "2023-12-05T16:18:38.637954Z"
    },
    "papermill": {
     "duration": 0.048291,
     "end_time": "2023-12-05T16:18:38.641923",
     "exception": false,
     "start_time": "2023-12-05T16:18:38.593632",
     "status": "completed"
    },
    "tags": []
   },
   "outputs": [],
   "source": [
    "# # Voting 앙상블 예측값 추출\n",
    "# # Make predictions on test data. \n",
    "# test_predictions = voting_reg.predict(df_test)"
   ]
  },
  {
   "cell_type": "code",
   "execution_count": 54,
   "id": "5c7fdf96",
   "metadata": {
    "execution": {
     "iopub.execute_input": "2023-12-05T16:18:38.723103Z",
     "iopub.status.busy": "2023-12-05T16:18:38.722654Z",
     "iopub.status.idle": "2023-12-05T16:18:39.441684Z",
     "shell.execute_reply": "2023-12-05T16:18:39.440035Z"
    },
    "papermill": {
     "duration": 0.762165,
     "end_time": "2023-12-05T16:18:39.443873",
     "exception": true,
     "start_time": "2023-12-05T16:18:38.681708",
     "status": "failed"
    },
    "tags": []
   },
   "outputs": [
    {
     "ename": "NameError",
     "evalue": "name 'hill_ens_preds' is not defined",
     "output_type": "error",
     "traceback": [
      "\u001b[0;31m---------------------------------------------------------------------------\u001b[0m",
      "\u001b[0;31mNameError\u001b[0m                                 Traceback (most recent call last)",
      "Cell \u001b[0;32mIn[54], line 2\u001b[0m\n\u001b[1;32m      1\u001b[0m \u001b[38;5;66;03m# Hill_Climbing 앙상블 예측값 추출\u001b[39;00m\n\u001b[0;32m----> 2\u001b[0m test_predictions \u001b[38;5;241m=\u001b[39m pd\u001b[38;5;241m.\u001b[39mDataFrame(\u001b[43mhill_ens_preds\u001b[49m)\u001b[38;5;241m.\u001b[39mapply(np\u001b[38;5;241m.\u001b[39mmean, axis \u001b[38;5;241m=\u001b[39m \u001b[38;5;241m0\u001b[39m)\n",
      "\u001b[0;31mNameError\u001b[0m: name 'hill_ens_preds' is not defined"
     ]
    }
   ],
   "source": [
    "# Hill_Climbing 앙상블 예측값 추출\n",
    "test_predictions = pd.DataFrame(hill_ens_preds).apply(np.mean, axis = 0)"
   ]
  },
  {
   "cell_type": "code",
   "execution_count": null,
   "id": "2a3ec38a",
   "metadata": {
    "execution": {
     "iopub.status.busy": "2023-12-04T18:20:59.210262Z",
     "iopub.status.idle": "2023-12-04T18:20:59.211099Z",
     "shell.execute_reply": "2023-12-04T18:20:59.210869Z",
     "shell.execute_reply.started": "2023-12-04T18:20:59.210848Z"
    },
    "papermill": {
     "duration": null,
     "end_time": null,
     "exception": null,
     "start_time": null,
     "status": "pending"
    },
    "tags": []
   },
   "outputs": [],
   "source": [
    "df_submit = pd.DataFrame({'id':ids_test,'Hardness': test_predictions})\n",
    "df_submit.head()"
   ]
  },
  {
   "cell_type": "code",
   "execution_count": null,
   "id": "ee482a1f",
   "metadata": {
    "execution": {
     "iopub.status.busy": "2023-12-04T18:20:59.212518Z",
     "iopub.status.idle": "2023-12-04T18:20:59.212927Z",
     "shell.execute_reply": "2023-12-04T18:20:59.212750Z",
     "shell.execute_reply.started": "2023-12-04T18:20:59.212731Z"
    },
    "papermill": {
     "duration": null,
     "end_time": null,
     "exception": null,
     "start_time": null,
     "status": "pending"
    },
    "tags": []
   },
   "outputs": [],
   "source": [
    "df_submit.to_csv('submission.csv', index=False)"
   ]
  },
  {
   "cell_type": "code",
   "execution_count": null,
   "id": "5cfdc8e0",
   "metadata": {
    "papermill": {
     "duration": null,
     "end_time": null,
     "exception": null,
     "start_time": null,
     "status": "pending"
    },
    "tags": []
   },
   "outputs": [],
   "source": []
  }
 ],
 "metadata": {
  "kaggle": {
   "accelerator": "none",
   "dataSources": [
    {
     "databundleVersionId": 6989718,
     "sourceId": 60892,
     "sourceType": "competition"
    }
   ],
   "dockerImageVersionId": 30587,
   "isGpuEnabled": false,
   "isInternetEnabled": true,
   "language": "python",
   "sourceType": "notebook"
  },
  "kernelspec": {
   "display_name": "Python 3",
   "language": "python",
   "name": "python3"
  },
  "language_info": {
   "codemirror_mode": {
    "name": "ipython",
    "version": 3
   },
   "file_extension": ".py",
   "mimetype": "text/x-python",
   "name": "python",
   "nbconvert_exporter": "python",
   "pygments_lexer": "ipython3",
   "version": "3.10.12"
  },
  "papermill": {
   "default_parameters": {},
   "duration": 1347.290518,
   "end_time": "2023-12-05T16:18:42.181566",
   "environment_variables": {},
   "exception": true,
   "input_path": "__notebook__.ipynb",
   "output_path": "__notebook__.ipynb",
   "parameters": {},
   "start_time": "2023-12-05T15:56:14.891048",
   "version": "2.4.0"
  }
 },
 "nbformat": 4,
 "nbformat_minor": 5
}
